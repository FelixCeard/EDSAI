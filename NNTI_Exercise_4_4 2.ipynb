{
 "cells": [
  {
   "cell_type": "markdown",
   "id": "3f3e234d",
   "metadata": {},
   "source": [
    "Name:   \n",
    "Matrikelnummer:  \n",
    "Email:   \n",
    "   \n",
    "Name:   \n",
    "Matrikelnummer:   \n",
    "Email:\n",
    "\n",
    "Name:    \n",
    "Matrikelnummer:    \n",
    "Email:    "
   ]
  },
  {
   "cell_type": "markdown",
   "id": "c956dd05",
   "metadata": {},
   "source": [
    "## 4.4.a Building your own feed-forward network"
   ]
  },
  {
   "cell_type": "markdown",
   "id": "ada51e96",
   "metadata": {},
   "source": [
    "Import numpy, which is really all we need to create our own NN."
   ]
  },
  {
   "cell_type": "code",
   "execution_count": 1,
   "id": "bb034177",
   "metadata": {},
   "outputs": [],
   "source": [
    "import numpy as np"
   ]
  },
  {
   "cell_type": "markdown",
   "id": "252678aa",
   "metadata": {},
   "source": [
    "Recall that our simple neural network consisted of two layers. We also added a `ReLU` function as a non-linearity to the output of our intermediate layer. Given an input $\\mathbf{x} \\in \\mathbb{R}^n $ we have\n",
    "\n",
    "$ \\mathbf{h} = f^{(1)}(\\mathbf{x}; \\mathbf{W},c) = ReLU(\\mathbf{W}^\\mathsf{T} \\mathbf{x} + c) $ \n",
    "\n",
    "$ \\mathbf{y} = f^{(2)}(\\mathbf{h}; \\mathbf{w},b) = \\text{$ softmax $}( \\mathbf{w}^\\mathsf{T} \\mathbf{h} + b) $"
   ]
  },
  {
   "cell_type": "markdown",
   "id": "121bd9f9",
   "metadata": {},
   "source": [
    "In this exercise you will create your own network. However, we will do it in a way that allows you to specify the depth of network, i.e. we extend our network such that there isn't just one $\\mathbf{h}$ intermediate layers, but rather $n$ of them $\\mathbf{h}_{i}$ with $i \\in \\{1,..., n\\}$\n",
    "\n",
    "**NOTE**: You are not allowed to use any built-in functions to calculate the ReLU, Softmax or the forward pass directly.\n",
    "\n",
    "**NOTE 2**: Remember to include the non-linearity at every layer. Remember to also add the bias to every layer. Finally, remember to apply the softmax in the output layer."
   ]
  },
  {
   "cell_type": "code",
   "execution_count": 2,
   "id": "3114d8cb",
   "metadata": {},
   "outputs": [],
   "source": [
    "def relu(x):\n",
    "    \"\"\"\n",
    "    Implement the ReLU function as defined in the lecture\n",
    "    Input: an array of numbers\n",
    "    Output: ReLU(x)\n",
    "    \"\"\"\n",
    "    x[x<0] = 0\n",
    "    return x"
   ]
  },
  {
   "cell_type": "code",
   "execution_count": 3,
   "id": "f8b77127",
   "metadata": {},
   "outputs": [],
   "source": [
    "def softmax(x):\n",
    "    \"\"\"\n",
    "    Implement the `softmax` function as defined in the lecture\n",
    "    \"\"\"\n",
    "    x = np.exp(x) / (np.exp(x).sum())\n",
    "    return x"
   ]
  },
  {
   "cell_type": "code",
   "execution_count": 4,
   "id": "d8e87fc3",
   "metadata": {},
   "outputs": [],
   "source": [
    "class FFNetwork:\n",
    "    \"\"\"\n",
    "    Class representing the feed-forward neural network\n",
    "    \"\"\"\n",
    "    def __init__(self, input_dim: int, hidden_dim: int,\n",
    "                 output_dim: int, hidden_size: int):\n",
    "        \"\"\"\n",
    "        Args:\n",
    "        input_dim: dimensionality of `x`\n",
    "        hidden_dim: dimensionality of the intermediate `h_i`\n",
    "        output_dim: dimensionality of `y`\n",
    "        hidden_size: number of intermediate layers `h_i`\n",
    "        \"\"\"\n",
    "        # TODO: Implement\n",
    "        # Initialize each layer as a random matrix of the\n",
    "        # appropriate dimensions\n",
    "        \n",
    "        ## SOLUTION ##\n",
    "\n",
    "        self.layers = []\n",
    "        \n",
    "        # first layer\n",
    "        self.layers.append([np.random.randn(input_dim, hidden_dim), np.zeros(hidden_dim)])\n",
    "        \n",
    "        # middle layer(s)\n",
    "        for i in range(hidden_size):\n",
    "            self.layers.append([np.random.randn(hidden_dim, hidden_dim), np.zeros(hidden_dim)])\n",
    "        \n",
    "        # last layer\n",
    "        self.layers.append([np.random.randn(hidden_dim, output_dim), np.zeros(output_dim)])\n",
    "        \n",
    "        ## SOLUTION ##\n",
    "    \n",
    "    def forward(self, x):\n",
    "        \"\"\"\n",
    "        Args:\n",
    "        x: input to the neural network\n",
    "        \n",
    "        Output:\n",
    "        `y`, i.e. the prediction of the network\n",
    "        \n",
    "        Note: Remember to apply the ReLU and add the bias for each layer\n",
    "        \"\"\"\n",
    "        # TODO: Implement the forward pass of the network,\n",
    "        # i.e. calculate `y` from an input `x`\n",
    "        # Remember that each layer's output is calculated by\n",
    "        # f^(i) = ReLU(W_i^T * f^(i-1) + b_i)\n",
    "        res = x\n",
    "        \n",
    "        ## SOLUTION ##\n",
    "        \n",
    "        # first layer\n",
    "        W, b = self.layers[0]\n",
    "        res = res@W + b\n",
    "        res = relu(res)\n",
    "        \n",
    "        # middle layers\n",
    "        for W, b in self.layers[1:-1]:\n",
    "            res = res@W + b\n",
    "            res = relu(res)\n",
    "            \n",
    "        # last layer\n",
    "        W, b = self.layers[-1]\n",
    "        res = res@W + b\n",
    "        res = softmax(res)\n",
    "        \n",
    "        ## SOLUTION ##\n",
    "        \n",
    "        return res"
   ]
  },
  {
   "cell_type": "markdown",
   "id": "30cd64a7",
   "metadata": {},
   "source": [
    "Your implementation needs to be compatible with the following test code:"
   ]
  },
  {
   "cell_type": "code",
   "execution_count": 5,
   "id": "c2109ceb",
   "metadata": {},
   "outputs": [
    {
     "data": {
      "text/plain": [
       "array([0.1314611, 0.8685389])"
      ]
     },
     "execution_count": 5,
     "metadata": {},
     "output_type": "execute_result"
    }
   ],
   "source": [
    "np.random.seed(0)\n",
    "\n",
    "# A configuration that reflects the example from the lecture\n",
    "# i.e. our input is of size 2, our intermediate layers are also of size 2,\n",
    "# and we will only have 1 hidden layer.\n",
    "network = FFNetwork(2, 2, 2, 1)\n",
    "network.forward([1.,0.])"
   ]
  },
  {
   "cell_type": "markdown",
   "id": "6dae8166",
   "metadata": {},
   "source": [
    "Disclaimer: Do not expect a correct output at this stage, you are simply building the structure of the network."
   ]
  },
  {
   "cell_type": "markdown",
   "id": "610d5d26",
   "metadata": {},
   "source": [
    "However, our setup also allows us to create larger networks:"
   ]
  },
  {
   "cell_type": "code",
   "execution_count": 6,
   "id": "452ce6b7",
   "metadata": {},
   "outputs": [
    {
     "data": {
      "text/plain": [
       "array([0.17044382, 0.82955618])"
      ]
     },
     "execution_count": 6,
     "metadata": {},
     "output_type": "execute_result"
    }
   ],
   "source": [
    "np.random.seed(0)\n",
    "\n",
    "network = FFNetwork(2, 3, 2, 1)\n",
    "network.forward([1.,0.]) "
   ]
  },
  {
   "cell_type": "markdown",
   "id": "dc484337",
   "metadata": {},
   "source": [
    "Some sanity checks:\n",
    "\n",
    "1. You should be seeing the number of units you specified as output units in your output.\n",
    "1. The numbers in your outputs should be in the range $[0,1]$\n",
    "1. The numbers should add up to $1$\n",
    "1. Varying the structure of the network should not break its functionality."
   ]
  },
  {
   "cell_type": "markdown",
   "id": "3ba70186",
   "metadata": {},
   "source": [
    "## 4.4.b Implementing a feed-forward network using `torch`\n",
    "\n",
    "### 4.4.b.1 Creating the network (1 point)"
   ]
  },
  {
   "cell_type": "markdown",
   "id": "5167133e",
   "metadata": {},
   "source": [
    "For this we will be using the `nn` module of `torch`, which contains modules representing types of layers. In your case, the specific relevant module would be that of a *fully connected linear layer*.\n",
    "\n",
    "We will also be using the `nn.functional` module to take advantage of the built in functions for ReLU and Softmax. In this exercise, you are allowed to use them."
   ]
  },
  {
   "cell_type": "code",
   "execution_count": 7,
   "id": "3298c419",
   "metadata": {},
   "outputs": [],
   "source": [
    "import torch\n",
    "import torch.nn.functional as F\n",
    "\n",
    "from torch import nn"
   ]
  },
  {
   "cell_type": "code",
   "execution_count": 8,
   "id": "ed85010f",
   "metadata": {},
   "outputs": [],
   "source": [
    "class TorchFFNetwork(nn.Module):\n",
    "    \"\"\"\n",
    "    A `torch` version of the network implemented for 4.3.b\n",
    "    \"\"\"\n",
    "    def __init__(self, input_dim: int, hidden_dim: int,\n",
    "                 output_dim: int, hidden_size: int):\n",
    "        \"\"\"\n",
    "        Args:\n",
    "        input_dim: dimensionality of `x`\n",
    "        hidden_dim: dimensionality of the intermediate `h_i`\n",
    "        output_dim: dimensionality of `y`\n",
    "        hidden_size: number of intermediate layers `h_i`\n",
    "        \"\"\"\n",
    "        ## SOLUTION ##\n",
    "        \n",
    "        super(TorchFFNetwork, self).__init__()\n",
    "        \n",
    "        layers = [nn.Linear(input_dim, hidden_dim, bias=True)] \n",
    "        layers.append(nn.ReLU())\n",
    "        for i in range(hidden_size):\n",
    "            layers.append(nn.Linear(hidden_dim, hidden_dim, bias=True))\n",
    "            layers.append(nn.ReLU())\n",
    "        layers.append(nn.Linear(hidden_dim, output_dim, bias=True))\n",
    "        layers.append(nn.Softmax(dim = 0)) \n",
    "        \n",
    "        self.layers = nn.Sequential(*layers)\n",
    "        \n",
    "        \n",
    "        ## SOLUTION ##\n",
    "\n",
    "    def forward(self, x):\n",
    "        ## SOLUTION ##\n",
    "        \n",
    "        return self.layers(x)\n",
    "        \n",
    "        ## SOLUTION ##\n",
    "         \n"
   ]
  },
  {
   "cell_type": "markdown",
   "id": "2c871745",
   "metadata": {},
   "source": [
    "Your implementation, once more, needs to be compatible with the following test code:"
   ]
  },
  {
   "cell_type": "code",
   "execution_count": 9,
   "id": "2c1c4302",
   "metadata": {},
   "outputs": [],
   "source": [
    "torch_network = TorchFFNetwork(2, 3, 2, 1)"
   ]
  },
  {
   "cell_type": "code",
   "execution_count": 10,
   "id": "1a2cfabc",
   "metadata": {},
   "outputs": [
    {
     "name": "stdout",
     "output_type": "stream",
     "text": [
      "tensor([0.3202, 0.6798])\n"
     ]
    }
   ],
   "source": [
    "with torch.no_grad():\n",
    "    print(torch_network(torch.tensor([1.,0.])))"
   ]
  },
  {
   "cell_type": "markdown",
   "id": "addfc177",
   "metadata": {},
   "source": [
    "Note that the `forward` method is automatically called when you call your network object."
   ]
  },
  {
   "cell_type": "markdown",
   "id": "6b823a72",
   "metadata": {},
   "source": [
    "### 4.4.b.2 Training your network (1 point)\n",
    "\n",
    "Even though we have not covered how training actually works, we will proceed with the training of the a neural network as a blackbox procedure and we will later on learn the internals of the training process (and even implement them ourselves!).\n",
    "\n",
    "For now, train a neural network (the one you created above) to learn the XOR operation. You are to create a neural network with the appropriate number of input variables, an intermediate hidden layer with 2 units and an output layer with 2 units.\n",
    "\n",
    "Notes:\n",
    "- Please read [this introduction to the optimization loop in PyTorch](https://pytorch.org/tutorials/beginner/basics/optimization_tutorial.html#optimization-loop). It should give you a good overview to what PyTorch needs from you to train a neural network.\n",
    "- You are to train the network until the network learns the operation. Remember to set your random seeds so the results are reproducible.\n",
    "- There are many optimizers available and Adam is an optimizer that's more complex than SGD. It has not yet been covered in the lecture but its usage in code is equivalent to that of SGD and performs much better."
   ]
  },
  {
   "cell_type": "code",
   "execution_count": 11,
   "id": "399c98c8",
   "metadata": {},
   "outputs": [],
   "source": [
    "# Our training X, where each instance includes an x1 and an x2, (where the operation is defined as x1 XOR x2)\n",
    "training_x = [[0,0], [0,1], [1,0], [1,1]]\n",
    "\n",
    "# We have only covered softmax in the lecture, so we format the output as follows:\n",
    "training_y = [[1,0], [0,1], [0,1], [1,0]]\n",
    "\n",
    "# The Y is formatted such that the its first element corresponds to the probability of the XOR resulting in a 0\n",
    "# and the second element to the probability of the XOR resulting in a 1\n",
    "\n",
    "################################################################\n",
    "# TODO: Adapt the training set so it can be used with `pytorch`\n",
    "################################################################"
   ]
  },
  {
   "cell_type": "code",
   "execution_count": 43,
   "id": "c8697ef3",
   "metadata": {},
   "outputs": [],
   "source": [
    "# Create the model from the previous class and pick a learning rate\n",
    "torch.manual_seed(42)\n",
    "model = TorchFFNetwork(2, 2, 2, 1)\n",
    "learning_rate = 0.0003"
   ]
  },
  {
   "cell_type": "code",
   "execution_count": 56,
   "id": "65516831",
   "metadata": {},
   "outputs": [],
   "source": [
    "def train_loop(data, model, loss_fn, optimizer):\n",
    "    X, Y = data\n",
    "    optimizer.zero_grad()\n",
    "    prediction = model(torch.tensor(X).float())\n",
    "    loss = torch.sum((prediction - torch.tensor(Y))**2)\n",
    "    loss.backward()\n",
    "    optimizer.step()"
   ]
  },
  {
   "cell_type": "code",
   "execution_count": 57,
   "id": "58208004",
   "metadata": {},
   "outputs": [
    {
     "data": {
      "text/plain": [
       "tensor([[0.2528, 0.2580],\n",
       "        [0.2675, 0.2703],\n",
       "        [0.2358, 0.2341],\n",
       "        [0.2439, 0.2376]], grad_fn=<SoftmaxBackward0>)"
      ]
     },
     "execution_count": 57,
     "metadata": {},
     "output_type": "execute_result"
    }
   ],
   "source": [
    "# TODO: Run training\n",
    "optimizer = torch.optim.Adam(model.parameters(), lr=learning_rate)\n",
    "train_loop((training_x, training_y), model, None, optimizer)\n",
    "\n",
    "model(torch.tensor(training_x).float())"
   ]
  },
  {
   "cell_type": "code",
   "execution_count": null,
   "id": "f6f097d9",
   "metadata": {},
   "outputs": [],
   "source": []
  }
 ],
 "metadata": {
  "kernelspec": {
   "display_name": "Python 3 (ipykernel)",
   "language": "python",
   "name": "python3"
  },
  "language_info": {
   "codemirror_mode": {
    "name": "ipython",
    "version": 3
   },
   "file_extension": ".py",
   "mimetype": "text/x-python",
   "name": "python",
   "nbconvert_exporter": "python",
   "pygments_lexer": "ipython3",
   "version": "3.7.7"
  }
 },
 "nbformat": 4,
 "nbformat_minor": 5
}
