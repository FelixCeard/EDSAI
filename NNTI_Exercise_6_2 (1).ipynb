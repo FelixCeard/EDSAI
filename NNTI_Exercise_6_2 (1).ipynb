{
 "cells": [
  {
   "cell_type": "markdown",
   "id": "3f3e234d",
   "metadata": {},
   "source": [
    "Name:   \n",
    "Matrikelnummer:  \n",
    "Email:   \n",
    "   \n",
    "Name:   \n",
    "Matrikelnummer:   \n",
    "Email:\n",
    "\n",
    "Name:    \n",
    "Matrikelnummer:    \n",
    "Email:    "
   ]
  },
  {
   "cell_type": "markdown",
   "id": "56009306-ebf1-4707-a8fb-58bf315689b5",
   "metadata": {},
   "source": [
    "### Note: This assignment will extensively refer to coding exercise in assignment 4."
   ]
  },
  {
   "cell_type": "markdown",
   "id": "c956dd05",
   "metadata": {},
   "source": [
    "## 6.2.a Building your own Neural-Network"
   ]
  },
  {
   "cell_type": "markdown",
   "id": "ada51e96",
   "metadata": {},
   "source": [
    "Import numpy, which is really all we need to create our own NN."
   ]
  },
  {
   "cell_type": "code",
   "execution_count": 198,
   "id": "bb034177",
   "metadata": {},
   "outputs": [],
   "source": [
    "import numpy as np\n",
    "# Remember to Fix your seeds for pytorch and numpy"
   ]
  },
  {
   "cell_type": "markdown",
   "id": "252678aa",
   "metadata": {},
   "source": [
    "Recall that our simple neural network consisted of two layers. We also added an `activation` function as a non-linearity to the output of our intermediate layer. Given an input $\\mathbf{x} \\in \\mathbb{R}^n $ we have\n",
    "\n",
    "$ \\mathbf{h} = f^{(1)}(\\mathbf{x}; \\mathbf{W},c) = activation\\_fn(\\mathbf{W}^\\mathsf{T} \\mathbf{x} + c) $ \\\n",
    "\n",
    "\n",
    "$ \\mathbf{y} = f^{(2)}(\\mathbf{h}; \\mathbf{w},b) = \\text{softmax}( \\mathbf{w}^\\mathsf{T} \\mathbf{h} + b) $"
   ]
  },
  {
   "cell_type": "markdown",
   "id": "121bd9f9",
   "metadata": {},
   "source": [
    "In this exercise you will create your own network and are free to implement it with your own design choices. However, we will do it in a way that allows you to specify the depth of network, i.e. we extend our network such that there isn't just one $\\mathbf{h}$ intermediate layers, but rather $n$ of them $\\mathbf{h}_{i}$ with $i \\in \\{1,..., n\\}$\n",
    "\n",
    "**NOTE**: You are not allowed to use any built-in functions to calculate Leaky_ReLU, Softmax or the forward/backward pass directly.\n",
    "\n",
    "**NOTE 2**: Remember to include the non-linearity at every layer. Remember to also add the bias to every layer. Finally, remember to apply the softmax in the output layer."
   ]
  },
  {
   "cell_type": "markdown",
   "id": "7f66f378",
   "metadata": {},
   "source": [
    "## ToDo: Rewrite the Leaky_ReLu and Softmax function as Class and implement a function in each of them to calculate gradients (1 point)\n",
    "Remember that in PyTorch, these are implemented as classes so we also want to have them as classes."
   ]
  },
  {
   "cell_type": "code",
   "execution_count": 199,
   "id": "3114d8cb",
   "metadata": {},
   "outputs": [],
   "source": [
    "class leaky_relu:\n",
    "    \"\"\"\n",
    "    Recall your implementation of relu function in assignment 4 and try to implement\n",
    "    Leaky_ReLu similarily, but as a class with a function to calculate gradient\n",
    "    \"\"\"\n",
    "\n",
    "    def __init__(self, alpha=0.2):\n",
    "        self.alpha = alpha\n",
    "        self.output = None\n",
    "\n",
    "    def forward(self, x):\n",
    "        x[x<0] = x[x<0] * self.alpha\n",
    "        self.output = x.copy()  # for backpropagation?\n",
    "        return x\n",
    "\n",
    "    def gradient(self):\n",
    "        assert self.output is not None\n",
    "        grad = np.ones(self.output.shape[0], dtype=float)\n",
    "        grad[self.output > 0] = 1.0\n",
    "        grad[self.output < 1] = self.alpha\n",
    "\n",
    "        return grad"
   ]
  },
  {
   "cell_type": "code",
   "execution_count": 200,
   "id": "f8b77127",
   "metadata": {},
   "outputs": [],
   "source": [
    "class softmax:\n",
    "    \"\"\"\n",
    "    Recall your implementation of softmax function in assignment 4 and try to implement\n",
    "    softmax similarily, but as a class with a function to calculate gradient\n",
    "    \"\"\"\n",
    "    def __init__(self):\n",
    "        self.output = None\n",
    "        self.input = None\n",
    "\n",
    "    def forward(self, x):\n",
    "        self.input = x.copy()\n",
    "        x = np.exp(x) / (np.exp(x).sum())\n",
    "        self.output = x.copy()\n",
    "        return x\n",
    "\n",
    "    def gradient(self):\n",
    "        length = self.output.shape[0]\n",
    "\n",
    "        grad = np.zeros((length, length))\n",
    "        for i in range(length):\n",
    "            for j in range(length):\n",
    "                if i == j:\n",
    "                    grad[i][j] = self.output[i] * (1 - self.output[j])\n",
    "                else:\n",
    "                    grad[i][j] = self.output[i] * (0 - self.output[j])\n",
    "\n",
    "        return grad"
   ]
  },
  {
   "cell_type": "markdown",
   "source": [],
   "metadata": {
    "collapsed": false
   }
  },
  {
   "cell_type": "markdown",
   "id": "59dde97f",
   "metadata": {},
   "source": [
    "## ToDo: Calculate the gradient using your implemented functions in their respective classes and validate by manually calculating gradients using a toy value. (1 point)"
   ]
  },
  {
   "cell_type": "code",
   "execution_count": 201,
   "id": "76203a80-9b13-4012-879f-10f78bc6dd7f",
   "metadata": {},
   "outputs": [
    {
     "name": "stdout",
     "output_type": "stream",
     "text": [
      "[Relu] output:\n",
      " [ 1.   1.   0.  -0.2]\n",
      "[Relu] gradient:\n",
      " [1.  1.  0.2 0.2]\n",
      "[Softmax] output:\n",
      " [0.31894516 0.31894516 0.31894516 0.04316453]\n",
      "[Softmax] gradient:\n",
      " [[ 0.21721914 -0.10172601 -0.10172601 -0.01376712]\n",
      " [-0.10172601  0.21721914 -0.10172601 -0.01376712]\n",
      " [-0.10172601 -0.10172601  0.21721914 -0.01376712]\n",
      " [-0.01376712 -0.01376712 -0.01376712  0.04130136]]\n"
     ]
    }
   ],
   "source": [
    "## Solution\n",
    "input_array = np.array([1.0, 1, 0, -1])\n",
    "\n",
    "# relu\n",
    "relu = leaky_relu()\n",
    "relu_output = relu.forward(input_array)\n",
    "print('[Relu] output:\\n', relu_output)\n",
    "# gradient\n",
    "gradient = relu.gradient()\n",
    "print('[Relu] gradient:\\n', gradient)\n",
    "\n",
    "# softmax\n",
    "input_array = np.array([1, 1, 1, -1])\n",
    "cstm_sftmx = softmax()\n",
    "softmax_output = cstm_sftmx.forward(input_array)\n",
    "softmax_gradient = cstm_sftmx.gradient()\n",
    "print('[Softmax] output:\\n', softmax_output)\n",
    "print('[Softmax] gradient:\\n', softmax_gradient)\n",
    "\n",
    "# is more expected???\n",
    "# WHat does \"validate by manually calculating gradients using a toy value.\"\n",
    "# Relu is trivial\n",
    "# Softmax is an algorithmic implementation of my proof => same result"
   ]
  },
  {
   "cell_type": "markdown",
   "id": "07be4f42",
   "metadata": {},
   "source": [
    "## ToDo: Rewrite the code from Assignment 4 to include backpropagation in your class without using pytorch. Remember to use your Leaky_ReLu class here as activation function. (1.5 points)\n",
    "#### Feel free to refer to your solutions from Assignment 4."
   ]
  },
  {
   "cell_type": "code",
   "execution_count": 236,
   "id": "d8e87fc3",
   "metadata": {},
   "outputs": [
    {
     "name": "stdout",
     "output_type": "stream",
     "text": [
      "[0.19458777 0.80541223]\n",
      "[(array([[-0.29943606,  0.11864969],\n",
      "       [ 0.29943606, -0.11864969]]), array([[ 0.00000000e+00],\n",
      "       [-5.55111512e-17]])), (array([[1.76405235, 0.40015721],\n",
      "       [0.35281047, 0.08003144]]), array([[1.2]])), (array([[1. , 0. ],\n",
      "       [0.2, 0. ]]), array([[1.2]]))]\n",
      "[[1.  0. ]\n",
      " [0.2 0. ]]\n"
     ]
    }
   ],
   "source": [
    "class FFNetwork:\n",
    "    \"\"\"\n",
    "    Class representing the feed-forward neural network\n",
    "    \"\"\"\n",
    "    def __init__(self, input_dim: int, hidden_dim: int,\n",
    "                 output_dim: int, hidden_size: int, lr:float = 0.01):\n",
    "        \"\"\"\n",
    "        Args:\n",
    "        input_dim: dimensionality of `x`\n",
    "        hidden_dim: dimensionality of the intermediate `h_i`\n",
    "        output_dim: dimensionality of `y`\n",
    "        hidden_size: number of intermediate layers `h_i`\n",
    "        \"\"\"\n",
    "\n",
    "        ## SOLUTION ##\n",
    "\n",
    "        self.layers = []\n",
    "\n",
    "        # first layer\n",
    "        self.layers.append([np.random.randn(input_dim, hidden_dim), np.zeros(hidden_dim), leaky_relu()])\n",
    "\n",
    "        # middle layer(s)\n",
    "        for i in range(hidden_size):\n",
    "            self.layers.append([np.random.randn(hidden_dim, hidden_dim), np.zeros(hidden_dim), leaky_relu()])\n",
    "\n",
    "        # last layer\n",
    "        self.layers.append([np.random.randn(hidden_dim, output_dim), np.zeros(output_dim), softmax()])\n",
    "\n",
    "        self.res = None\n",
    "        self.inputs = None\n",
    "\n",
    "        self.layer_output = []\n",
    "\n",
    "        self.grads = []\n",
    "        self.lr = lr\n",
    "\n",
    "        ## SOLUTION ##\n",
    "\n",
    "    def forward(self, x):\n",
    "        \"\"\"\n",
    "        Args:\n",
    "        x: input to the neural network\n",
    "\n",
    "        Output:\n",
    "        `y`, i.e. the prediction of the network\n",
    "\n",
    "        Note: Remember to apply the ReLU and add the bias for each layer\n",
    "        \"\"\"\n",
    "        res = x\n",
    "        self.inputs = x.copy()\n",
    "\n",
    "        ## SOLUTION ##\n",
    "\n",
    "        # first layer\n",
    "        W, b, activation = self.layers[0]\n",
    "        res = res@W + b\n",
    "        res = activation.forward(res)\n",
    "\n",
    "        self.layer_output.append(res.copy())\n",
    "\n",
    "        # middle layers\n",
    "        for W, b, activation in self.layers[1:-1]:\n",
    "            res = res@W + b\n",
    "            res = activation.forward(res)\n",
    "            self.layer_output.append(res.copy())\n",
    "\n",
    "        # last layer\n",
    "        W, b, activation = self.layers[-1]\n",
    "        res = res@W + b\n",
    "        res = activation.forward(res)\n",
    "        self.layer_output.append(res.copy())\n",
    "\n",
    "        ## SOLUTION ##\n",
    "        self.res = res\n",
    "\n",
    "        return res\n",
    "\n",
    "    def backpropagation(self):\n",
    "\n",
    "        # compute the gradients w.r.t. the weights and biases\n",
    "        for i, (W, b, activation) in enumerate(reversed(self.layers)):\n",
    "            activation_gradient = np.array(activation.gradient())\n",
    "\n",
    "            layer_output = np.array(self.layer_output[:-i-1])\n",
    "            if layer_output.shape[0] == 0:\n",
    "                layer_output = np.array(self.inputs)\n",
    "                layer_output = np.expand_dims(layer_output, axis=1).T\n",
    "\n",
    "            if len(activation_gradient.shape) == 1:\n",
    "                activation_gradient = np.expand_dims(activation_gradient, axis=1)\n",
    "\n",
    "\n",
    "            # print('## Layer:', len(self.layers) - i, \"##\")\n",
    "            # print('grad:', activation_gradient.shape)\n",
    "            # print('res:', layer_output.shape)\n",
    "            # print('W:', W.shape)\n",
    "            # print('b:', b.shape)\n",
    "\n",
    "            dW = activation_gradient@layer_output\n",
    "            db = activation_gradient.T@(np.ones((activation_gradient.shape[0], 1)))\n",
    "\n",
    "            self.grads.append((dW, db))\n",
    "\n",
    "        # update the weights\n",
    "        for i in range(len(self.layers)):\n",
    "            W, b, a = self.layers[-i-1]\n",
    "            dW, db = self.grads[-i-1]\n",
    "\n",
    "            self.layers[-i-1] = (\n",
    "                W - self.lr * dW,\n",
    "                b - self.lr * db,\n",
    "                a\n",
    "            )\n",
    "\n",
    "\n",
    "\n",
    "\n",
    "\n",
    "\n",
    "np.random.seed(0)\n",
    "\n",
    "network = FFNetwork(2, 2, 2, 1)\n",
    "print(network.forward([1.,0.]))\n",
    "\n",
    "network.backpropagation()\n",
    "\n",
    "print(network.grads)\n",
    "print(network.grads[-1][0])"
   ]
  },
  {
   "cell_type": "markdown",
   "source": [
    "# same layer in pytorch"
   ],
   "metadata": {
    "collapsed": false
   }
  },
  {
   "cell_type": "code",
   "execution_count": 235,
   "outputs": [
    {
     "name": "stdout",
     "output_type": "stream",
     "text": [
      "tensor([0.1946, 0.8054], dtype=torch.float64, grad_fn=<SoftmaxBackward0>)\n"
     ]
    },
    {
     "data": {
      "text/plain": "tensor([[-0.5759,  0.5759],\n        [ 0.0559, -0.0559]], dtype=torch.float64)"
     },
     "execution_count": 235,
     "metadata": {},
     "output_type": "execute_result"
    }
   ],
   "source": [
    "import torch\n",
    "from torch.autograd import Variable\n",
    "\n",
    "np.random.seed(0)\n",
    "\n",
    "network = FFNetwork(2, 2, 2, 1)\n",
    "network.forward([1.,0.])\n",
    "\n",
    "torch_params = []\n",
    "ppp = []\n",
    "\n",
    "for W, b, _ in network.layers:\n",
    "    _W = Variable(torch.tensor(W.copy()), requires_grad=True)\n",
    "    _b = Variable(torch.tensor(b.copy()), requires_grad=True)\n",
    "\n",
    "    torch_params.append((_W, _b))\n",
    "\n",
    "    ppp.append(_W)\n",
    "    ppp.append(_b)\n",
    "\n",
    "\n",
    "\n",
    "# optimizer\n",
    "sgd = torch.optim.SGD(lr=network.lr, params=ppp)\n",
    "sgd.zero_grad()\n",
    "\n",
    "# forward\n",
    "x = torch.tensor([1.,0.], dtype=torch.double)\n",
    "lrelu = torch.nn.LeakyReLU(0.2)\n",
    "sftmx = torch.nn.Softmax(dim=0)\n",
    "\n",
    "W, b = torch_params[0]\n",
    "x = lrelu(x@W + b)\n",
    "\n",
    "W, b = torch_params[1]\n",
    "x = lrelu(x@W + b)\n",
    "\n",
    "W, b = torch_params[2]\n",
    "x = sftmx(x@W + b)\n",
    "\n",
    "# x = torch.sum(x-torch.tensor([0, 1]))\n",
    "\n",
    "print(x)\n",
    "\n",
    "x[1].backward()\n",
    "# sgd.step()\n",
    "\n",
    "# W, b = torch_params[0]\n",
    "W.grad\n",
    "\n"
   ],
   "metadata": {
    "collapsed": false
   }
  },
  {
   "cell_type": "markdown",
   "id": "6b823a72",
   "metadata": {
    "tags": []
   },
   "source": [
    "### 6.2.b.2 Training a network for MNIST (1.5 points)\n",
    "\n",
    "Now that we know how to train a Neural network in Pytorch. Let's start training and evaluating our model using a very standard dataset, for now let's use MNIST. Design a network from scracth using PyTorch and include the followings. Remember that we need to use forward-propagation and backprop.\n",
    "- Training Loop\n",
    "- Optimization \n",
    "- Evaluating Loop"
   ]
  },
  {
   "cell_type": "code",
   "execution_count": 204,
   "id": "3298c419",
   "metadata": {},
   "outputs": [],
   "source": [
    "import torch\n",
    "import torch.nn.functional as F\n",
    "\n",
    "from torch import nn"
   ]
  },
  {
   "cell_type": "code",
   "execution_count": 205,
   "id": "ed85010f",
   "metadata": {},
   "outputs": [],
   "source": [
    "class TorchFFNetwork(nn.Module):\n",
    "    \"\"\"\n",
    "    A pytorch implementation to do classification for MNIST dataset.\n",
    "    \"\"\"\n",
    "\n",
    "    def __init__():\n",
    "        raise NotImplementedError"
   ]
  },
  {
   "cell_type": "markdown",
   "id": "5f6f17a8-4877-4813-b4ad-cc2d41b05be9",
   "metadata": {},
   "source": [
    "### ToDo: Implement functions for Stochastic Gradient Descent and Stochastic Gradient Descent with momentum and plot the difference on how they change the value for gradients. ( 1 + 1 (Bonus))"
   ]
  },
  {
   "cell_type": "code",
   "execution_count": 205,
   "id": "0e99bc82-b090-43a0-91a3-8b2e8352c772",
   "metadata": {},
   "outputs": [],
   "source": []
  }
 ],
 "metadata": {
  "kernelspec": {
   "display_name": "Python 3 (ipykernel)",
   "language": "python",
   "name": "python3"
  },
  "language_info": {
   "codemirror_mode": {
    "name": "ipython",
    "version": 3
   },
   "file_extension": ".py",
   "mimetype": "text/x-python",
   "name": "python",
   "nbconvert_exporter": "python",
   "pygments_lexer": "ipython3",
   "version": "3.9.6"
  }
 },
 "nbformat": 4,
 "nbformat_minor": 5
}
