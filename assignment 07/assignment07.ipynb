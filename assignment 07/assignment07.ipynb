{
 "cells": [
  {
   "attachments": {},
   "cell_type": "markdown",
   "metadata": {},
   "source": [
    "# Assignment 7\n",
    "Elements of Data Science and Artificial Intelligence\n",
    "<br>\n",
    "Winter Semester 2022/2023\n",
    "<br>\n",
    "Saarland University\n",
    "\n",
    "Prof. Dr. Jens Dittrich\n",
    "<br>\n",
    "Prof. Dr. Jörg Hoffmann\n",
    "<br>\n",
    "Prof. Dr. Bernt Schiele\n",
    "<br>\n",
    "Dr. Sebastian Schuster"
   ]
  },
  {
   "attachments": {},
   "cell_type": "markdown",
   "metadata": {},
   "source": [
    "#### Submission Details\n",
    "Upload your submission to our [CMS](https://cms.sic.saarland/edsai2223/) in groups accroding to the team grouping until **January 22, 2023 23:59**. Late submissions will not be graded! The submission should be uploaded by exactly **one** team member. Make sure that your submission contains the name and matriculation number of each team member. For this purpose, fill out the cell below."
   ]
  },
  {
   "cell_type": "code",
   "execution_count": 1,
   "metadata": {},
   "outputs": [],
   "source": [
    "# Team information (name - matriculation number)\n",
    "# Felix Ceard-Falkenberg - 700490\n",
    "# Please remove other teammates from submition - no contact since Sheet 2"
   ]
  },
  {
   "attachments": {},
   "cell_type": "markdown",
   "metadata": {},
   "source": [
    "## Connect Four"
   ]
  },
  {
   "attachments": {},
   "cell_type": "markdown",
   "metadata": {},
   "source": [
    "In this exercise, we will consider the well-known two-player game *Connect Four*. In this game, two players Max and Min alternatingly drop a token into a suspended grid. Here, we assume a 6x6 grid. Tokens can be dropped into any column that is not completely filled with tokens already, in which case the tokens falls down to the lowest unoccupied cell of the column. We assume that Max has **X** tokens and Min has **O** tokens. The goal of the game -- as the name implies -- is to build a string of four connected tokens horizontally, vertically, or diagonally. The player to do so first wins the game. If no player can achieve a string of four tokens and the grid is completely filled, then the game is drawn.\n",
    "\n",
    "We will represent a game state of Connect Four as an instance of the following class `State`.\n",
    "\n",
    "- The member `next_token` represents the next token to place / the next player to move (either `'X'` or `'O'`).\n",
    "- The member `grid` represents the current state of the grid as simple 6x6 matrix (a list of lists) of tokens `'X'`, `'O'` or `'_'` (blank). We identify each grid cell with a 2D coordinate, where the origin $\\langle0, 0\\rangle$ is rooted at the top left of the grid (the y-axis points **downwards**). Instead of accessing `grid` directly, the cell at coordinate $\\langle x, y \\rangle$ can also be accessed by `state[x, y]`.\n",
    "\n",
    "On the other hand, a move is simply represented by the integer index of the column in which the token (**X** or **O** as given by `state.next_token`) is to be placed, i.e., a number between 0 and 5 (inclusive)."
   ]
  },
  {
   "cell_type": "code",
   "execution_count": 2,
   "metadata": {},
   "outputs": [],
   "source": [
    "import copy\n",
    "\n",
    "# Constants for the board dimensionality.\n",
    "# (Using these is not strictly necessary, they may be hardcoded)\n",
    "GRID_WIDTH = 6\n",
    "GRID_HEIGHT = 6\n",
    "\n",
    "\n",
    "# Do not change!\n",
    "class State:\n",
    "    def __init__(self, next_token, grid):\n",
    "        assert (next_token in ['X', 'O'])\n",
    "        assert (len(grid) == GRID_WIDTH and (len(grid[i]) == 3 for i in range(0, GRID_HEIGHT)))\n",
    "\n",
    "        self.next_token = next_token\n",
    "        self.grid = grid\n",
    "\n",
    "        for x in range(0, GRID_WIDTH):\n",
    "            for y in range(0, GRID_HEIGHT):\n",
    "                assert (self[x, y] in ['_', 'X', 'O'])\n",
    "\n",
    "    # Allows reading access via *state[x, y]*\n",
    "    def __getitem__(self, ij):\n",
    "        i, j = ij\n",
    "        return self.grid[i][j]\n",
    "\n",
    "    # Allows writing access via *state[x, y] = z*\n",
    "    def __setitem__(self, ij, z):\n",
    "        i, j = ij\n",
    "        self.grid[i][j] = z\n",
    "\n",
    "    # Can be ignored\n",
    "    def copy(self):\n",
    "        return State(self.next_token, copy.deepcopy(self.grid))\n",
    "\n",
    "    # Can be ignored\n",
    "    def __eq__(self, other):\n",
    "        return self.next_token == other.next_token and (self.grid[i] == other.grid[i] for i in range(0, GRID_HEIGHT))"
   ]
  },
  {
   "attachments": {},
   "cell_type": "markdown",
   "metadata": {},
   "source": [
    "## Exercise 4: Minimax Implementation (5 Points)"
   ]
  },
  {
   "attachments": {},
   "cell_type": "markdown",
   "metadata": {},
   "source": [
    "Your task in this exercise is to implement the Minimax algorithm to play a game of Connect Four."
   ]
  },
  {
   "cell_type": "code",
   "execution_count": 3,
   "metadata": {},
   "outputs": [],
   "source": [
    "# define the unittests\n",
    "% run -i assignment07_unittests"
   ]
  },
  {
   "attachments": {},
   "cell_type": "markdown",
   "metadata": {},
   "source": [
    "### a) Utility Function (2.5 Points)"
   ]
  },
  {
   "attachments": {},
   "cell_type": "markdown",
   "metadata": {},
   "source": [
    "First, you will define the utility function for Connect Four. To this end, implement the function `terminal_test(s)`, which checks if the state `s` is terminal, i.e. the game is over, and if yes returns the utility. If not, this function should return `None`. The utility of a terminal state is +100 if the Max player (**X**) won and -100 if the Min player (**O**) won, whereas a draw yields utility 0."
   ]
  },
  {
   "cell_type": "code",
   "execution_count": 178,
   "metadata": {},
   "outputs": [],
   "source": [
    "def terminal_test(s: State):\n",
    "    def win(node):\n",
    "        return 100 if node == 'X' else -100\n",
    "\n",
    "    grid_width = len(s.grid)\n",
    "    grid_height = len(s.grid[0])\n",
    "\n",
    "    # Horizontal\n",
    "    for i in range(grid_width):\n",
    "        node_type = None\n",
    "        streak_length = 0\n",
    "        for j in range(grid_height):\n",
    "            if s[j, i] == '_':\n",
    "                node_type = None\n",
    "                streak_length = 0\n",
    "                continue\n",
    "\n",
    "            if s[j, i] == node_type:\n",
    "                streak_length += 1\n",
    "            else:\n",
    "                node_type = s[j, i]\n",
    "                streak_length = 1\n",
    "\n",
    "            if streak_length == 4:\n",
    "                return win(node_type)\n",
    "\n",
    "    # Vertical\n",
    "    for i in range(grid_height):\n",
    "        node_type = None\n",
    "        streak_length = 0\n",
    "        for j in range(grid_width):\n",
    "            if s[i, j] == '_':\n",
    "                node_type = None\n",
    "                streak_length = 0\n",
    "                continue\n",
    "\n",
    "            if s[i, j] == node_type:\n",
    "                streak_length += 1\n",
    "            else:\n",
    "                node_type = s[i, j]\n",
    "                streak_length = 1\n",
    "\n",
    "            if streak_length == 4:\n",
    "                return win(node_type)\n",
    "\n",
    "    # Diagonal\n",
    "    # Top left to bottom right\n",
    "    for i in range(grid_width - 4 + 1):\n",
    "        for j in range(grid_height - 4 + 1):\n",
    "            node_type = s[j, i]\n",
    "            if node_type == '_':\n",
    "                continue\n",
    "            found_four = True\n",
    "            for d in range(4):\n",
    "                if node_type != s[j + d, i + d]:\n",
    "                    found_four = False\n",
    "                    break\n",
    "            if found_four:\n",
    "                return win(node_type)\n",
    "\n",
    "    # Bottom left to top right\n",
    "    for i in range(grid_width - 4 + 1):\n",
    "        for j in range(grid_height - 4 + 1, grid_height):\n",
    "            node_type = s[j, i]\n",
    "            if node_type == '_':\n",
    "                continue\n",
    "            found_four = True\n",
    "            for d in range(4):\n",
    "                if node_type != s[j - d, i + d]:\n",
    "                    found_four = False\n",
    "                    break\n",
    "            if found_four:\n",
    "                return win(node_type)\n",
    "\n",
    "    # test full:\n",
    "    for i in range(len(s.grid)):\n",
    "        for j in range(len(s.grid[0])):\n",
    "            if s[i, j] == '_':\n",
    "                return None\n",
    "\n",
    "    return 0"
   ]
  },
  {
   "cell_type": "code",
   "execution_count": 179,
   "metadata": {},
   "outputs": [
    {
     "name": "stderr",
     "output_type": "stream",
     "text": [
      "test_blank_not_terminal (__main__.Interface_Test) ... ok\n",
      "test_complete_min_wins (__main__.Interface_Test) ... ok\n",
      "test_draw (__main__.Interface_Test) ... ok\n",
      "test_incomplete_max_wins_diagonal (__main__.Interface_Test) ... ok\n",
      "test_incomplete_max_wins_horizontal (__main__.Interface_Test) ... ok\n",
      "test_incomplete_max_wins_vertical (__main__.Interface_Test) ... ok\n",
      "test_incomplete_min_wins_diagonal (__main__.Interface_Test) ... ok\n",
      "test_incomplete_min_wins_horizontal (__main__.Interface_Test) ... ok\n",
      "test_incomplete_min_wins_vertical (__main__.Interface_Test) ... ok\n",
      "test_one_mark_not_terminal (__main__.Interface_Test) ... ok\n",
      "test_three_marks_not_terminal (__main__.Interface_Test) ... ok\n",
      "\n",
      "----------------------------------------------------------------------\n",
      "Ran 11 tests in 0.009s\n",
      "\n",
      "OK\n"
     ]
    },
    {
     "data": {
      "text/plain": "<unittest.main.TestProgram at 0x1a320fc6100>"
     },
     "execution_count": 179,
     "metadata": {},
     "output_type": "execute_result"
    }
   ],
   "source": [
    "# Run tests\n",
    "unittest.main(argv=['ignored', '-v', 'Interface_Test'], verbosity=2, exit=False)"
   ]
  },
  {
   "attachments": {},
   "cell_type": "markdown",
   "metadata": {},
   "source": [
    "### b) The Minimax Algorithm (2.5 Points)"
   ]
  },
  {
   "attachments": {},
   "cell_type": "markdown",
   "metadata": {},
   "source": [
    "Next, you will implement the actual Minimax algorithm. To do so, first take a look at the pseudocode depicted on the lecture slides for Minimax (slide 15).\n",
    "\n",
    "We slightly deviate from the pseudocode in this exercise: Implement functions `Max_Value_Decision` and `Min_Value_Decision` that return a *pair* $\\langle v, a \\rangle$ of the optimal utility value $v$ *plus the \n",
    "action $a$ that yields this utility* for the Max and Min player respectively (return `None` for `a` if the state is terminal). Afterwards, implement `Minimax`, which should return the move for Max that yields the highest utility.\n",
    "\n",
    "We already provide you with the function `child_state(s, a)` and `action(s)` below which respectively construct the successor state of `s` when appling the move `x` and list the applicable action when in state `s`. Use these functions in your implementation.\n",
    "\n",
    "*Hints: Note that your implementation of `terminal_test` also returns the utility of a terminal state. The constant `math.inf` might be useful to compute the maximum / minimum.*"
   ]
  },
  {
   "cell_type": "code",
   "execution_count": 180,
   "metadata": {},
   "outputs": [
    {
     "name": "stdout",
     "output_type": "stream",
     "text": [
      "0 100 inf\n",
      "3 -100 100\n",
      "5 0 -100\n"
     ]
    },
    {
     "data": {
      "text/plain": "(-100, 3)"
     },
     "execution_count": 180,
     "metadata": {},
     "output_type": "execute_result"
    }
   ],
   "source": [
    "import math\n",
    "\n",
    "\n",
    "# Successor Generation. Constructs the successor state of a state when applying\n",
    "# a specific (legal) move. Use, but do not change!\n",
    "def child_state(s, x):\n",
    "    ns = s.copy()\n",
    "\n",
    "    mark = ns.next_token\n",
    "\n",
    "    for y in range(GRID_HEIGHT - 1, -1, -1):\n",
    "        if ns[x, y] == '_':\n",
    "            ns[x, y] = mark\n",
    "            break\n",
    "\n",
    "    ns.next_token = 'X' if mark == 'O' else 'O'\n",
    "\n",
    "    return ns\n",
    "\n",
    "\n",
    "# Applicable action generation. Returns the list of moves (legal columns) for a\n",
    "# state. Use, but do not change!\n",
    "def actions(s):\n",
    "    acts = []\n",
    "\n",
    "    for x in range(0, GRID_WIDTH):\n",
    "        for y in range(0, GRID_HEIGHT):\n",
    "            if s[x, y] == '_':\n",
    "                acts.append(x)\n",
    "                break\n",
    "\n",
    "    return acts\n",
    "\n",
    "\n",
    "def Max_Value_Decision(s, initial=False):\n",
    "    if terminal_test(s) != None:\n",
    "        return (terminal_test(s), None)\n",
    "\n",
    "    v = float('-inf')\n",
    "    max_action = None\n",
    "    for action in actions(s):\n",
    "        v_min, _ = Min_Value_Decision(child_state(s, action))\n",
    "        if initial:\n",
    "            print(action, v_min, v)\n",
    "        if v_min > v:\n",
    "            max_action = action\n",
    "        v = max(v, v_min)\n",
    "\n",
    "    return (v, max_action)\n",
    "\n",
    "\n",
    "def Min_Value_Decision(s, initial=False):\n",
    "    if terminal_test(s) != None:\n",
    "        return (terminal_test(s), None)\n",
    "\n",
    "    v = float('inf')\n",
    "    max_action = None\n",
    "    for action in actions(s):\n",
    "        v_min, _ = Max_Value_Decision(child_state(s, action))\n",
    "        if initial:\n",
    "            print(action, v_min, v)\n",
    "        if v_min < v:\n",
    "            max_action = action\n",
    "        v = min(v, v_min)\n",
    "\n",
    "    return (v, max_action)\n",
    "\n",
    "\n",
    "def Minimax_Decision(s):\n",
    "    v = float('-inf')\n",
    "    max_action = None\n",
    "    for action in actions(s):\n",
    "        v_min, _ = Max_Value_Decision(child_state(s, action))\n",
    "        if v_min > v:\n",
    "            max_action = action\n",
    "        v = max(v, v_min)\n",
    "\n",
    "    return (v, max_action)\n",
    "\n",
    "state = State('O', [\n",
    "            ['_', 'O', 'O', 'X', 'X', 'X'],\n",
    "            ['O', 'X', 'X', 'O', 'O', 'O'],\n",
    "            ['O', 'O', 'O', 'X', 'X', 'X'],\n",
    "            ['_', 'X', 'X', 'O', 'X', 'O'],\n",
    "            ['O', 'X', 'O', 'O', 'X', 'O'],\n",
    "            ['_', 'O', 'X', 'X', 'O', 'X']\n",
    "        ])\n",
    "\n",
    "v, a = Min_Value_Decision(state, True)\n",
    "v, a"
   ]
  },
  {
   "cell_type": "code",
   "execution_count": 181,
   "metadata": {},
   "outputs": [
    {
     "name": "stderr",
     "output_type": "stream",
     "text": [
      "test_minimax_draw_if_perfect_play (__main__.Minimax_Test) ... ok\n",
      "test_minimax_max_can_win (__main__.Minimax_Test) ... ok\n",
      "test_minimax_min_can_win (__main__.Minimax_Test) ... ok\n",
      "test_minimax_obvious_max_always_loses (__main__.Minimax_Test) ... ok\n",
      "test_minimax_obvious_min_can_win (__main__.Minimax_Test) ... ok\n",
      "\n",
      "----------------------------------------------------------------------\n",
      "Ran 5 tests in 8.784s\n",
      "\n",
      "OK\n"
     ]
    },
    {
     "data": {
      "text/plain": "<unittest.main.TestProgram at 0x1a3222cd130>"
     },
     "execution_count": 181,
     "metadata": {},
     "output_type": "execute_result"
    }
   ],
   "source": [
    "# Run tests\n",
    "unittest.main(argv=['ignored', '-v', 'Minimax_Test'], verbosity=2, exit=False)"
   ]
  },
  {
   "attachments": {},
   "cell_type": "markdown",
   "metadata": {},
   "source": [
    "## Final Remarks\n",
    "The Minimax algorithm is an extremely simple and inefficient game playing algorithm, so your implementation will only be able to solve states in which the game has already progressed quite far. Besides those techniques covered in the lecture, there is also [Alpha-Beta Pruning](https://en.wikipedia.org/wiki/Alpha%E2%80%93beta_pruning), a more sophisticated extension of Minimax that can avoid the exploration of some parts of the search space."
   ]
  }
 ],
 "metadata": {
  "kernelspec": {
   "display_name": "Python 3",
   "language": "python",
   "name": "python3"
  },
  "language_info": {
   "codemirror_mode": {
    "name": "ipython",
    "version": 3
   },
   "file_extension": ".py",
   "mimetype": "text/x-python",
   "name": "python",
   "nbconvert_exporter": "python",
   "pygments_lexer": "ipython3",
   "version": "3.9.0 (tags/v3.9.0:9cf6752, Oct  5 2020, 15:34:40) [MSC v.1927 64 bit (AMD64)]"
  },
  "vscode": {
   "interpreter": {
    "hash": "11938c6bc6919ae2720b4d5011047913343b08a43b18698fd82dedb0d4417594"
   }
  }
 },
 "nbformat": 4,
 "nbformat_minor": 2
}
