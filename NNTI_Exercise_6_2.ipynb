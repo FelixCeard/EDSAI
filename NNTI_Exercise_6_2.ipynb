{
 "cells": [
  {
   "cell_type": "markdown",
   "id": "3f3e234d",
   "metadata": {},
   "source": [
    "Name:   \n",
    "Matrikelnummer:  \n",
    "Email:   \n",
    "   \n",
    "Name:   \n",
    "Matrikelnummer:   \n",
    "Email:\n",
    "\n",
    "Name:    \n",
    "Matrikelnummer:    \n",
    "Email:    "
   ]
  },
  {
   "cell_type": "markdown",
   "id": "56009306-ebf1-4707-a8fb-58bf315689b5",
   "metadata": {},
   "source": [
    "### Note: This assignment will extensively refer to coding exercise in assignment 4."
   ]
  },
  {
   "cell_type": "markdown",
   "id": "c956dd05",
   "metadata": {},
   "source": [
    "## 6.2.a Building your own Neural-Network"
   ]
  },
  {
   "cell_type": "markdown",
   "id": "ada51e96",
   "metadata": {},
   "source": [
    "Import numpy, which is really all we need to create our own NN."
   ]
  },
  {
   "cell_type": "code",
   "execution_count": 1,
   "id": "bb034177",
   "metadata": {},
   "outputs": [],
   "source": [
    "import numpy as np\n",
    "import torchvision as torchvision\n",
    "# Remember to Fix your seeds for pytorch and numpy"
   ]
  },
  {
   "cell_type": "markdown",
   "id": "252678aa",
   "metadata": {},
   "source": [
    "Recall that our simple neural network consisted of two layers. We also added an `activation` function as a non-linearity to the output of our intermediate layer. Given an input $\\mathbf{x} \\in \\mathbb{R}^n $ we have\n",
    "\n",
    "$ \\mathbf{h} = f^{(1)}(\\mathbf{x}; \\mathbf{W},c) = activation\\_fn(\\mathbf{W}^\\mathsf{T} \\mathbf{x} + c) $ \\\n",
    "\n",
    "\n",
    "$ \\mathbf{y} = f^{(2)}(\\mathbf{h}; \\mathbf{w},b) = \\text{softmax}( \\mathbf{w}^\\mathsf{T} \\mathbf{h} + b) $"
   ]
  },
  {
   "cell_type": "markdown",
   "id": "121bd9f9",
   "metadata": {},
   "source": [
    "In this exercise you will create your own network and are free to implement it with your own design choices. However, we will do it in a way that allows you to specify the depth of network, i.e. we extend our network such that there isn't just one $\\mathbf{h}$ intermediate layers, but rather $n$ of them $\\mathbf{h}_{i}$ with $i \\in \\{1,..., n\\}$\n",
    "\n",
    "**NOTE**: You are not allowed to use any built-in functions to calculate Leaky_ReLU, Softmax or the forward/backward pass directly.\n",
    "\n",
    "**NOTE 2**: Remember to include the non-linearity at every layer. Remember to also add the bias to every layer. Finally, remember to apply the softmax in the output layer."
   ]
  },
  {
   "cell_type": "markdown",
   "id": "7f66f378",
   "metadata": {},
   "source": [
    "## ToDo: Rewrite the Leaky_ReLu and Softmax function as Class and implement a function in each of them to calculate gradients (1 point)\n",
    "Remember that in PyTorch, these are implemented as classes so we also want to have them as classes."
   ]
  },
  {
   "cell_type": "code",
   "execution_count": 192,
   "id": "3114d8cb",
   "metadata": {},
   "outputs": [],
   "source": [
    "class leaky_relu:\n",
    "    \"\"\"\n",
    "    Recall your implementation of relu function in assignment 4 and try to implement\n",
    "    Leaky_ReLu similarily, but as a class with a function to calculate gradient\n",
    "    \"\"\"\n",
    "\n",
    "    def __init__(self, alpha=0.2):\n",
    "        self.alpha = alpha\n",
    "        self.output = None\n",
    "\n",
    "    def forward(self, x):\n",
    "        x[x < 0] = x[x < 0] * self.alpha\n",
    "        self.output = x.copy()  # for backpropagation?\n",
    "        return x\n",
    "\n",
    "    def gradient(self, grad):\n",
    "        assert self.output is not None\n",
    "        # grad = np.ones(self.output.shape[0], dtype=float)\n",
    "        # print(grad.shape, self.output.shape)\n",
    "        grad[self.output >= 0] = 1.0\n",
    "        grad[self.output < 0] = self.alpha\n",
    "\n",
    "        return grad"
   ]
  },
  {
   "cell_type": "code",
   "execution_count": 198,
   "id": "f8b77127",
   "metadata": {},
   "outputs": [],
   "source": [
    "class softmax:\n",
    "    \"\"\"\n",
    "    Recall your implementation of softmax function in assignment 4 and try to implement\n",
    "    softmax similarily, but as a class with a function to calculate gradient\n",
    "    \"\"\"\n",
    "\n",
    "    def __init__(self):\n",
    "        self.output = None\n",
    "        self.input = None\n",
    "\n",
    "    def forward(self, x):\n",
    "        self.input = x.copy()\n",
    "        x = np.exp(x) / (np.exp(x).sum())\n",
    "        self.output = x.copy()\n",
    "        return x\n",
    "\n",
    "    def gradient(self, x):\n",
    "        N = self.input.shape[0]\n",
    "        return self.output * (np.eye(N) - self.output.T)"
   ]
  },
  {
   "cell_type": "markdown",
   "source": [],
   "metadata": {
    "collapsed": false
   }
  },
  {
   "cell_type": "markdown",
   "id": "59dde97f",
   "metadata": {},
   "source": [
    "## ToDo: Calculate the gradient using your implemented functions in their respective classes and validate by manually calculating gradients using a toy value. (1 point)"
   ]
  },
  {
   "cell_type": "code",
   "execution_count": 199,
   "id": "76203a80-9b13-4012-879f-10f78bc6dd7f",
   "metadata": {},
   "outputs": [
    {
     "name": "stdout",
     "output_type": "stream",
     "text": [
      "[Relu] output:\n",
      " [ 1.   1.   0.  -0.2]\n",
      "[Relu] gradient:\n",
      " [1.  1.  1.  0.2]\n",
      "[Relu] expected gradient: [1.  1.  1.  0.2]\n",
      "[Softmax] output:\n",
      " [0.31894516 0.31894516 0.31894516 0.04316453]\n",
      "[Softmax] gradient:\n",
      " [[ 0.21721914 -0.10172601 -0.10172601 -0.00186318]\n",
      " [-0.10172601  0.21721914 -0.10172601 -0.00186318]\n",
      " [-0.10172601 -0.10172601  0.21721914 -0.00186318]\n",
      " [-0.10172601 -0.10172601 -0.10172601  0.04130136]]\n"
     ]
    }
   ],
   "source": [
    "## Solution\n",
    "input_array = np.array([1.0, 1, 0, -1])\n",
    "\n",
    "# relu\n",
    "relu = leaky_relu()\n",
    "relu_output = relu.forward(input_array)\n",
    "print('[Relu] output:\\n', relu_output)\n",
    "# gradient\n",
    "gradient = relu.gradient(np.ones(input_array.shape[0]))\n",
    "print('[Relu] gradient:\\n', gradient)\n",
    "print('[Relu] expected gradient:', np.array([1, 1, 1, 0.2]))\n",
    "\n",
    "# # softmax\n",
    "input_array = np.array([1, 1, 1, -1])\n",
    "cstm_sftmx = softmax()\n",
    "softmax_output = cstm_sftmx.forward(input_array)\n",
    "softmax_gradient = cstm_sftmx.gradient(np.ones(input_array.shape[0]))\n",
    "print('[Softmax] output:\\n', softmax_output)\n",
    "print('[Softmax] gradient:\\n', softmax_gradient)"
   ]
  },
  {
   "cell_type": "markdown",
   "id": "07be4f42",
   "metadata": {},
   "source": [
    "## ToDo: Rewrite the code from Assignment 4 to include backpropagation in your class without using pytorch. Remember to use your Leaky_ReLu class here as activation function. (1.5 points)\n",
    "#### Feel free to refer to your solutions from Assignment 4."
   ]
  },
  {
   "cell_type": "code",
   "execution_count": 200,
   "id": "d8e87fc3",
   "metadata": {},
   "outputs": [
    {
     "name": "stdout",
     "output_type": "stream",
     "text": [
      "NETWORK config: (2, 3, 2, 1)\n"
     ]
    }
   ],
   "source": [
    "class FFNetwork:\n",
    "    \"\"\"\n",
    "    Class representing the feed-forward neural network\n",
    "    \"\"\"\n",
    "\n",
    "    def __init__(self, input_dim: int, hidden_dim: int,\n",
    "                 output_dim: int, hidden_size: int, lr: float = 0.01):\n",
    "        \"\"\"\n",
    "        Args:\n",
    "        input_dim: dimensionality of `x`\n",
    "        hidden_dim: dimensionality of the intermediate `h_i`\n",
    "        output_dim: dimensionality of `y`\n",
    "        hidden_size: number of intermediate layers `h_i`\n",
    "        \"\"\"\n",
    "\n",
    "        ## SOLUTION ##\n",
    "\n",
    "        self.layers = []\n",
    "\n",
    "        # first layer\n",
    "        self.layers.append([np.random.randn(input_dim, hidden_dim), np.zeros(hidden_dim), leaky_relu()])\n",
    "\n",
    "        # middle layer(s)\n",
    "        for i in range(hidden_size):\n",
    "            self.layers.append([np.random.randn(hidden_dim, hidden_dim), np.zeros(hidden_dim), leaky_relu()])\n",
    "\n",
    "        # last layer\n",
    "        self.layers.append([np.random.randn(hidden_dim, output_dim), np.zeros(output_dim), softmax()])\n",
    "\n",
    "        self.res = None\n",
    "        self.inputs = None\n",
    "\n",
    "        self.layer_output = []\n",
    "\n",
    "        self.grads = []\n",
    "        self.lr = lr\n",
    "\n",
    "        ## SOLUTION ##\n",
    "\n",
    "    def forward(self, x):\n",
    "        \"\"\"\n",
    "        Args:\n",
    "        x: input to the neural network\n",
    "\n",
    "        Output:\n",
    "        `y`, i.e. the prediction of the network\n",
    "\n",
    "        Note: Remember to apply the ReLU and add the bias for each layer\n",
    "        \"\"\"\n",
    "        res = x\n",
    "        self.inputs = x.copy()\n",
    "\n",
    "        for W, b, activation in self.layers:\n",
    "            # res = res @ W + b\n",
    "            res = np.dot(res, W) + b\n",
    "            res = activation.forward(res)\n",
    "            self.layer_output.append(res.copy())\n",
    "\n",
    "\n",
    "        ## SOLUTION ##\n",
    "        self.res = np.array(res)  #.reshape((-1, 1))\n",
    "        return res\n",
    "\n",
    "    def fit(self, X, Y):\n",
    "        \"\"\"\n",
    "\n",
    "        :param grad: the gradient of the error function\n",
    "        \"\"\"\n",
    "\n",
    "        pred = self.forward(X)\n",
    "\n",
    "        reversed_list = list(reversed(self.layers))\n",
    "\n",
    "        delta_matrix = np.zeros((self.res.shape[0], self.res.shape[1]))\n",
    "        for i in range(self.res.shape[0]):\n",
    "            delta_matrix[i, Y[i]] = 1\n",
    "\n",
    "        grad = (self.res - delta_matrix) * (1/self.res.shape[0])\n",
    "\n",
    "\n",
    "        for i in range(len(reversed_list)):\n",
    "            W, b, activation = reversed_list[i]\n",
    "\n",
    "            if i == len(reversed_list)-1:\n",
    "                layer_input = self.inputs\n",
    "            else:\n",
    "                layer_input = np.array(self.layer_output[-(i+2)])\n",
    "\n",
    "            if i != 0:\n",
    "                grad = activation.gradient(grad)\n",
    "            # print(g.shape, grad.shape)\n",
    "\n",
    "\n",
    "            dW = np.dot(grad.T, layer_input).T\n",
    "            db = np.dot(grad.T, np.ones(grad.shape[0]))\n",
    "\n",
    "            grad = np.dot(grad, W.T)\n",
    "\n",
    "            W -= self.lr * dW\n",
    "            b -= self.lr * db\n",
    "\n",
    "np.random.seed(0)\n",
    "\n",
    "print('NETWORK config:', (2, 3, 2, 1))\n",
    "network = FFNetwork(2, 3, 2, 1)\n",
    "X = np.array([1., 0.]).reshape(1, 2)\n",
    "Y = np.array([0, 1])\n",
    "network.fit(X, Y)"
   ]
  },
  {
   "cell_type": "markdown",
   "id": "6b823a72",
   "metadata": {
    "tags": []
   },
   "source": [
    "### 6.2.b.2 Training a network for MNIST (1.5 points)\n",
    "\n",
    "Now that we know how to train a Neural network in Pytorch. Let's start training and evaluating our model using a very standard dataset, for now let's use MNIST. Design a network from scracth using PyTorch and include the followings. Remember that we need to use forward-propagation and backprop.\n",
    "- Training Loop\n",
    "- Optimization \n",
    "- Evaluating Loop"
   ]
  },
  {
   "cell_type": "code",
   "execution_count": 213,
   "id": "3298c419",
   "metadata": {},
   "outputs": [],
   "source": [
    "import torch\n",
    "import torch.nn.functional as F\n",
    "import torchvision\n",
    "from torch import nn"
   ]
  },
  {
   "cell_type": "code",
   "execution_count": 214,
   "id": "ed85010f",
   "metadata": {},
   "outputs": [],
   "source": [
    "class TorchFFNetwork(nn.Module):\n",
    "    \"\"\"\n",
    "    A pytorch implementation to do classification for MNIST dataset.\n",
    "    \"\"\"\n",
    "\n",
    "    def __init__(self, input_dim: int, hidden_dim: int, output_dim: int, hidden_size: int):\n",
    "        super().__init__()\n",
    "        layers = []\n",
    "\n",
    "        layers.append(nn.Flatten())\n",
    "        layers.append(nn.Linear(input_dim, hidden_dim, bias=True))\n",
    "        layers.append(nn.ReLU())\n",
    "        for i in range(hidden_size-1):\n",
    "          layers.append(nn.Linear(hidden_dim, hidden_dim, bias=True))\n",
    "          layers.append(nn.ReLU())\n",
    "        layers.append(nn.Linear(hidden_dim, output_dim))\n",
    "\n",
    "        self.layers = nn.Sequential(*layers)\n",
    "\n",
    "    def forward(self, x):\n",
    "        return F.softmax(self.layers.forward(x), dim=1)"
   ]
  },
  {
   "cell_type": "code",
   "execution_count": 217,
   "outputs": [],
   "source": [
    "LR = 0.001\n",
    "NUM_EPOCHS = 5\n",
    "batch_size = 1 # sorry, my laptop says no more\n",
    "\n",
    "model = TorchFFNetwork(28*28, 50, 2, 1)\n",
    "\n",
    "optimizer = torch.optim.SGD(lr=LR, params=model.parameters())\n",
    "criterion = torch.nn.CrossEntropyLoss()\n",
    "\n",
    "\n",
    "# load the MNIST data, idk if this is a part of the exercise, we can do this by using this pytorch class: https://pytorch.org/vision/stable/generated/torchvision.datasets.MNIST.html\n",
    "norm_transform = torchvision.transforms.Compose([torchvision.transforms.ToTensor()])\n",
    "train_dataset = torchvision.datasets.MNIST(root='datasets/',\n",
    "                                           train=True,\n",
    "                                           transform=norm_transform,\n",
    "                                           download=True)\n",
    "\n",
    "test_dataset = torchvision.datasets.MNIST(root='datasets/',\n",
    "                                          train=False,\n",
    "                                           transform=norm_transform,\n",
    "                                          download=True\n",
    "                                          )\n",
    "\n",
    "train_loader = torch.utils.data.DataLoader(dataset=train_dataset,\n",
    "                                           batch_size=batch_size,\n",
    "                                           shuffle=True)\n",
    "\n",
    "test_loader = torch.utils.data.DataLoader(dataset=test_dataset,\n",
    "                                          batch_size=batch_size,\n",
    "                                          shuffle=False)\n",
    "\n",
    "for epoch in range(NUM_EPOCHS):\n",
    "\n",
    "    total_loss = torch.tensor([0.0])\n",
    "\n",
    "    for step, (batch_x, batch_y) in enumerate(train_loader):\n",
    "        # training\n",
    "        optimizer.zero_grad()\n",
    "\n",
    "        pred = model.forward(batch_x)\n",
    "        loss = criterion(pred, batch_y)\n",
    "\n",
    "        loss.backward()\n",
    "        optimizer.step()\n",
    "\n",
    "        total_loss += loss\n",
    "    print('Train error:', total_loss/len(train_loader))\n",
    "\n",
    "    # test\n",
    "    with torch.no_grad():\n",
    "        total_loss = torch.tensor([0.0])\n",
    "        for step, (batch_x, batch_y) in enumerate(test_loader):\n",
    "\n",
    "            pred = model.forward(batch_x)\n",
    "            loss = criterion(pred, batch_y)\n",
    "            total_loss += loss\n",
    "\n",
    "    print('Test error:', total_loss/len(test_loader))"
   ],
   "metadata": {
    "collapsed": false
   }
  },
  {
   "cell_type": "markdown",
   "id": "5f6f17a8-4877-4813-b4ad-cc2d41b05be9",
   "metadata": {},
   "source": [
    "### ToDo: Implement functions for Stochastic Gradient Descent and Stochastic Gradient Descent with momentum and plot the difference on how they change the value for gradients. ( 1 + 1 (Bonus))"
   ]
  },
  {
   "cell_type": "code",
   "execution_count": 240,
   "id": "0e99bc82-b090-43a0-91a3-8b2e8352c772",
   "metadata": {},
   "outputs": [],
   "source": [
    "# what gradients, the one of the model or a new one???\n",
    "from torch.autograd import Variable\n",
    "\n",
    "def f(x):\n",
    "    return (x-1)*(x+2)*(x-20)*(x**2-62)\n",
    "\n",
    "LR = 1e-9 # very low\n",
    "NUM_EPOCHS = 1000\n",
    "\n",
    "x_start = 98.0\n",
    "y_start = -2.0\n",
    "\n",
    "# no momentum\n",
    "x = Variable(torch.tensor([x_start]), requires_grad=True)\n",
    "y = Variable(torch.tensor([y_start]), requires_grad=True)\n",
    "\n",
    "optim = torch.optim.SGD(params=[x], lr=LR, momentum=0)\n",
    "\n",
    "x_history_no_momentum = []\n",
    "y_history_no_momentum = []\n",
    "for _ in range(NUM_EPOCHS):\n",
    "    optim.zero_grad()\n",
    "\n",
    "    z = f(x)\n",
    "    z.backward()\n",
    "\n",
    "    x_history_no_momentum.append(x.item())\n",
    "    # y_history_no_momentum.append(y.item())\n",
    "\n",
    "    optim.step()\n",
    "\n",
    "    # print(x.item())\n",
    "\n",
    "# WITH momentum\n",
    "x = Variable(torch.tensor([x_start]), requires_grad=True)\n",
    "y = Variable(torch.tensor([y_start]), requires_grad=True)\n",
    "\n",
    "optim = torch.optim.SGD(params=[x], lr=LR, momentum=0.9)\n",
    "\n",
    "x_history_with_momentum = []\n",
    "y_history_with_momentum = []\n",
    "for _ in range(NUM_EPOCHS):\n",
    "    optim.zero_grad()\n",
    "\n",
    "    z = f(x)\n",
    "    z.backward()\n",
    "\n",
    "    x_history_with_momentum.append(x.item())\n",
    "    # y_history_with_momentum.append(y.item())\n",
    "\n",
    "    optim.step()"
   ]
  },
  {
   "cell_type": "code",
   "execution_count": 241,
   "outputs": [
    {
     "data": {
      "text/plain": "<matplotlib.legend.Legend at 0x21a2bdea820>"
     },
     "execution_count": 241,
     "metadata": {},
     "output_type": "execute_result"
    },
    {
     "data": {
      "text/plain": "<Figure size 800x800 with 1 Axes>",
      "image/png": "[encoded data removed]"
     },
     "metadata": {},
     "output_type": "display_data"
    }
   ],
   "source": [
    "import matplotlib.pyplot as plt\n",
    "\n",
    "fig, ax = plt.subplots(1, 1, figsize=(8, 8))\n",
    "\n",
    "X = list(range(len(x_history_with_momentum)))\n",
    "ax.plot(X, x_history_with_momentum, label='momentum=0.9')\n",
    "ax.plot(X, x_history_no_momentum, label='momentum=0.0')\n",
    "ax.legend()"
   ],
   "metadata": {
    "collapsed": false
   }
  },
  {
   "cell_type": "code",
   "execution_count": null,
   "outputs": [],
   "source": [],
   "metadata": {
    "collapsed": false
   }
  }
 ],
 "metadata": {
  "kernelspec": {
   "display_name": "Python 3 (ipykernel)",
   "language": "python",
   "name": "python3"
  },
  "language_info": {
   "codemirror_mode": {
    "name": "ipython",
    "version": 3
   },
   "file_extension": ".py",
   "mimetype": "text/x-python",
   "name": "python",
   "nbconvert_exporter": "python",
   "pygments_lexer": "ipython3",
   "version": "3.9.6"
  }
 },
 "nbformat": 4,
 "nbformat_minor": 5
}
