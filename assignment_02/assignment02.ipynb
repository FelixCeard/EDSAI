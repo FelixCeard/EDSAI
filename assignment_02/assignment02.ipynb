{
 "cells": [
  {
   "cell_type": "markdown",
   "metadata": {},
   "source": [
    "# Assignment 2\n",
    "Elements of Data Science and Artificial Intelligence\n",
    "<br>\n",
    "Winter Semester 2022/2023\n",
    "<br>\n",
    "Saarland University\n",
    "\n",
    "Prof. Dr. Dittrich\n",
    "<br>\n",
    "Prof. Dr. Hoffmann\n",
    "<br>\n",
    "Prof. Dr. Schiele\n",
    "<br>\n",
    "Dr. Schuster"
   ]
  },
  {
   "cell_type": "markdown",
   "metadata": {},
   "source": [
    "Insert your solution in the cells marked with `TODO: implement`. We have written a few unit tests so you are able to check your implementation right away (keep in mind that passing the unit tests does not necessarily mean your implementation computes the desired output for all possible inputs!). In case you have questions, feel free to use our [forum](https://edsai.cs.uni-saarland.de/). "
   ]
  },
  {
   "cell_type": "code",
   "execution_count": 1,
   "metadata": {},
   "outputs": [],
   "source": [
    "# Enter your names and matriculation numbers here:\n",
    "# Felix Ceard-Falkenberg (7007490), Jonathan Butz (7009296)"
   ]
  },
  {
   "cell_type": "markdown",
   "metadata": {},
   "source": [
    "## Exercise 3 (3 Points)\n",
    "\n",
    "In the lecture, you were shown a `Buffer` implementation using **Least Recently Used (LRU)** as replacement strategy. In this exercise, your task is to implement a similar buffer using **Most Recently Used (MRU)** as replacement strategy. For this, we provide you with an incomplete `MRUBuffer` class which only implements the constructor `__init__(self, maxBufferSize)` and a method to visualize the current buffer state `showBuffer(self)`. Furthermore, the `MRUBuffer` contains the following instance variables:\n",
    "\n",
    "* `self.maxBufferSize`, integer representing the maximal amount of buffer slots\n",
    "* `self.buffer`, list containing the items (e.g. pageIDs) to buffer\n",
    "\n",
    "You have to implement the following methods of the `MRUBuffer` class:\n",
    "\n",
    "* `load(self, item)`\n",
    "    * append `item` to the **end** of the buffer\n",
    "    * if the buffer is full, trigger an `evict()`\n",
    "    * Note: you may assume, that the items in the buffer are unique at all times\n",
    "\n",
    "    \n",
    "* `evict(self)`\n",
    "    * remove the most recently used item from the buffer\n",
    "    \n",
    "    \n",
    "* `get(self, pos)`\n",
    "    * returns the item at position `pos` in the buffer and moves the item to the end of the buffer"
   ]
  },
  {
   "cell_type": "code",
   "execution_count": 12,
   "metadata": {},
   "outputs": [],
   "source": [
    "class MRUBuffer:\n",
    "    def __init__(self, maxBufferSize): \n",
    "        self.maxBufferSize = maxBufferSize \n",
    "        self.buffer = []\n",
    "        \n",
    "    # visualize the contents of this buffer\n",
    "    def showBuffer(self):\n",
    "        print('\\t[',end='')\n",
    "        for i, item in enumerate(self.buffer):\n",
    "            if i:  # print a separator if this isn't the first element\n",
    "                print(',', end=\" \")\n",
    "            print(str(item), end=\"\")\n",
    "        print(']')\n",
    "        \n",
    "    # load a data item to *the end* of this buffer\n",
    "    def load(self, item):\n",
    "        if item not in self.buffer and len(self.buffer) == self.maxBufferSize:\n",
    "            self.evict()\n",
    "        self.buffer.append(item)\n",
    "\n",
    "    # evict (remove) the item at the end of the buffer (the 'newest'/'most recently used' item)\n",
    "    def evict(self):\n",
    "        self.buffer = self.buffer[:-1]\n",
    "\n",
    "    # returns the item at position 'pos' contained in the buffer and moves the item to the end of the buffer\n",
    "    def get(self, pos):\n",
    "        value = self.buffer.pop(pos)\n",
    "        self.buffer.append(value)\n",
    "        return value\n"
   ]
  },
  {
   "cell_type": "code",
   "execution_count": 13,
   "metadata": {},
   "outputs": [
    {
     "name": "stderr",
     "output_type": "stream",
     "text": [
      "test_evict (__main__.MRUBufferTest) ... ok\n",
      "test_get (__main__.MRUBufferTest) ... ok\n",
      "test_load (__main__.MRUBufferTest) ... ok\n",
      "test_load_evict (__main__.MRUBufferTest) ... ok\n",
      "\n",
      "----------------------------------------------------------------------\n",
      "Ran 4 tests in 0.005s\n",
      "\n",
      "OK\n"
     ]
    },
    {
     "data": {
      "text/plain": "<unittest.main.TestProgram at 0x20531526a90>"
     },
     "execution_count": 13,
     "metadata": {},
     "output_type": "execute_result"
    }
   ],
   "source": [
    "# define the unittests\n",
    "%run -i assignment02_unittests\n",
    "# Run tests\n",
    "unittest.main(argv=['ignored', '-v', 'MRUBufferTest'], verbosity=2, exit=False)"
   ]
  }
 ],
 "metadata": {
  "kernelspec": {
   "display_name": "Python 3 (ipykernel)",
   "language": "python",
   "name": "python3"
  },
  "language_info": {
   "codemirror_mode": {
    "name": "ipython",
    "version": 3
   },
   "file_extension": ".py",
   "mimetype": "text/x-python",
   "name": "python",
   "nbconvert_exporter": "python",
   "pygments_lexer": "ipython3",
   "version": "3.10.8"
  },
  "varInspector": {
   "cols": {
    "lenName": 16,
    "lenType": 16,
    "lenVar": 40
   },
   "kernels_config": {
    "python": {
     "delete_cmd_postfix": "",
     "delete_cmd_prefix": "del ",
     "library": "var_list.py",
     "varRefreshCmd": "print(var_dic_list())"
    },
    "r": {
     "delete_cmd_postfix": ") ",
     "delete_cmd_prefix": "rm(",
     "library": "var_list.r",
     "varRefreshCmd": "cat(var_dic_list()) "
    }
   },
   "types_to_exclude": [
    "module",
    "function",
    "builtin_function_or_method",
    "instance",
    "_Feature"
   ],
   "window_display": false
  }
 },
 "nbformat": 4,
 "nbformat_minor": 2
}
