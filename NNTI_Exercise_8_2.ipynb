{
 "cells": [
  {
   "cell_type": "markdown",
   "id": "3f3e234d",
   "metadata": {},
   "source": [
    "Name:   \n",
    "Matrikelnummer:  \n",
    "Email:   \n",
    "   \n",
    "Name:   \n",
    "Matrikelnummer:   \n",
    "Email:\n",
    "\n",
    "Name:    \n",
    "Matrikelnummer:    \n",
    "Email:    "
   ]
  },
  {
   "cell_type": "markdown",
   "id": "ada51e96",
   "metadata": {},
   "source": [
    "#### Preamble"
   ]
  },
  {
   "cell_type": "code",
   "execution_count": 1,
   "id": "bb034177",
   "metadata": {},
   "outputs": [],
   "source": [
    "import torch\n",
    "import torch.nn as nn\n",
    "import torch.nn.functional as F\n",
    "from torchvision import transforms\n",
    "from torchvision import datasets\n",
    "import matplotlib.pyplot as plt\n",
    "\n",
    "from tqdm import tqdm"
   ]
  },
  {
   "cell_type": "markdown",
   "id": "121bd9f9",
   "metadata": {},
   "source": [
    "# 8.2 Using different Optimizers\n",
    "\n",
    "In this exercise you get to use your previously built networks, but this time we will play around with different optimizers and have a brief introduction to schedulers (Bonus)"
   ]
  },
  {
   "cell_type": "markdown",
   "id": "7f66f378",
   "metadata": {},
   "source": [
    "### 8.2.1 AdaGrad, Adam, SGD\n",
    "\n",
    "In this exercise reuse your deep regularized network from Assignment 7 (using `torch`) and train your model with different optimizers, namely AdaGrad, Adam, and SGD. (**1 point**)\n",
    "\n",
    "Report your accuracy and $F_1 score$ matrices for training and test set. Do you see any difference in the matrices with rergards to number of epochs? (**0.5 point**)\n",
    "\n",
    "Plot the values of your training loss for all three optimizers. Does your observation of differences match what you expected? (**0.5 point**)\n",
    "\n",
    "In another plot, visualize the weight update trajectories of your model when using different optimizers.\n",
    "\n",
    "*You should keep in mind that while generating points for plotting, you should keep other hyperparameters constant. This provides you a better sense of performance comparison.*"
   ]
  },
  {
   "cell_type": "code",
   "execution_count": 29,
   "id": "3114d8cb",
   "metadata": {},
   "outputs": [],
   "source": [
    "class Model(nn.Module):\n",
    "    \"\"\"\n",
    "    Implement a model that incorporates dropout and L2 regularization\n",
    "    depending on arguments passed.\n",
    "\n",
    "    Args:\n",
    "    input_dim: dimensionality of the inputs\n",
    "    hidden_dim: how many units each hidden layer will have\n",
    "    out_dim: how many output units\n",
    "    num_layers: how many hidden layers to create/use\n",
    "    dropout: a list of booleans specifying which hidden layers will have dropout\n",
    "    dropout_p: the probability used for the `Dropout` layers\n",
    "    l2_reg: a boolean value that indicates whether L2 regularization should be used\n",
    "    \"\"\"\n",
    "\n",
    "    def __init__(self,\n",
    "                 input_dim: int,\n",
    "                 hidden_dim: int,\n",
    "                 out_dim: int,\n",
    "                 num_layers: int,\n",
    "                 dropout: list,\n",
    "                 dropout_p: float,\n",
    "                 l2_reg: bool):\n",
    "        super().__init__()\n",
    "\n",
    "        self.l2_reg = l2_reg\n",
    "\n",
    "        layers = []\n",
    "\n",
    "        layers.append(nn.Flatten())\n",
    "        layers.append(nn.Linear(input_dim, hidden_dim, bias=True))\n",
    "        layers.append(nn.ReLU())\n",
    "\n",
    "        if dropout[0]:\n",
    "            layers.append(nn.Dropout(dropout_p))\n",
    "\n",
    "        for i in range(num_layers - 1):\n",
    "            layers.append(nn.Linear(hidden_dim, hidden_dim, bias=True))\n",
    "            layers.append(nn.ReLU())\n",
    "            if dropout[i + 1]:\n",
    "                layers.append(nn.Dropout(dropout_p))\n",
    "\n",
    "        layers.append(nn.Linear(hidden_dim, out_dim))\n",
    "\n",
    "        self.layers = nn.Sequential(*layers)\n",
    "\n",
    "    def forward(self, x):\n",
    "        return F.softmax(self.layers.forward(x), dim=1)\n",
    "\n",
    "def fit(model, train_loader, test_loader, optimizer:str, epochs=1, alpha=1e-5, lr=1e-4, cuda:bool = True):\n",
    "    # define optimizer\n",
    "    if optimizer == 'sgd':\n",
    "        optimizer = torch.optim.SGD(lr=lr, params=model.parameters(), weight_decay=alpha)\n",
    "    elif optimizer == 'adam':\n",
    "        optimizer = torch.optim.Adam(lr=lr, params=model.parameters(), weight_decay=alpha)\n",
    "    elif optimizer == 'adagrad':\n",
    "        optimizer = torch.optim.Adagrad(lr=lr, params=model.parameters(), weight_decay=alpha)\n",
    "\n",
    "    if cuda:\n",
    "        model = model.cuda()\n",
    "\n",
    "    criterion = nn.CrossEntropyLoss()\n",
    "\n",
    "    train_f1s = []\n",
    "    train_accuracys = []\n",
    "\n",
    "    test_accuracys = []\n",
    "    test_f1s = []\n",
    "\n",
    "    for epoch in range(epochs):\n",
    "        print('epoch:', epoch)\n",
    "        # print(\"#\" * 50, \"epoch:\", epoch, \"#\"*50)\n",
    "\n",
    "        train_loss = torch.tensor(0.0)\n",
    "        test_loss = torch.tensor(0.0)\n",
    "        if cuda:\n",
    "            train_loss = train_loss.cuda()\n",
    "            test_loss = test_loss.cuda()\n",
    "\n",
    "        i = 0\n",
    "\n",
    "        # train\n",
    "        # print('training...')\n",
    "        targets = []\n",
    "        predictions = []\n",
    "        for i, (x, y) in tqdm(enumerate(train_loader), total=len(train_loader)):\n",
    "            if cuda:\n",
    "                x = x.cuda()\n",
    "                y = y.cuda()\n",
    "            optimizer.zero_grad()\n",
    "\n",
    "            # forward pass\n",
    "            pred = model.forward(x)\n",
    "\n",
    "            # optimizer stuff\n",
    "            loss = criterion(pred, y)\n",
    "            loss.backward()\n",
    "\n",
    "            train_loss += loss\n",
    "            optimizer.step()\n",
    "\n",
    "            _, p = torch.max(pred, 1)\n",
    "            # accuracy/f1\n",
    "            for i in range(pred.shape[0]):\n",
    "                targets.append(y[i])\n",
    "                predictions.append(p[i])\n",
    "\n",
    "        train_loss /= len(train_loader)\n",
    "        train_loss = train_loss.detach().cpu()\n",
    "        # print('train loss:', train_loss.item())\n",
    "\n",
    "        targets = torch.tensor(targets)\n",
    "        predictions = torch.tensor(predictions)\n",
    "\n",
    "        # accuracy\n",
    "        train_accuracy = torch.sum(targets == predictions) / targets.shape[0]\n",
    "        train_f1 = f1_loss(targets, predictions)\n",
    "\n",
    "        # print('testing...')\n",
    "        with torch.no_grad():\n",
    "            targets = []\n",
    "            outputs = []\n",
    "\n",
    "            for i, (x, y) in tqdm(enumerate(test_loader), total=len(test_loader)):\n",
    "                if cuda:\n",
    "                    x = x.cuda()\n",
    "                    y = y.cuda()\n",
    "                pred = model.forward(x)\n",
    "                loss = criterion(pred, y)\n",
    "\n",
    "                test_loss += loss\n",
    "\n",
    "                for i in range(pred.shape[0]):\n",
    "                    _, predicted = torch.max(pred[i], 0)\n",
    "                    outputs.append(predicted)\n",
    "                    targets.append(y[i])\n",
    "\n",
    "            outputs = torch.tensor(outputs)\n",
    "            targets = torch.tensor(targets)\n",
    "\n",
    "            test_f1 = f1_loss(targets, outputs)\n",
    "            test_accuracy = torch.sum(targets == outputs) / targets.shape[0]\n",
    "\n",
    "            test_loss /= len(test_loader)\n",
    "            # print('train loss:', test_loss.item())\n",
    "\n",
    "        print(\n",
    "            'F1:', f'train: {train_f1:.3g}', f'test: {test_f1:.3g}'\n",
    "        )\n",
    "        print(\n",
    "            'Accuracy:', f'train: {train_accuracy:.3g}', f'test: {test_accuracy:.3g}'\n",
    "        )\n",
    "        print(\n",
    "            'Loss:', f'train: {train_loss:.3g}', f'test: {test_loss:.3g}'\n",
    "        )\n",
    "\n",
    "        train_f1s.append(train_f1)\n",
    "        test_f1s.append(test_f1)\n",
    "\n",
    "        train_accuracys.append(train_accuracy)\n",
    "        test_accuracys.append(test_accuracy)\n",
    "\n",
    "    return train_f1s, test_f1s, train_accuracys, test_accuracys"
   ]
  },
  {
   "cell_type": "code",
   "execution_count": 30,
   "outputs": [],
   "source": [
    "def f1_loss(y_true: torch.Tensor, y_pred: torch.Tensor, is_training=False) -> torch.Tensor:\n",
    "    assert y_true.ndim == 1\n",
    "    assert y_pred.ndim == 1 or y_pred.ndim == 2\n",
    "\n",
    "    if y_pred.ndim == 2:\n",
    "        y_pred = y_pred.argmax(dim=1)\n",
    "\n",
    "    tp = (y_true * y_pred).sum().to(torch.float32)\n",
    "    tn = ((1 - y_true) * (1 - y_pred)).sum().to(torch.float32)\n",
    "    fp = ((1 - y_true) * y_pred).sum().to(torch.float32)\n",
    "    fn = (y_true * (1 - y_pred)).sum().to(torch.float32)\n",
    "\n",
    "    epsilon = 1e-7\n",
    "\n",
    "    precision = tp / (tp + fp + epsilon)\n",
    "    recall = tp / (tp + fn + epsilon)\n",
    "\n",
    "    f1 = 2 * (precision * recall) / (precision + recall + epsilon)\n",
    "    f1.requires_grad = is_training\n",
    "    return f1"
   ],
   "metadata": {
    "collapsed": false
   }
  },
  {
   "cell_type": "code",
   "execution_count": 31,
   "id": "11d423b0",
   "metadata": {},
   "outputs": [],
   "source": [
    "# Load the data\n",
    "# DO NOT CHANGE THE CODE IN THIS CELL EXCEPT FOR THE BATCH SIZE IF NECESSARY\n",
    "transform_fn = transforms.Compose([transforms.ToTensor(), transforms.Normalize((0.7,), (0.7,)), ])\n",
    "\n",
    "mnist_train = datasets.MNIST(root='./data', train=True, download=True, transform=transform_fn)\n",
    "train_dl = torch.utils.data.DataLoader(mnist_train, batch_size=32, shuffle=True)\n",
    "\n",
    "mnist_test = datasets.MNIST(root='./data', train=False, download=True, transform=transform_fn)\n",
    "test_dl = torch.utils.data.DataLoader(mnist_test, batch_size=32, shuffle=False)\n",
    "\n",
    "# Use the above data for your experiments"
   ]
  },
  {
   "cell_type": "code",
   "execution_count": 34,
   "id": "90ffe95a",
   "metadata": {},
   "outputs": [
    {
     "name": "stdout",
     "output_type": "stream",
     "text": [
      "epoch: 0\n"
     ]
    },
    {
     "name": "stderr",
     "output_type": "stream",
     "text": [
      "100%|██████████| 1875/1875 [00:18<00:00, 101.34it/s]\n",
      "100%|██████████| 313/313 [00:02<00:00, 113.04it/s]\n"
     ]
    },
    {
     "name": "stdout",
     "output_type": "stream",
     "text": [
      "F1: train: 5.42 test: 5.42\n",
      "Accuracy: train: 0.117 test: 0.118\n",
      "Loss: train: 2.3 test: 2.3\n",
      "epoch: 1\n"
     ]
    },
    {
     "name": "stderr",
     "output_type": "stream",
     "text": [
      "100%|██████████| 1875/1875 [00:17<00:00, 107.86it/s]\n",
      "100%|██████████| 313/313 [00:02<00:00, 109.42it/s]\n"
     ]
    },
    {
     "name": "stdout",
     "output_type": "stream",
     "text": [
      "F1: train: 5.43 test: 5.42\n",
      "Accuracy: train: 0.117 test: 0.118\n",
      "Loss: train: 2.3 test: 2.3\n",
      "epoch: 2\n"
     ]
    },
    {
     "name": "stderr",
     "output_type": "stream",
     "text": [
      "100%|██████████| 1875/1875 [00:18<00:00, 102.02it/s]\n",
      "100%|██████████| 313/313 [00:02<00:00, 107.73it/s]\n"
     ]
    },
    {
     "name": "stdout",
     "output_type": "stream",
     "text": [
      "F1: train: 5.43 test: 5.43\n",
      "Accuracy: train: 0.117 test: 0.118\n",
      "Loss: train: 2.3 test: 2.3\n",
      "epoch: 3\n"
     ]
    },
    {
     "name": "stderr",
     "output_type": "stream",
     "text": [
      "100%|██████████| 1875/1875 [00:17<00:00, 105.62it/s]\n",
      "100%|██████████| 313/313 [00:02<00:00, 109.36it/s]\n"
     ]
    },
    {
     "name": "stdout",
     "output_type": "stream",
     "text": [
      "F1: train: 5.43 test: 5.43\n",
      "Accuracy: train: 0.118 test: 0.119\n",
      "Loss: train: 2.3 test: 2.3\n",
      "epoch: 4\n"
     ]
    },
    {
     "name": "stderr",
     "output_type": "stream",
     "text": [
      "100%|██████████| 1875/1875 [00:17<00:00, 105.83it/s]\n",
      "100%|██████████| 313/313 [00:02<00:00, 110.80it/s]\n"
     ]
    },
    {
     "name": "stdout",
     "output_type": "stream",
     "text": [
      "F1: train: 5.44 test: 5.43\n",
      "Accuracy: train: 0.118 test: 0.119\n",
      "Loss: train: 2.3 test: 2.3\n",
      "epoch: 5\n"
     ]
    },
    {
     "name": "stderr",
     "output_type": "stream",
     "text": [
      "100%|██████████| 1875/1875 [00:17<00:00, 104.68it/s]\n",
      "100%|██████████| 313/313 [00:02<00:00, 110.29it/s]\n"
     ]
    },
    {
     "name": "stdout",
     "output_type": "stream",
     "text": [
      "F1: train: 5.44 test: 5.44\n",
      "Accuracy: train: 0.118 test: 0.119\n",
      "Loss: train: 2.3 test: 2.3\n",
      "epoch: 6\n"
     ]
    },
    {
     "name": "stderr",
     "output_type": "stream",
     "text": [
      "100%|██████████| 1875/1875 [00:17<00:00, 104.21it/s]\n",
      "100%|██████████| 313/313 [00:02<00:00, 115.84it/s]\n"
     ]
    },
    {
     "name": "stdout",
     "output_type": "stream",
     "text": [
      "F1: train: 5.44 test: 5.44\n",
      "Accuracy: train: 0.118 test: 0.119\n",
      "Loss: train: 2.3 test: 2.3\n",
      "epoch: 7\n"
     ]
    },
    {
     "name": "stderr",
     "output_type": "stream",
     "text": [
      "100%|██████████| 1875/1875 [00:18<00:00, 102.73it/s]\n",
      "100%|██████████| 313/313 [00:02<00:00, 109.90it/s]\n"
     ]
    },
    {
     "name": "stdout",
     "output_type": "stream",
     "text": [
      "F1: train: 5.45 test: 5.44\n",
      "Accuracy: train: 0.118 test: 0.119\n",
      "Loss: train: 2.3 test: 2.3\n",
      "epoch: 8\n"
     ]
    },
    {
     "name": "stderr",
     "output_type": "stream",
     "text": [
      "100%|██████████| 1875/1875 [00:18<00:00, 103.63it/s]\n",
      "100%|██████████| 313/313 [00:02<00:00, 111.11it/s]\n"
     ]
    },
    {
     "name": "stdout",
     "output_type": "stream",
     "text": [
      "F1: train: 5.45 test: 5.45\n",
      "Accuracy: train: 0.118 test: 0.119\n",
      "Loss: train: 2.3 test: 2.3\n",
      "epoch: 9\n"
     ]
    },
    {
     "name": "stderr",
     "output_type": "stream",
     "text": [
      "100%|██████████| 1875/1875 [00:17<00:00, 104.63it/s]\n",
      "100%|██████████| 313/313 [00:02<00:00, 112.39it/s]\n"
     ]
    },
    {
     "name": "stdout",
     "output_type": "stream",
     "text": [
      "F1: train: 5.45 test: 5.45\n",
      "Accuracy: train: 0.118 test: 0.119\n",
      "Loss: train: 2.3 test: 2.3\n",
      "epoch: 10\n"
     ]
    },
    {
     "name": "stderr",
     "output_type": "stream",
     "text": [
      "100%|██████████| 1875/1875 [00:18<00:00, 102.46it/s]\n",
      "100%|██████████| 313/313 [00:02<00:00, 108.72it/s]\n"
     ]
    },
    {
     "name": "stdout",
     "output_type": "stream",
     "text": [
      "F1: train: 5.45 test: 5.45\n",
      "Accuracy: train: 0.118 test: 0.119\n",
      "Loss: train: 2.3 test: 2.3\n",
      "epoch: 11\n"
     ]
    },
    {
     "name": "stderr",
     "output_type": "stream",
     "text": [
      "100%|██████████| 1875/1875 [00:17<00:00, 106.77it/s]\n",
      "100%|██████████| 313/313 [00:02<00:00, 111.26it/s]\n"
     ]
    },
    {
     "name": "stdout",
     "output_type": "stream",
     "text": [
      "F1: train: 5.45 test: 5.45\n",
      "Accuracy: train: 0.118 test: 0.12\n",
      "Loss: train: 2.3 test: 2.3\n",
      "epoch: 12\n"
     ]
    },
    {
     "name": "stderr",
     "output_type": "stream",
     "text": [
      "100%|██████████| 1875/1875 [00:18<00:00, 103.01it/s]\n",
      "100%|██████████| 313/313 [00:02<00:00, 112.79it/s]\n"
     ]
    },
    {
     "name": "stdout",
     "output_type": "stream",
     "text": [
      "F1: train: 5.45 test: 5.46\n",
      "Accuracy: train: 0.118 test: 0.12\n",
      "Loss: train: 2.3 test: 2.3\n",
      "epoch: 13\n"
     ]
    },
    {
     "name": "stderr",
     "output_type": "stream",
     "text": [
      "100%|██████████| 1875/1875 [00:18<00:00, 100.27it/s]\n",
      "100%|██████████| 313/313 [00:02<00:00, 104.54it/s]\n"
     ]
    },
    {
     "name": "stdout",
     "output_type": "stream",
     "text": [
      "F1: train: 5.46 test: 5.46\n",
      "Accuracy: train: 0.118 test: 0.12\n",
      "Loss: train: 2.3 test: 2.3\n",
      "epoch: 14\n"
     ]
    },
    {
     "name": "stderr",
     "output_type": "stream",
     "text": [
      "100%|██████████| 1875/1875 [00:18<00:00, 102.40it/s]\n",
      "100%|██████████| 313/313 [00:02<00:00, 108.64it/s]\n"
     ]
    },
    {
     "name": "stdout",
     "output_type": "stream",
     "text": [
      "F1: train: 5.46 test: 5.46\n",
      "Accuracy: train: 0.118 test: 0.12\n",
      "Loss: train: 2.3 test: 2.3\n",
      "epoch: 15\n"
     ]
    },
    {
     "name": "stderr",
     "output_type": "stream",
     "text": [
      "100%|██████████| 1875/1875 [00:18<00:00, 102.52it/s]\n",
      "100%|██████████| 313/313 [00:02<00:00, 107.12it/s]\n"
     ]
    },
    {
     "name": "stdout",
     "output_type": "stream",
     "text": [
      "F1: train: 5.46 test: 5.46\n",
      "Accuracy: train: 0.119 test: 0.12\n",
      "Loss: train: 2.3 test: 2.3\n",
      "epoch: 16\n"
     ]
    },
    {
     "name": "stderr",
     "output_type": "stream",
     "text": [
      "100%|██████████| 1875/1875 [00:18<00:00, 103.56it/s]\n",
      "100%|██████████| 313/313 [00:02<00:00, 108.64it/s]\n"
     ]
    },
    {
     "name": "stdout",
     "output_type": "stream",
     "text": [
      "F1: train: 5.46 test: 5.46\n",
      "Accuracy: train: 0.118 test: 0.12\n",
      "Loss: train: 2.3 test: 2.3\n",
      "epoch: 17\n"
     ]
    },
    {
     "name": "stderr",
     "output_type": "stream",
     "text": [
      "100%|██████████| 1875/1875 [00:18<00:00, 99.75it/s] \n",
      "100%|██████████| 313/313 [00:02<00:00, 104.51it/s]\n"
     ]
    },
    {
     "name": "stdout",
     "output_type": "stream",
     "text": [
      "F1: train: 5.46 test: 5.46\n",
      "Accuracy: train: 0.119 test: 0.12\n",
      "Loss: train: 2.3 test: 2.3\n",
      "epoch: 18\n"
     ]
    },
    {
     "name": "stderr",
     "output_type": "stream",
     "text": [
      "100%|██████████| 1875/1875 [00:19<00:00, 98.40it/s] \n",
      "100%|██████████| 313/313 [00:03<00:00, 102.59it/s]\n"
     ]
    },
    {
     "name": "stdout",
     "output_type": "stream",
     "text": [
      "F1: train: 5.46 test: 5.46\n",
      "Accuracy: train: 0.119 test: 0.12\n",
      "Loss: train: 2.3 test: 2.3\n",
      "epoch: 19\n"
     ]
    },
    {
     "name": "stderr",
     "output_type": "stream",
     "text": [
      "100%|██████████| 1875/1875 [00:19<00:00, 98.08it/s] \n",
      "100%|██████████| 313/313 [00:03<00:00, 97.48it/s] \n"
     ]
    },
    {
     "name": "stdout",
     "output_type": "stream",
     "text": [
      "F1: train: 5.46 test: 5.46\n",
      "Accuracy: train: 0.119 test: 0.12\n",
      "Loss: train: 2.3 test: 2.3\n",
      "epoch: 20\n"
     ]
    },
    {
     "name": "stderr",
     "output_type": "stream",
     "text": [
      "100%|██████████| 1875/1875 [00:18<00:00, 98.75it/s] \n",
      "100%|██████████| 313/313 [00:03<00:00, 101.43it/s]\n"
     ]
    },
    {
     "name": "stdout",
     "output_type": "stream",
     "text": [
      "F1: train: 5.46 test: 5.46\n",
      "Accuracy: train: 0.119 test: 0.12\n",
      "Loss: train: 2.3 test: 2.3\n",
      "epoch: 21\n"
     ]
    },
    {
     "name": "stderr",
     "output_type": "stream",
     "text": [
      "100%|██████████| 1875/1875 [00:19<00:00, 96.20it/s] \n",
      "100%|██████████| 313/313 [00:02<00:00, 108.08it/s]\n"
     ]
    },
    {
     "name": "stdout",
     "output_type": "stream",
     "text": [
      "F1: train: 5.46 test: 5.47\n",
      "Accuracy: train: 0.119 test: 0.12\n",
      "Loss: train: 2.3 test: 2.3\n",
      "epoch: 22\n"
     ]
    },
    {
     "name": "stderr",
     "output_type": "stream",
     "text": [
      "100%|██████████| 1875/1875 [00:18<00:00, 101.46it/s]\n",
      "100%|██████████| 313/313 [00:02<00:00, 109.59it/s]\n"
     ]
    },
    {
     "name": "stdout",
     "output_type": "stream",
     "text": [
      "F1: train: 5.47 test: 5.47\n",
      "Accuracy: train: 0.119 test: 0.119\n",
      "Loss: train: 2.3 test: 2.3\n",
      "epoch: 23\n"
     ]
    },
    {
     "name": "stderr",
     "output_type": "stream",
     "text": [
      "100%|██████████| 1875/1875 [00:18<00:00, 102.60it/s]\n",
      "100%|██████████| 313/313 [00:02<00:00, 108.76it/s]\n"
     ]
    },
    {
     "name": "stdout",
     "output_type": "stream",
     "text": [
      "F1: train: 5.47 test: 5.47\n",
      "Accuracy: train: 0.119 test: 0.119\n",
      "Loss: train: 2.3 test: 2.3\n",
      "epoch: 24\n"
     ]
    },
    {
     "name": "stderr",
     "output_type": "stream",
     "text": [
      "100%|██████████| 1875/1875 [00:18<00:00, 100.20it/s]\n",
      "100%|██████████| 313/313 [00:02<00:00, 107.89it/s]\n"
     ]
    },
    {
     "name": "stdout",
     "output_type": "stream",
     "text": [
      "F1: train: 5.47 test: 5.47\n",
      "Accuracy: train: 0.119 test: 0.12\n",
      "Loss: train: 2.3 test: 2.3\n",
      "epoch: 25\n"
     ]
    },
    {
     "name": "stderr",
     "output_type": "stream",
     "text": [
      "100%|██████████| 1875/1875 [00:18<00:00, 101.63it/s]\n",
      "100%|██████████| 313/313 [00:02<00:00, 107.08it/s]\n"
     ]
    },
    {
     "name": "stdout",
     "output_type": "stream",
     "text": [
      "F1: train: 5.47 test: 5.47\n",
      "Accuracy: train: 0.119 test: 0.12\n",
      "Loss: train: 2.3 test: 2.3\n",
      "epoch: 26\n"
     ]
    },
    {
     "name": "stderr",
     "output_type": "stream",
     "text": [
      "100%|██████████| 1875/1875 [00:18<00:00, 101.84it/s]\n",
      "100%|██████████| 313/313 [00:02<00:00, 109.90it/s]\n"
     ]
    },
    {
     "name": "stdout",
     "output_type": "stream",
     "text": [
      "F1: train: 5.47 test: 5.47\n",
      "Accuracy: train: 0.119 test: 0.119\n",
      "Loss: train: 2.3 test: 2.3\n",
      "epoch: 27\n"
     ]
    },
    {
     "name": "stderr",
     "output_type": "stream",
     "text": [
      "100%|██████████| 1875/1875 [00:18<00:00, 103.61it/s]\n",
      "100%|██████████| 313/313 [00:02<00:00, 110.95it/s]\n"
     ]
    },
    {
     "name": "stdout",
     "output_type": "stream",
     "text": [
      "F1: train: 5.47 test: 5.47\n",
      "Accuracy: train: 0.119 test: 0.119\n",
      "Loss: train: 2.3 test: 2.3\n",
      "epoch: 28\n"
     ]
    },
    {
     "name": "stderr",
     "output_type": "stream",
     "text": [
      "100%|██████████| 1875/1875 [00:18<00:00, 103.49it/s]\n",
      "100%|██████████| 313/313 [00:02<00:00, 104.44it/s]\n"
     ]
    },
    {
     "name": "stdout",
     "output_type": "stream",
     "text": [
      "F1: train: 5.47 test: 5.47\n",
      "Accuracy: train: 0.119 test: 0.12\n",
      "Loss: train: 2.3 test: 2.3\n",
      "epoch: 29\n"
     ]
    },
    {
     "name": "stderr",
     "output_type": "stream",
     "text": [
      "100%|██████████| 1875/1875 [00:19<00:00, 98.59it/s] \n",
      "100%|██████████| 313/313 [00:03<00:00, 101.89it/s]\n"
     ]
    },
    {
     "name": "stdout",
     "output_type": "stream",
     "text": [
      "F1: train: 5.47 test: 5.47\n",
      "Accuracy: train: 0.119 test: 0.12\n",
      "Loss: train: 2.3 test: 2.3\n",
      "epoch: 30\n"
     ]
    },
    {
     "name": "stderr",
     "output_type": "stream",
     "text": [
      "100%|██████████| 1875/1875 [00:19<00:00, 96.11it/s] \n",
      "100%|██████████| 313/313 [00:03<00:00, 100.19it/s]\n"
     ]
    },
    {
     "name": "stdout",
     "output_type": "stream",
     "text": [
      "F1: train: 5.47 test: 5.47\n",
      "Accuracy: train: 0.119 test: 0.119\n",
      "Loss: train: 2.3 test: 2.3\n",
      "epoch: 31\n"
     ]
    },
    {
     "name": "stderr",
     "output_type": "stream",
     "text": [
      "100%|██████████| 1875/1875 [00:19<00:00, 97.28it/s] \n",
      "100%|██████████| 313/313 [00:03<00:00, 103.03it/s]\n"
     ]
    },
    {
     "name": "stdout",
     "output_type": "stream",
     "text": [
      "F1: train: 5.47 test: 5.47\n",
      "Accuracy: train: 0.119 test: 0.119\n",
      "Loss: train: 2.3 test: 2.3\n",
      "epoch: 32\n"
     ]
    },
    {
     "name": "stderr",
     "output_type": "stream",
     "text": [
      "100%|██████████| 1875/1875 [00:19<00:00, 97.17it/s] \n",
      "100%|██████████| 313/313 [00:03<00:00, 103.09it/s]\n"
     ]
    },
    {
     "name": "stdout",
     "output_type": "stream",
     "text": [
      "F1: train: 5.47 test: 5.47\n",
      "Accuracy: train: 0.119 test: 0.119\n",
      "Loss: train: 2.3 test: 2.3\n",
      "epoch: 33\n"
     ]
    },
    {
     "name": "stderr",
     "output_type": "stream",
     "text": [
      "100%|██████████| 1875/1875 [00:18<00:00, 99.68it/s] \n",
      "100%|██████████| 313/313 [00:02<00:00, 110.44it/s]\n"
     ]
    },
    {
     "name": "stdout",
     "output_type": "stream",
     "text": [
      "F1: train: 5.47 test: 5.47\n",
      "Accuracy: train: 0.119 test: 0.119\n",
      "Loss: train: 2.3 test: 2.3\n",
      "epoch: 34\n"
     ]
    },
    {
     "name": "stderr",
     "output_type": "stream",
     "text": [
      "100%|██████████| 1875/1875 [00:18<00:00, 103.00it/s]\n",
      "100%|██████████| 313/313 [00:02<00:00, 107.12it/s]\n"
     ]
    },
    {
     "name": "stdout",
     "output_type": "stream",
     "text": [
      "F1: train: 5.47 test: 5.47\n",
      "Accuracy: train: 0.119 test: 0.119\n",
      "Loss: train: 2.3 test: 2.3\n",
      "epoch: 35\n"
     ]
    },
    {
     "name": "stderr",
     "output_type": "stream",
     "text": [
      "100%|██████████| 1875/1875 [00:19<00:00, 98.05it/s] \n",
      "100%|██████████| 313/313 [00:03<00:00, 102.62it/s]\n"
     ]
    },
    {
     "name": "stdout",
     "output_type": "stream",
     "text": [
      "F1: train: 5.47 test: 5.47\n",
      "Accuracy: train: 0.119 test: 0.119\n",
      "Loss: train: 2.3 test: 2.3\n",
      "epoch: 36\n"
     ]
    },
    {
     "name": "stderr",
     "output_type": "stream",
     "text": [
      "100%|██████████| 1875/1875 [00:19<00:00, 97.06it/s]\n",
      "100%|██████████| 313/313 [00:03<00:00, 101.25it/s]\n"
     ]
    },
    {
     "name": "stdout",
     "output_type": "stream",
     "text": [
      "F1: train: 5.47 test: 5.48\n",
      "Accuracy: train: 0.119 test: 0.12\n",
      "Loss: train: 2.3 test: 2.3\n",
      "epoch: 37\n"
     ]
    },
    {
     "name": "stderr",
     "output_type": "stream",
     "text": [
      "100%|██████████| 1875/1875 [00:19<00:00, 95.60it/s] \n",
      "100%|██████████| 313/313 [00:03<00:00, 101.79it/s]\n"
     ]
    },
    {
     "name": "stdout",
     "output_type": "stream",
     "text": [
      "F1: train: 5.47 test: 5.48\n",
      "Accuracy: train: 0.119 test: 0.12\n",
      "Loss: train: 2.3 test: 2.3\n",
      "epoch: 38\n"
     ]
    },
    {
     "name": "stderr",
     "output_type": "stream",
     "text": [
      "100%|██████████| 1875/1875 [00:19<00:00, 96.68it/s]\n",
      "100%|██████████| 313/313 [00:03<00:00, 101.89it/s]\n"
     ]
    },
    {
     "name": "stdout",
     "output_type": "stream",
     "text": [
      "F1: train: 5.47 test: 5.48\n",
      "Accuracy: train: 0.119 test: 0.12\n",
      "Loss: train: 2.3 test: 2.3\n",
      "epoch: 39\n"
     ]
    },
    {
     "name": "stderr",
     "output_type": "stream",
     "text": [
      "100%|██████████| 1875/1875 [00:19<00:00, 96.96it/s] \n",
      "100%|██████████| 313/313 [00:03<00:00, 102.39it/s]\n"
     ]
    },
    {
     "name": "stdout",
     "output_type": "stream",
     "text": [
      "F1: train: 5.47 test: 5.48\n",
      "Accuracy: train: 0.119 test: 0.12\n",
      "Loss: train: 2.3 test: 2.3\n",
      "epoch: 40\n"
     ]
    },
    {
     "name": "stderr",
     "output_type": "stream",
     "text": [
      "100%|██████████| 1875/1875 [00:19<00:00, 96.69it/s] \n",
      "100%|██████████| 313/313 [00:03<00:00, 97.27it/s]\n"
     ]
    },
    {
     "name": "stdout",
     "output_type": "stream",
     "text": [
      "F1: train: 5.47 test: 5.48\n",
      "Accuracy: train: 0.119 test: 0.12\n",
      "Loss: train: 2.3 test: 2.3\n",
      "epoch: 41\n"
     ]
    },
    {
     "name": "stderr",
     "output_type": "stream",
     "text": [
      "100%|██████████| 1875/1875 [00:19<00:00, 97.00it/s]\n",
      "100%|██████████| 313/313 [00:03<00:00, 101.49it/s]\n"
     ]
    },
    {
     "name": "stdout",
     "output_type": "stream",
     "text": [
      "F1: train: 5.48 test: 5.48\n",
      "Accuracy: train: 0.119 test: 0.12\n",
      "Loss: train: 2.3 test: 2.3\n",
      "epoch: 42\n"
     ]
    },
    {
     "name": "stderr",
     "output_type": "stream",
     "text": [
      "100%|██████████| 1875/1875 [00:19<00:00, 95.12it/s]\n",
      "100%|██████████| 313/313 [00:03<00:00, 101.81it/s]\n"
     ]
    },
    {
     "name": "stdout",
     "output_type": "stream",
     "text": [
      "F1: train: 5.48 test: 5.48\n",
      "Accuracy: train: 0.119 test: 0.12\n",
      "Loss: train: 2.3 test: 2.3\n",
      "epoch: 43\n"
     ]
    },
    {
     "name": "stderr",
     "output_type": "stream",
     "text": [
      "100%|██████████| 1875/1875 [00:19<00:00, 97.05it/s] \n",
      "100%|██████████| 313/313 [00:03<00:00, 102.49it/s]\n"
     ]
    },
    {
     "name": "stdout",
     "output_type": "stream",
     "text": [
      "F1: train: 5.48 test: 5.48\n",
      "Accuracy: train: 0.119 test: 0.12\n",
      "Loss: train: 2.3 test: 2.3\n",
      "epoch: 44\n"
     ]
    },
    {
     "name": "stderr",
     "output_type": "stream",
     "text": [
      "100%|██████████| 1875/1875 [00:19<00:00, 97.43it/s] \n",
      "100%|██████████| 313/313 [00:03<00:00, 103.95it/s]\n"
     ]
    },
    {
     "name": "stdout",
     "output_type": "stream",
     "text": [
      "F1: train: 5.48 test: 5.48\n",
      "Accuracy: train: 0.119 test: 0.12\n",
      "Loss: train: 2.3 test: 2.3\n",
      "epoch: 45\n"
     ]
    },
    {
     "name": "stderr",
     "output_type": "stream",
     "text": [
      "100%|██████████| 1875/1875 [00:19<00:00, 98.17it/s] \n",
      "100%|██████████| 313/313 [00:03<00:00, 102.99it/s]\n"
     ]
    },
    {
     "name": "stdout",
     "output_type": "stream",
     "text": [
      "F1: train: 5.48 test: 5.48\n",
      "Accuracy: train: 0.119 test: 0.121\n",
      "Loss: train: 2.3 test: 2.3\n",
      "epoch: 46\n"
     ]
    },
    {
     "name": "stderr",
     "output_type": "stream",
     "text": [
      "100%|██████████| 1875/1875 [00:18<00:00, 102.84it/s]\n",
      "100%|██████████| 313/313 [00:02<00:00, 109.17it/s]\n"
     ]
    },
    {
     "name": "stdout",
     "output_type": "stream",
     "text": [
      "F1: train: 5.48 test: 5.48\n",
      "Accuracy: train: 0.119 test: 0.121\n",
      "Loss: train: 2.3 test: 2.3\n",
      "epoch: 47\n"
     ]
    },
    {
     "name": "stderr",
     "output_type": "stream",
     "text": [
      "100%|██████████| 1875/1875 [00:17<00:00, 104.21it/s]\n",
      "100%|██████████| 313/313 [00:03<00:00, 104.23it/s]\n"
     ]
    },
    {
     "name": "stdout",
     "output_type": "stream",
     "text": [
      "F1: train: 5.48 test: 5.48\n",
      "Accuracy: train: 0.119 test: 0.121\n",
      "Loss: train: 2.3 test: 2.3\n",
      "epoch: 48\n"
     ]
    },
    {
     "name": "stderr",
     "output_type": "stream",
     "text": [
      "100%|██████████| 1875/1875 [00:17<00:00, 105.10it/s]\n",
      "100%|██████████| 313/313 [00:02<00:00, 108.91it/s]\n"
     ]
    },
    {
     "name": "stdout",
     "output_type": "stream",
     "text": [
      "F1: train: 5.48 test: 5.48\n",
      "Accuracy: train: 0.119 test: 0.121\n",
      "Loss: train: 2.3 test: 2.3\n",
      "epoch: 49\n"
     ]
    },
    {
     "name": "stderr",
     "output_type": "stream",
     "text": [
      "100%|██████████| 1875/1875 [00:18<00:00, 102.22it/s]\n",
      "100%|██████████| 313/313 [00:03<00:00, 100.84it/s]\n"
     ]
    },
    {
     "name": "stdout",
     "output_type": "stream",
     "text": [
      "F1: train: 5.48 test: 5.49\n",
      "Accuracy: train: 0.12 test: 0.122\n",
      "Loss: train: 2.3 test: 2.3\n",
      "epoch: 0\n"
     ]
    },
    {
     "name": "stderr",
     "output_type": "stream",
     "text": [
      "100%|██████████| 1875/1875 [00:20<00:00, 91.20it/s]\n",
      "100%|██████████| 313/313 [00:02<00:00, 108.98it/s]\n"
     ]
    },
    {
     "name": "stdout",
     "output_type": "stream",
     "text": [
      "F1: train: 5.57 test: 6.11\n",
      "Accuracy: train: 0.689 test: 0.868\n",
      "Loss: train: 1.82 test: 1.63\n",
      "epoch: 1\n"
     ]
    },
    {
     "name": "stderr",
     "output_type": "stream",
     "text": [
      "100%|██████████| 1875/1875 [00:20<00:00, 89.95it/s]\n",
      "100%|██████████| 313/313 [00:03<00:00, 103.26it/s]\n"
     ]
    },
    {
     "name": "stdout",
     "output_type": "stream",
     "text": [
      "F1: train: 6.11 test: 6.15\n",
      "Accuracy: train: 0.878 test: 0.897\n",
      "Loss: train: 1.6 test: 1.58\n",
      "epoch: 2\n"
     ]
    },
    {
     "name": "stderr",
     "output_type": "stream",
     "text": [
      "100%|██████████| 1875/1875 [00:20<00:00, 91.71it/s]\n",
      "100%|██████████| 313/313 [00:02<00:00, 108.27it/s]\n"
     ]
    },
    {
     "name": "stdout",
     "output_type": "stream",
     "text": [
      "F1: train: 6.13 test: 6.14\n",
      "Accuracy: train: 0.896 test: 0.904\n",
      "Loss: train: 1.58 test: 1.56\n",
      "epoch: 3\n"
     ]
    },
    {
     "name": "stderr",
     "output_type": "stream",
     "text": [
      "100%|██████████| 1875/1875 [00:20<00:00, 92.13it/s]\n",
      "100%|██████████| 313/313 [00:02<00:00, 109.25it/s]\n"
     ]
    },
    {
     "name": "stdout",
     "output_type": "stream",
     "text": [
      "F1: train: 6.14 test: 6.17\n",
      "Accuracy: train: 0.904 test: 0.914\n",
      "Loss: train: 1.56 test: 1.55\n",
      "epoch: 4\n"
     ]
    },
    {
     "name": "stderr",
     "output_type": "stream",
     "text": [
      "100%|██████████| 1875/1875 [00:20<00:00, 91.93it/s]\n",
      "100%|██████████| 313/313 [00:02<00:00, 106.83it/s]\n"
     ]
    },
    {
     "name": "stdout",
     "output_type": "stream",
     "text": [
      "F1: train: 6.16 test: 6.2\n",
      "Accuracy: train: 0.912 test: 0.912\n",
      "Loss: train: 1.56 test: 1.55\n",
      "epoch: 5\n"
     ]
    },
    {
     "name": "stderr",
     "output_type": "stream",
     "text": [
      "100%|██████████| 1875/1875 [00:20<00:00, 89.55it/s]\n",
      "100%|██████████| 313/313 [00:03<00:00, 100.84it/s]\n"
     ]
    },
    {
     "name": "stdout",
     "output_type": "stream",
     "text": [
      "F1: train: 6.17 test: 6.21\n",
      "Accuracy: train: 0.916 test: 0.916\n",
      "Loss: train: 1.55 test: 1.55\n",
      "epoch: 6\n"
     ]
    },
    {
     "name": "stderr",
     "output_type": "stream",
     "text": [
      "100%|██████████| 1875/1875 [00:20<00:00, 90.85it/s]\n",
      "100%|██████████| 313/313 [00:03<00:00, 100.74it/s]\n"
     ]
    },
    {
     "name": "stdout",
     "output_type": "stream",
     "text": [
      "F1: train: 6.17 test: 6.12\n",
      "Accuracy: train: 0.921 test: 0.922\n",
      "Loss: train: 1.55 test: 1.54\n",
      "epoch: 7\n"
     ]
    },
    {
     "name": "stderr",
     "output_type": "stream",
     "text": [
      "100%|██████████| 1875/1875 [00:20<00:00, 91.13it/s]\n",
      "100%|██████████| 313/313 [00:02<00:00, 106.28it/s]\n"
     ]
    },
    {
     "name": "stdout",
     "output_type": "stream",
     "text": [
      "F1: train: 6.18 test: 6.18\n",
      "Accuracy: train: 0.925 test: 0.929\n",
      "Loss: train: 1.54 test: 1.53\n",
      "epoch: 8\n"
     ]
    },
    {
     "name": "stderr",
     "output_type": "stream",
     "text": [
      "100%|██████████| 1875/1875 [00:20<00:00, 91.11it/s]\n",
      "100%|██████████| 313/313 [00:02<00:00, 106.10it/s]\n"
     ]
    },
    {
     "name": "stdout",
     "output_type": "stream",
     "text": [
      "F1: train: 6.19 test: 6.17\n",
      "Accuracy: train: 0.93 test: 0.932\n",
      "Loss: train: 1.54 test: 1.53\n",
      "epoch: 9\n"
     ]
    },
    {
     "name": "stderr",
     "output_type": "stream",
     "text": [
      "100%|██████████| 1875/1875 [00:20<00:00, 91.66it/s]\n",
      "100%|██████████| 313/313 [00:03<00:00, 99.94it/s] \n"
     ]
    },
    {
     "name": "stdout",
     "output_type": "stream",
     "text": [
      "F1: train: 6.19 test: 6.21\n",
      "Accuracy: train: 0.934 test: 0.932\n",
      "Loss: train: 1.53 test: 1.53\n",
      "epoch: 10\n"
     ]
    },
    {
     "name": "stderr",
     "output_type": "stream",
     "text": [
      "100%|██████████| 1875/1875 [00:20<00:00, 89.97it/s]\n",
      "100%|██████████| 313/313 [00:02<00:00, 104.89it/s]\n"
     ]
    },
    {
     "name": "stdout",
     "output_type": "stream",
     "text": [
      "F1: train: 6.2 test: 6.16\n",
      "Accuracy: train: 0.937 test: 0.936\n",
      "Loss: train: 1.53 test: 1.53\n",
      "epoch: 11\n"
     ]
    },
    {
     "name": "stderr",
     "output_type": "stream",
     "text": [
      "100%|██████████| 1875/1875 [00:21<00:00, 88.30it/s]\n",
      "100%|██████████| 313/313 [00:02<00:00, 107.12it/s]\n"
     ]
    },
    {
     "name": "stdout",
     "output_type": "stream",
     "text": [
      "F1: train: 6.2 test: 6.2\n",
      "Accuracy: train: 0.939 test: 0.94\n",
      "Loss: train: 1.53 test: 1.52\n",
      "epoch: 12\n"
     ]
    },
    {
     "name": "stderr",
     "output_type": "stream",
     "text": [
      "100%|██████████| 1875/1875 [00:20<00:00, 90.73it/s]\n",
      "100%|██████████| 313/313 [00:02<00:00, 106.25it/s]\n"
     ]
    },
    {
     "name": "stdout",
     "output_type": "stream",
     "text": [
      "F1: train: 6.21 test: 6.23\n",
      "Accuracy: train: 0.943 test: 0.943\n",
      "Loss: train: 1.52 test: 1.52\n",
      "epoch: 13\n"
     ]
    },
    {
     "name": "stderr",
     "output_type": "stream",
     "text": [
      "100%|██████████| 1875/1875 [00:20<00:00, 90.77it/s]\n",
      "100%|██████████| 313/313 [00:03<00:00, 103.30it/s]\n"
     ]
    },
    {
     "name": "stdout",
     "output_type": "stream",
     "text": [
      "F1: train: 6.21 test: 6.22\n",
      "Accuracy: train: 0.944 test: 0.945\n",
      "Loss: train: 1.52 test: 1.52\n",
      "epoch: 14\n"
     ]
    },
    {
     "name": "stderr",
     "output_type": "stream",
     "text": [
      "100%|██████████| 1875/1875 [00:20<00:00, 90.44it/s]\n",
      "100%|██████████| 313/313 [00:02<00:00, 104.37it/s]\n"
     ]
    },
    {
     "name": "stdout",
     "output_type": "stream",
     "text": [
      "F1: train: 6.22 test: 6.22\n",
      "Accuracy: train: 0.947 test: 0.943\n",
      "Loss: train: 1.52 test: 1.52\n",
      "epoch: 15\n"
     ]
    },
    {
     "name": "stderr",
     "output_type": "stream",
     "text": [
      "100%|██████████| 1875/1875 [00:21<00:00, 89.15it/s]\n",
      "100%|██████████| 313/313 [00:03<00:00, 101.36it/s]\n"
     ]
    },
    {
     "name": "stdout",
     "output_type": "stream",
     "text": [
      "F1: train: 6.23 test: 6.24\n",
      "Accuracy: train: 0.95 test: 0.951\n",
      "Loss: train: 1.51 test: 1.51\n",
      "epoch: 16\n"
     ]
    },
    {
     "name": "stderr",
     "output_type": "stream",
     "text": [
      "100%|██████████| 1875/1875 [00:21<00:00, 86.83it/s]\n",
      "100%|██████████| 313/313 [00:03<00:00, 103.30it/s]\n"
     ]
    },
    {
     "name": "stdout",
     "output_type": "stream",
     "text": [
      "F1: train: 6.23 test: 6.2\n",
      "Accuracy: train: 0.951 test: 0.947\n",
      "Loss: train: 1.51 test: 1.52\n",
      "epoch: 17\n"
     ]
    },
    {
     "name": "stderr",
     "output_type": "stream",
     "text": [
      "100%|██████████| 1875/1875 [00:20<00:00, 91.21it/s]\n",
      "100%|██████████| 313/313 [00:03<00:00, 102.59it/s]\n"
     ]
    },
    {
     "name": "stdout",
     "output_type": "stream",
     "text": [
      "F1: train: 6.23 test: 6.21\n",
      "Accuracy: train: 0.954 test: 0.954\n",
      "Loss: train: 1.51 test: 1.51\n",
      "epoch: 18\n"
     ]
    },
    {
     "name": "stderr",
     "output_type": "stream",
     "text": [
      "100%|██████████| 1875/1875 [00:20<00:00, 90.76it/s]\n",
      "100%|██████████| 313/313 [00:02<00:00, 106.35it/s]\n"
     ]
    },
    {
     "name": "stdout",
     "output_type": "stream",
     "text": [
      "F1: train: 6.24 test: 6.24\n",
      "Accuracy: train: 0.956 test: 0.954\n",
      "Loss: train: 1.51 test: 1.51\n",
      "epoch: 19\n"
     ]
    },
    {
     "name": "stderr",
     "output_type": "stream",
     "text": [
      "100%|██████████| 1875/1875 [00:20<00:00, 90.59it/s]\n",
      "100%|██████████| 313/313 [00:03<00:00, 98.00it/s] \n"
     ]
    },
    {
     "name": "stdout",
     "output_type": "stream",
     "text": [
      "F1: train: 6.24 test: 6.25\n",
      "Accuracy: train: 0.958 test: 0.952\n",
      "Loss: train: 1.51 test: 1.51\n",
      "epoch: 20\n"
     ]
    },
    {
     "name": "stderr",
     "output_type": "stream",
     "text": [
      "100%|██████████| 1875/1875 [00:20<00:00, 91.53it/s]\n",
      "100%|██████████| 313/313 [00:03<00:00, 99.49it/s] \n"
     ]
    },
    {
     "name": "stdout",
     "output_type": "stream",
     "text": [
      "F1: train: 6.24 test: 6.22\n",
      "Accuracy: train: 0.959 test: 0.957\n",
      "Loss: train: 1.5 test: 1.51\n",
      "epoch: 21\n"
     ]
    },
    {
     "name": "stderr",
     "output_type": "stream",
     "text": [
      "100%|██████████| 1875/1875 [00:20<00:00, 90.81it/s]\n",
      "100%|██████████| 313/313 [00:02<00:00, 107.05it/s]\n"
     ]
    },
    {
     "name": "stdout",
     "output_type": "stream",
     "text": [
      "F1: train: 6.24 test: 6.22\n",
      "Accuracy: train: 0.961 test: 0.957\n",
      "Loss: train: 1.5 test: 1.51\n",
      "epoch: 22\n"
     ]
    },
    {
     "name": "stderr",
     "output_type": "stream",
     "text": [
      "100%|██████████| 1875/1875 [00:20<00:00, 90.81it/s]\n",
      "100%|██████████| 313/313 [00:03<00:00, 103.74it/s]\n"
     ]
    },
    {
     "name": "stdout",
     "output_type": "stream",
     "text": [
      "F1: train: 6.25 test: 6.22\n",
      "Accuracy: train: 0.962 test: 0.957\n",
      "Loss: train: 1.5 test: 1.51\n",
      "epoch: 23\n"
     ]
    },
    {
     "name": "stderr",
     "output_type": "stream",
     "text": [
      "100%|██████████| 1875/1875 [00:20<00:00, 90.57it/s]\n",
      "100%|██████████| 313/313 [00:02<00:00, 106.75it/s]\n"
     ]
    },
    {
     "name": "stdout",
     "output_type": "stream",
     "text": [
      "F1: train: 6.25 test: 6.23\n",
      "Accuracy: train: 0.963 test: 0.959\n",
      "Loss: train: 1.5 test: 1.5\n",
      "epoch: 24\n"
     ]
    },
    {
     "name": "stderr",
     "output_type": "stream",
     "text": [
      "100%|██████████| 1875/1875 [00:20<00:00, 91.91it/s]\n",
      "100%|██████████| 313/313 [00:03<00:00, 98.88it/s] \n"
     ]
    },
    {
     "name": "stdout",
     "output_type": "stream",
     "text": [
      "F1: train: 6.25 test: 6.24\n",
      "Accuracy: train: 0.965 test: 0.956\n",
      "Loss: train: 1.5 test: 1.51\n",
      "epoch: 25\n"
     ]
    },
    {
     "name": "stderr",
     "output_type": "stream",
     "text": [
      "100%|██████████| 1875/1875 [00:20<00:00, 89.71it/s]\n",
      "100%|██████████| 313/313 [00:02<00:00, 109.98it/s]\n"
     ]
    },
    {
     "name": "stdout",
     "output_type": "stream",
     "text": [
      "F1: train: 6.26 test: 6.22\n",
      "Accuracy: train: 0.966 test: 0.96\n",
      "Loss: train: 1.5 test: 1.5\n",
      "epoch: 26\n"
     ]
    },
    {
     "name": "stderr",
     "output_type": "stream",
     "text": [
      "100%|██████████| 1875/1875 [00:20<00:00, 90.45it/s]\n",
      "100%|██████████| 313/313 [00:03<00:00, 101.49it/s]\n"
     ]
    },
    {
     "name": "stdout",
     "output_type": "stream",
     "text": [
      "F1: train: 6.26 test: 6.25\n",
      "Accuracy: train: 0.968 test: 0.963\n",
      "Loss: train: 1.5 test: 1.5\n",
      "epoch: 27\n"
     ]
    },
    {
     "name": "stderr",
     "output_type": "stream",
     "text": [
      "100%|██████████| 1875/1875 [00:21<00:00, 87.26it/s]\n",
      "100%|██████████| 313/313 [00:03<00:00, 91.80it/s] \n"
     ]
    },
    {
     "name": "stdout",
     "output_type": "stream",
     "text": [
      "F1: train: 6.26 test: 6.25\n",
      "Accuracy: train: 0.969 test: 0.963\n",
      "Loss: train: 1.49 test: 1.5\n",
      "epoch: 28\n"
     ]
    },
    {
     "name": "stderr",
     "output_type": "stream",
     "text": [
      "100%|██████████| 1875/1875 [00:20<00:00, 90.16it/s]\n",
      "100%|██████████| 313/313 [00:02<00:00, 104.54it/s]\n"
     ]
    },
    {
     "name": "stdout",
     "output_type": "stream",
     "text": [
      "F1: train: 6.27 test: 6.26\n",
      "Accuracy: train: 0.97 test: 0.962\n",
      "Loss: train: 1.49 test: 1.5\n",
      "epoch: 29\n"
     ]
    },
    {
     "name": "stderr",
     "output_type": "stream",
     "text": [
      "100%|██████████| 1875/1875 [00:20<00:00, 90.40it/s]\n",
      "100%|██████████| 313/313 [00:02<00:00, 104.82it/s]\n"
     ]
    },
    {
     "name": "stdout",
     "output_type": "stream",
     "text": [
      "F1: train: 6.27 test: 6.2\n",
      "Accuracy: train: 0.971 test: 0.955\n",
      "Loss: train: 1.49 test: 1.51\n",
      "epoch: 30\n"
     ]
    },
    {
     "name": "stderr",
     "output_type": "stream",
     "text": [
      "100%|██████████| 1875/1875 [00:20<00:00, 90.17it/s]\n",
      "100%|██████████| 313/313 [00:02<00:00, 105.28it/s]\n"
     ]
    },
    {
     "name": "stdout",
     "output_type": "stream",
     "text": [
      "F1: train: 6.27 test: 6.25\n",
      "Accuracy: train: 0.972 test: 0.965\n",
      "Loss: train: 1.49 test: 1.5\n",
      "epoch: 31\n"
     ]
    },
    {
     "name": "stderr",
     "output_type": "stream",
     "text": [
      "100%|██████████| 1875/1875 [00:20<00:00, 90.40it/s]\n",
      "100%|██████████| 313/313 [00:02<00:00, 104.79it/s]\n"
     ]
    },
    {
     "name": "stdout",
     "output_type": "stream",
     "text": [
      "F1: train: 6.27 test: 6.26\n",
      "Accuracy: train: 0.973 test: 0.964\n",
      "Loss: train: 1.49 test: 1.5\n",
      "epoch: 32\n"
     ]
    },
    {
     "name": "stderr",
     "output_type": "stream",
     "text": [
      "100%|██████████| 1875/1875 [00:20<00:00, 89.69it/s]\n",
      "100%|██████████| 313/313 [00:03<00:00, 104.26it/s]\n"
     ]
    },
    {
     "name": "stdout",
     "output_type": "stream",
     "text": [
      "F1: train: 6.28 test: 6.24\n",
      "Accuracy: train: 0.974 test: 0.964\n",
      "Loss: train: 1.49 test: 1.5\n",
      "epoch: 33\n"
     ]
    },
    {
     "name": "stderr",
     "output_type": "stream",
     "text": [
      "100%|██████████| 1875/1875 [00:20<00:00, 90.83it/s]\n",
      "100%|██████████| 313/313 [00:03<00:00, 103.44it/s]\n"
     ]
    },
    {
     "name": "stdout",
     "output_type": "stream",
     "text": [
      "F1: train: 6.28 test: 6.26\n",
      "Accuracy: train: 0.975 test: 0.966\n",
      "Loss: train: 1.49 test: 1.5\n",
      "epoch: 34\n"
     ]
    },
    {
     "name": "stderr",
     "output_type": "stream",
     "text": [
      "100%|██████████| 1875/1875 [00:20<00:00, 89.71it/s]\n",
      "100%|██████████| 313/313 [00:02<00:00, 105.56it/s]\n"
     ]
    },
    {
     "name": "stdout",
     "output_type": "stream",
     "text": [
      "F1: train: 6.28 test: 6.24\n",
      "Accuracy: train: 0.976 test: 0.967\n",
      "Loss: train: 1.49 test: 1.49\n",
      "epoch: 35\n"
     ]
    },
    {
     "name": "stderr",
     "output_type": "stream",
     "text": [
      "100%|██████████| 1875/1875 [00:20<00:00, 90.45it/s]\n",
      "100%|██████████| 313/313 [00:02<00:00, 104.93it/s]\n"
     ]
    },
    {
     "name": "stdout",
     "output_type": "stream",
     "text": [
      "F1: train: 6.28 test: 6.24\n",
      "Accuracy: train: 0.976 test: 0.966\n",
      "Loss: train: 1.49 test: 1.5\n",
      "epoch: 36\n"
     ]
    },
    {
     "name": "stderr",
     "output_type": "stream",
     "text": [
      "100%|██████████| 1875/1875 [00:20<00:00, 89.95it/s]\n",
      "100%|██████████| 313/313 [00:02<00:00, 109.75it/s]\n"
     ]
    },
    {
     "name": "stdout",
     "output_type": "stream",
     "text": [
      "F1: train: 6.28 test: 6.25\n",
      "Accuracy: train: 0.977 test: 0.968\n",
      "Loss: train: 1.49 test: 1.49\n",
      "epoch: 37\n"
     ]
    },
    {
     "name": "stderr",
     "output_type": "stream",
     "text": [
      "100%|██████████| 1875/1875 [00:20<00:00, 89.47it/s]\n",
      "100%|██████████| 313/313 [00:02<00:00, 104.54it/s]\n"
     ]
    },
    {
     "name": "stdout",
     "output_type": "stream",
     "text": [
      "F1: train: 6.28 test: 6.27\n",
      "Accuracy: train: 0.977 test: 0.971\n",
      "Loss: train: 1.49 test: 1.49\n",
      "epoch: 38\n"
     ]
    },
    {
     "name": "stderr",
     "output_type": "stream",
     "text": [
      "100%|██████████| 1875/1875 [00:20<00:00, 89.35it/s]\n",
      "100%|██████████| 313/313 [00:02<00:00, 107.75it/s]\n"
     ]
    },
    {
     "name": "stdout",
     "output_type": "stream",
     "text": [
      "F1: train: 6.28 test: 6.28\n",
      "Accuracy: train: 0.979 test: 0.971\n",
      "Loss: train: 1.48 test: 1.49\n",
      "epoch: 39\n"
     ]
    },
    {
     "name": "stderr",
     "output_type": "stream",
     "text": [
      "100%|██████████| 1875/1875 [00:20<00:00, 89.75it/s]\n",
      "100%|██████████| 313/313 [00:03<00:00, 102.45it/s]\n"
     ]
    },
    {
     "name": "stdout",
     "output_type": "stream",
     "text": [
      "F1: train: 6.28 test: 6.27\n",
      "Accuracy: train: 0.979 test: 0.971\n",
      "Loss: train: 1.48 test: 1.49\n",
      "epoch: 40\n"
     ]
    },
    {
     "name": "stderr",
     "output_type": "stream",
     "text": [
      "100%|██████████| 1875/1875 [00:20<00:00, 90.78it/s]\n",
      "100%|██████████| 313/313 [00:02<00:00, 106.17it/s]\n"
     ]
    },
    {
     "name": "stdout",
     "output_type": "stream",
     "text": [
      "F1: train: 6.29 test: 6.25\n",
      "Accuracy: train: 0.98 test: 0.968\n",
      "Loss: train: 1.48 test: 1.49\n",
      "epoch: 41\n"
     ]
    },
    {
     "name": "stderr",
     "output_type": "stream",
     "text": [
      "100%|██████████| 1875/1875 [00:20<00:00, 91.09it/s]\n",
      "100%|██████████| 313/313 [00:03<00:00, 103.75it/s]\n"
     ]
    },
    {
     "name": "stdout",
     "output_type": "stream",
     "text": [
      "F1: train: 6.29 test: 6.28\n",
      "Accuracy: train: 0.98 test: 0.969\n",
      "Loss: train: 1.48 test: 1.49\n",
      "epoch: 42\n"
     ]
    },
    {
     "name": "stderr",
     "output_type": "stream",
     "text": [
      "100%|██████████| 1875/1875 [00:20<00:00, 93.05it/s]\n",
      "100%|██████████| 313/313 [00:02<00:00, 109.94it/s]\n"
     ]
    },
    {
     "name": "stdout",
     "output_type": "stream",
     "text": [
      "F1: train: 6.29 test: 6.27\n",
      "Accuracy: train: 0.98 test: 0.969\n",
      "Loss: train: 1.48 test: 1.49\n",
      "epoch: 43\n"
     ]
    },
    {
     "name": "stderr",
     "output_type": "stream",
     "text": [
      "100%|██████████| 1875/1875 [00:20<00:00, 92.70it/s]\n",
      "100%|██████████| 313/313 [00:03<00:00, 100.32it/s]\n"
     ]
    },
    {
     "name": "stdout",
     "output_type": "stream",
     "text": [
      "F1: train: 6.29 test: 6.27\n",
      "Accuracy: train: 0.981 test: 0.973\n",
      "Loss: train: 1.48 test: 1.49\n",
      "epoch: 44\n"
     ]
    },
    {
     "name": "stderr",
     "output_type": "stream",
     "text": [
      "100%|██████████| 1875/1875 [00:20<00:00, 91.20it/s]\n",
      "100%|██████████| 313/313 [00:02<00:00, 105.78it/s]\n"
     ]
    },
    {
     "name": "stdout",
     "output_type": "stream",
     "text": [
      "F1: train: 6.29 test: 6.27\n",
      "Accuracy: train: 0.982 test: 0.968\n",
      "Loss: train: 1.48 test: 1.49\n",
      "epoch: 45\n"
     ]
    },
    {
     "name": "stderr",
     "output_type": "stream",
     "text": [
      "100%|██████████| 1875/1875 [00:20<00:00, 89.91it/s]\n",
      "100%|██████████| 313/313 [00:03<00:00, 104.06it/s]\n"
     ]
    },
    {
     "name": "stdout",
     "output_type": "stream",
     "text": [
      "F1: train: 6.29 test: 6.28\n",
      "Accuracy: train: 0.982 test: 0.97\n",
      "Loss: train: 1.48 test: 1.49\n",
      "epoch: 46\n"
     ]
    },
    {
     "name": "stderr",
     "output_type": "stream",
     "text": [
      "100%|██████████| 1875/1875 [00:20<00:00, 91.03it/s]\n",
      "100%|██████████| 313/313 [00:03<00:00, 103.95it/s]\n"
     ]
    },
    {
     "name": "stdout",
     "output_type": "stream",
     "text": [
      "F1: train: 6.29 test: 6.26\n",
      "Accuracy: train: 0.983 test: 0.971\n",
      "Loss: train: 1.48 test: 1.49\n",
      "epoch: 47\n"
     ]
    },
    {
     "name": "stderr",
     "output_type": "stream",
     "text": [
      "100%|██████████| 1875/1875 [00:20<00:00, 90.39it/s]\n",
      "100%|██████████| 313/313 [00:02<00:00, 105.32it/s]\n"
     ]
    },
    {
     "name": "stdout",
     "output_type": "stream",
     "text": [
      "F1: train: 6.29 test: 6.27\n",
      "Accuracy: train: 0.983 test: 0.972\n",
      "Loss: train: 1.48 test: 1.49\n",
      "epoch: 48\n"
     ]
    },
    {
     "name": "stderr",
     "output_type": "stream",
     "text": [
      "100%|██████████| 1875/1875 [00:20<00:00, 90.09it/s]\n",
      "100%|██████████| 313/313 [00:02<00:00, 104.44it/s]\n"
     ]
    },
    {
     "name": "stdout",
     "output_type": "stream",
     "text": [
      "F1: train: 6.29 test: 6.26\n",
      "Accuracy: train: 0.984 test: 0.97\n",
      "Loss: train: 1.48 test: 1.49\n",
      "epoch: 49\n"
     ]
    },
    {
     "name": "stderr",
     "output_type": "stream",
     "text": [
      "100%|██████████| 1875/1875 [00:20<00:00, 89.79it/s]\n",
      "100%|██████████| 313/313 [00:02<00:00, 104.89it/s]\n"
     ]
    },
    {
     "name": "stdout",
     "output_type": "stream",
     "text": [
      "F1: train: 6.29 test: 6.26\n",
      "Accuracy: train: 0.984 test: 0.97\n",
      "Loss: train: 1.48 test: 1.49\n",
      "epoch: 0\n"
     ]
    },
    {
     "name": "stderr",
     "output_type": "stream",
     "text": [
      "100%|██████████| 1875/1875 [00:22<00:00, 82.91it/s]\n",
      "100%|██████████| 313/313 [00:02<00:00, 113.53it/s]\n"
     ]
    },
    {
     "name": "stdout",
     "output_type": "stream",
     "text": [
      "F1: train: 2.22 test: 1.95\n",
      "Accuracy: train: 0.14 test: 0.162\n",
      "Loss: train: 2.29 test: 2.28\n",
      "epoch: 1\n"
     ]
    },
    {
     "name": "stderr",
     "output_type": "stream",
     "text": [
      "100%|██████████| 1875/1875 [00:22<00:00, 82.63it/s]\n",
      "100%|██████████| 313/313 [00:02<00:00, 113.49it/s]\n"
     ]
    },
    {
     "name": "stdout",
     "output_type": "stream",
     "text": [
      "F1: train: 2.42 test: 3.18\n",
      "Accuracy: train: 0.205 test: 0.262\n",
      "Loss: train: 2.25 test: 2.23\n",
      "epoch: 2\n"
     ]
    },
    {
     "name": "stderr",
     "output_type": "stream",
     "text": [
      "100%|██████████| 1875/1875 [00:22<00:00, 84.22it/s]\n",
      "100%|██████████| 313/313 [00:03<00:00, 99.02it/s] \n"
     ]
    },
    {
     "name": "stdout",
     "output_type": "stream",
     "text": [
      "F1: train: 3.68 test: 4.22\n",
      "Accuracy: train: 0.28 test: 0.292\n",
      "Loss: train: 2.2 test: 2.17\n",
      "epoch: 3\n"
     ]
    },
    {
     "name": "stderr",
     "output_type": "stream",
     "text": [
      "100%|██████████| 1875/1875 [00:22<00:00, 83.89it/s]\n",
      "100%|██████████| 313/313 [00:02<00:00, 109.40it/s]\n"
     ]
    },
    {
     "name": "stdout",
     "output_type": "stream",
     "text": [
      "F1: train: 4.4 test: 4.65\n",
      "Accuracy: train: 0.305 test: 0.325\n",
      "Loss: train: 2.16 test: 2.14\n",
      "epoch: 4\n"
     ]
    },
    {
     "name": "stderr",
     "output_type": "stream",
     "text": [
      "100%|██████████| 1875/1875 [00:22<00:00, 84.37it/s]\n",
      "100%|██████████| 313/313 [00:02<00:00, 115.75it/s]\n"
     ]
    },
    {
     "name": "stdout",
     "output_type": "stream",
     "text": [
      "F1: train: 4.62 test: 4.77\n",
      "Accuracy: train: 0.346 test: 0.362\n",
      "Loss: train: 2.12 test: 2.11\n",
      "epoch: 5\n"
     ]
    },
    {
     "name": "stderr",
     "output_type": "stream",
     "text": [
      "100%|██████████| 1875/1875 [00:22<00:00, 84.66it/s]\n",
      "100%|██████████| 313/313 [00:02<00:00, 112.35it/s]\n"
     ]
    },
    {
     "name": "stdout",
     "output_type": "stream",
     "text": [
      "F1: train: 4.7 test: 4.74\n",
      "Accuracy: train: 0.376 test: 0.385\n",
      "Loss: train: 2.1 test: 2.09\n",
      "epoch: 6\n"
     ]
    },
    {
     "name": "stderr",
     "output_type": "stream",
     "text": [
      "100%|██████████| 1875/1875 [00:22<00:00, 83.07it/s]\n",
      "100%|██████████| 313/313 [00:02<00:00, 111.83it/s]\n"
     ]
    },
    {
     "name": "stdout",
     "output_type": "stream",
     "text": [
      "F1: train: 4.68 test: 4.71\n",
      "Accuracy: train: 0.401 test: 0.412\n",
      "Loss: train: 2.08 test: 2.07\n",
      "epoch: 7\n"
     ]
    },
    {
     "name": "stderr",
     "output_type": "stream",
     "text": [
      "100%|██████████| 1875/1875 [00:25<00:00, 74.49it/s]\n",
      "100%|██████████| 313/313 [00:03<00:00, 102.86it/s]\n"
     ]
    },
    {
     "name": "stdout",
     "output_type": "stream",
     "text": [
      "F1: train: 4.63 test: 4.59\n",
      "Accuracy: train: 0.429 test: 0.443\n",
      "Loss: train: 2.06 test: 2.05\n",
      "epoch: 8\n"
     ]
    },
    {
     "name": "stderr",
     "output_type": "stream",
     "text": [
      "100%|██████████| 1875/1875 [00:23<00:00, 80.45it/s]\n",
      "100%|██████████| 313/313 [00:02<00:00, 114.11it/s]\n"
     ]
    },
    {
     "name": "stdout",
     "output_type": "stream",
     "text": [
      "F1: train: 4.57 test: 4.56\n",
      "Accuracy: train: 0.45 test: 0.468\n",
      "Loss: train: 2.05 test: 2.03\n",
      "epoch: 9\n"
     ]
    },
    {
     "name": "stderr",
     "output_type": "stream",
     "text": [
      "100%|██████████| 1875/1875 [00:22<00:00, 83.07it/s]\n",
      "100%|██████████| 313/313 [00:02<00:00, 113.00it/s]\n"
     ]
    },
    {
     "name": "stdout",
     "output_type": "stream",
     "text": [
      "F1: train: 4.59 test: 4.72\n",
      "Accuracy: train: 0.478 test: 0.504\n",
      "Loss: train: 2.03 test: 2.02\n",
      "epoch: 10\n"
     ]
    },
    {
     "name": "stderr",
     "output_type": "stream",
     "text": [
      "100%|██████████| 1875/1875 [00:22<00:00, 82.56it/s]\n",
      "100%|██████████| 313/313 [00:02<00:00, 112.96it/s]\n"
     ]
    },
    {
     "name": "stdout",
     "output_type": "stream",
     "text": [
      "F1: train: 4.76 test: 4.84\n",
      "Accuracy: train: 0.52 test: 0.537\n",
      "Loss: train: 2.02 test: 2.01\n",
      "epoch: 11\n"
     ]
    },
    {
     "name": "stderr",
     "output_type": "stream",
     "text": [
      "100%|██████████| 1875/1875 [00:22<00:00, 85.07it/s]\n",
      "100%|██████████| 313/313 [00:02<00:00, 115.63it/s]\n"
     ]
    },
    {
     "name": "stdout",
     "output_type": "stream",
     "text": [
      "F1: train: 4.86 test: 4.91\n",
      "Accuracy: train: 0.548 test: 0.56\n",
      "Loss: train: 2 test: 1.99\n",
      "epoch: 12\n"
     ]
    },
    {
     "name": "stderr",
     "output_type": "stream",
     "text": [
      "100%|██████████| 1875/1875 [00:22<00:00, 82.84it/s]\n",
      "100%|██████████| 313/313 [00:02<00:00, 115.97it/s]\n"
     ]
    },
    {
     "name": "stdout",
     "output_type": "stream",
     "text": [
      "F1: train: 4.91 test: 4.94\n",
      "Accuracy: train: 0.573 test: 0.589\n",
      "Loss: train: 1.99 test: 1.98\n",
      "epoch: 13\n"
     ]
    },
    {
     "name": "stderr",
     "output_type": "stream",
     "text": [
      "100%|██████████| 1875/1875 [00:22<00:00, 83.02it/s]\n",
      "100%|██████████| 313/313 [00:02<00:00, 110.02it/s]\n"
     ]
    },
    {
     "name": "stdout",
     "output_type": "stream",
     "text": [
      "F1: train: 4.93 test: 4.93\n",
      "Accuracy: train: 0.594 test: 0.606\n",
      "Loss: train: 1.98 test: 1.97\n",
      "epoch: 14\n"
     ]
    },
    {
     "name": "stderr",
     "output_type": "stream",
     "text": [
      "100%|██████████| 1875/1875 [00:23<00:00, 79.48it/s]\n",
      "100%|██████████| 313/313 [00:03<00:00, 100.35it/s]\n"
     ]
    },
    {
     "name": "stdout",
     "output_type": "stream",
     "text": [
      "F1: train: 4.93 test: 4.92\n",
      "Accuracy: train: 0.607 test: 0.618\n",
      "Loss: train: 1.97 test: 1.95\n",
      "epoch: 15\n"
     ]
    },
    {
     "name": "stderr",
     "output_type": "stream",
     "text": [
      "100%|██████████| 1875/1875 [00:22<00:00, 81.92it/s]\n",
      "100%|██████████| 313/313 [00:02<00:00, 111.03it/s]\n"
     ]
    },
    {
     "name": "stdout",
     "output_type": "stream",
     "text": [
      "F1: train: 4.92 test: 4.94\n",
      "Accuracy: train: 0.617 test: 0.624\n",
      "Loss: train: 1.95 test: 1.94\n",
      "epoch: 16\n"
     ]
    },
    {
     "name": "stderr",
     "output_type": "stream",
     "text": [
      "100%|██████████| 1875/1875 [00:23<00:00, 80.98it/s]\n",
      "100%|██████████| 313/313 [00:02<00:00, 105.10it/s]\n"
     ]
    },
    {
     "name": "stdout",
     "output_type": "stream",
     "text": [
      "F1: train: 4.93 test: 4.95\n",
      "Accuracy: train: 0.622 test: 0.628\n",
      "Loss: train: 1.94 test: 1.93\n",
      "epoch: 17\n"
     ]
    },
    {
     "name": "stderr",
     "output_type": "stream",
     "text": [
      "100%|██████████| 1875/1875 [00:23<00:00, 79.60it/s]\n",
      "100%|██████████| 313/313 [00:02<00:00, 109.40it/s]\n"
     ]
    },
    {
     "name": "stdout",
     "output_type": "stream",
     "text": [
      "F1: train: 4.94 test: 4.98\n",
      "Accuracy: train: 0.626 test: 0.633\n",
      "Loss: train: 1.93 test: 1.92\n",
      "epoch: 18\n"
     ]
    },
    {
     "name": "stderr",
     "output_type": "stream",
     "text": [
      "100%|██████████| 1875/1875 [00:22<00:00, 81.53it/s]\n",
      "100%|██████████| 313/313 [00:02<00:00, 111.83it/s]\n"
     ]
    },
    {
     "name": "stdout",
     "output_type": "stream",
     "text": [
      "F1: train: 4.98 test: 5\n",
      "Accuracy: train: 0.631 test: 0.639\n",
      "Loss: train: 1.92 test: 1.91\n",
      "epoch: 19\n"
     ]
    },
    {
     "name": "stderr",
     "output_type": "stream",
     "text": [
      "100%|██████████| 1875/1875 [00:23<00:00, 81.06it/s]\n",
      "100%|██████████| 313/313 [00:02<00:00, 110.17it/s]\n"
     ]
    },
    {
     "name": "stdout",
     "output_type": "stream",
     "text": [
      "F1: train: 5.01 test: 5.03\n",
      "Accuracy: train: 0.637 test: 0.646\n",
      "Loss: train: 1.91 test: 1.9\n",
      "epoch: 20\n"
     ]
    },
    {
     "name": "stderr",
     "output_type": "stream",
     "text": [
      "100%|██████████| 1875/1875 [00:23<00:00, 79.07it/s]\n",
      "100%|██████████| 313/313 [00:02<00:00, 112.19it/s]\n"
     ]
    },
    {
     "name": "stdout",
     "output_type": "stream",
     "text": [
      "F1: train: 5.03 test: 5.12\n",
      "Accuracy: train: 0.642 test: 0.656\n",
      "Loss: train: 1.91 test: 1.89\n",
      "epoch: 21\n"
     ]
    },
    {
     "name": "stderr",
     "output_type": "stream",
     "text": [
      "100%|██████████| 1875/1875 [00:25<00:00, 74.32it/s]\n",
      "100%|██████████| 313/313 [00:03<00:00, 83.40it/s] \n"
     ]
    },
    {
     "name": "stdout",
     "output_type": "stream",
     "text": [
      "F1: train: 5.12 test: 5.16\n",
      "Accuracy: train: 0.653 test: 0.663\n",
      "Loss: train: 1.9 test: 1.89\n",
      "epoch: 22\n"
     ]
    },
    {
     "name": "stderr",
     "output_type": "stream",
     "text": [
      "100%|██████████| 1875/1875 [00:25<00:00, 72.93it/s]\n",
      "100%|██████████| 313/313 [00:02<00:00, 109.29it/s]\n"
     ]
    },
    {
     "name": "stdout",
     "output_type": "stream",
     "text": [
      "F1: train: 5.16 test: 5.2\n",
      "Accuracy: train: 0.659 test: 0.669\n",
      "Loss: train: 1.89 test: 1.88\n",
      "epoch: 23\n"
     ]
    },
    {
     "name": "stderr",
     "output_type": "stream",
     "text": [
      "100%|██████████| 1875/1875 [00:24<00:00, 77.43it/s]\n",
      "100%|██████████| 313/313 [00:02<00:00, 115.88it/s]\n"
     ]
    },
    {
     "name": "stdout",
     "output_type": "stream",
     "text": [
      "F1: train: 5.21 test: 5.23\n",
      "Accuracy: train: 0.666 test: 0.674\n",
      "Loss: train: 1.88 test: 1.87\n",
      "epoch: 24\n"
     ]
    },
    {
     "name": "stderr",
     "output_type": "stream",
     "text": [
      "100%|██████████| 1875/1875 [00:22<00:00, 84.46it/s]\n",
      "100%|██████████| 313/313 [00:02<00:00, 121.08it/s]\n"
     ]
    },
    {
     "name": "stdout",
     "output_type": "stream",
     "text": [
      "F1: train: 5.24 test: 5.27\n",
      "Accuracy: train: 0.671 test: 0.68\n",
      "Loss: train: 1.88 test: 1.87\n",
      "epoch: 25\n"
     ]
    },
    {
     "name": "stderr",
     "output_type": "stream",
     "text": [
      "100%|██████████| 1875/1875 [00:21<00:00, 87.85it/s]\n",
      "100%|██████████| 313/313 [00:02<00:00, 118.38it/s]\n"
     ]
    },
    {
     "name": "stdout",
     "output_type": "stream",
     "text": [
      "F1: train: 5.28 test: 5.31\n",
      "Accuracy: train: 0.676 test: 0.685\n",
      "Loss: train: 1.87 test: 1.86\n",
      "epoch: 26\n"
     ]
    },
    {
     "name": "stderr",
     "output_type": "stream",
     "text": [
      "100%|██████████| 1875/1875 [00:21<00:00, 85.98it/s]\n",
      "100%|██████████| 313/313 [00:02<00:00, 120.36it/s]\n"
     ]
    },
    {
     "name": "stdout",
     "output_type": "stream",
     "text": [
      "F1: train: 5.31 test: 5.34\n",
      "Accuracy: train: 0.681 test: 0.689\n",
      "Loss: train: 1.87 test: 1.86\n",
      "epoch: 27\n"
     ]
    },
    {
     "name": "stderr",
     "output_type": "stream",
     "text": [
      "100%|██████████| 1875/1875 [00:21<00:00, 86.09it/s]\n",
      "100%|██████████| 313/313 [00:02<00:00, 119.76it/s]\n"
     ]
    },
    {
     "name": "stdout",
     "output_type": "stream",
     "text": [
      "F1: train: 5.33 test: 5.36\n",
      "Accuracy: train: 0.684 test: 0.694\n",
      "Loss: train: 1.86 test: 1.85\n",
      "epoch: 28\n"
     ]
    },
    {
     "name": "stderr",
     "output_type": "stream",
     "text": [
      "100%|██████████| 1875/1875 [00:21<00:00, 88.30it/s]\n",
      "100%|██████████| 313/313 [00:02<00:00, 120.02it/s]\n"
     ]
    },
    {
     "name": "stdout",
     "output_type": "stream",
     "text": [
      "F1: train: 5.37 test: 5.38\n",
      "Accuracy: train: 0.687 test: 0.698\n",
      "Loss: train: 1.86 test: 1.85\n",
      "epoch: 29\n"
     ]
    },
    {
     "name": "stderr",
     "output_type": "stream",
     "text": [
      "100%|██████████| 1875/1875 [00:25<00:00, 74.88it/s]\n",
      "100%|██████████| 313/313 [00:03<00:00, 81.62it/s] \n"
     ]
    },
    {
     "name": "stdout",
     "output_type": "stream",
     "text": [
      "F1: train: 5.38 test: 5.43\n",
      "Accuracy: train: 0.69 test: 0.702\n",
      "Loss: train: 1.85 test: 1.85\n",
      "epoch: 30\n"
     ]
    },
    {
     "name": "stderr",
     "output_type": "stream",
     "text": [
      "100%|██████████| 1875/1875 [00:21<00:00, 89.12it/s]\n",
      "100%|██████████| 313/313 [00:02<00:00, 123.96it/s]\n"
     ]
    },
    {
     "name": "stdout",
     "output_type": "stream",
     "text": [
      "F1: train: 5.41 test: 5.44\n",
      "Accuracy: train: 0.693 test: 0.703\n",
      "Loss: train: 1.85 test: 1.84\n",
      "epoch: 31\n"
     ]
    },
    {
     "name": "stderr",
     "output_type": "stream",
     "text": [
      "100%|██████████| 1875/1875 [00:20<00:00, 92.42it/s]\n",
      "100%|██████████| 313/313 [00:02<00:00, 121.98it/s]\n"
     ]
    },
    {
     "name": "stdout",
     "output_type": "stream",
     "text": [
      "F1: train: 5.44 test: 5.43\n",
      "Accuracy: train: 0.695 test: 0.705\n",
      "Loss: train: 1.85 test: 1.84\n",
      "epoch: 32\n"
     ]
    },
    {
     "name": "stderr",
     "output_type": "stream",
     "text": [
      "100%|██████████| 1875/1875 [00:21<00:00, 87.14it/s]\n",
      "100%|██████████| 313/313 [00:03<00:00, 102.66it/s]\n"
     ]
    },
    {
     "name": "stdout",
     "output_type": "stream",
     "text": [
      "F1: train: 5.43 test: 5.47\n",
      "Accuracy: train: 0.696 test: 0.708\n",
      "Loss: train: 1.84 test: 1.83\n",
      "epoch: 33\n"
     ]
    },
    {
     "name": "stderr",
     "output_type": "stream",
     "text": [
      "100%|██████████| 1875/1875 [00:21<00:00, 85.43it/s]\n",
      "100%|██████████| 313/313 [00:02<00:00, 121.25it/s]\n"
     ]
    },
    {
     "name": "stdout",
     "output_type": "stream",
     "text": [
      "F1: train: 5.46 test: 5.47\n",
      "Accuracy: train: 0.699 test: 0.709\n",
      "Loss: train: 1.84 test: 1.83\n",
      "epoch: 34\n"
     ]
    },
    {
     "name": "stderr",
     "output_type": "stream",
     "text": [
      "100%|██████████| 1875/1875 [00:21<00:00, 86.54it/s]\n",
      "100%|██████████| 313/313 [00:02<00:00, 119.65it/s]\n"
     ]
    },
    {
     "name": "stdout",
     "output_type": "stream",
     "text": [
      "F1: train: 5.46 test: 5.5\n",
      "Accuracy: train: 0.7 test: 0.711\n",
      "Loss: train: 1.83 test: 1.83\n",
      "epoch: 35\n"
     ]
    },
    {
     "name": "stderr",
     "output_type": "stream",
     "text": [
      "100%|██████████| 1875/1875 [00:20<00:00, 89.53it/s]\n",
      "100%|██████████| 313/313 [00:02<00:00, 124.75it/s]\n"
     ]
    },
    {
     "name": "stdout",
     "output_type": "stream",
     "text": [
      "F1: train: 5.48 test: 5.51\n",
      "Accuracy: train: 0.702 test: 0.712\n",
      "Loss: train: 1.83 test: 1.82\n",
      "epoch: 36\n"
     ]
    },
    {
     "name": "stderr",
     "output_type": "stream",
     "text": [
      "100%|██████████| 1875/1875 [00:22<00:00, 84.55it/s]\n",
      "100%|██████████| 313/313 [00:02<00:00, 113.04it/s]\n"
     ]
    },
    {
     "name": "stdout",
     "output_type": "stream",
     "text": [
      "F1: train: 5.51 test: 5.54\n",
      "Accuracy: train: 0.705 test: 0.717\n",
      "Loss: train: 1.83 test: 1.82\n",
      "epoch: 37\n"
     ]
    },
    {
     "name": "stderr",
     "output_type": "stream",
     "text": [
      "100%|██████████| 1875/1875 [00:20<00:00, 91.99it/s]\n",
      "100%|██████████| 313/313 [00:02<00:00, 115.75it/s]\n"
     ]
    },
    {
     "name": "stdout",
     "output_type": "stream",
     "text": [
      "F1: train: 5.55 test: 5.61\n",
      "Accuracy: train: 0.713 test: 0.728\n",
      "Loss: train: 1.82 test: 1.81\n",
      "epoch: 38\n"
     ]
    },
    {
     "name": "stderr",
     "output_type": "stream",
     "text": [
      "100%|██████████| 1875/1875 [00:21<00:00, 88.78it/s]\n",
      "100%|██████████| 313/313 [00:02<00:00, 121.70it/s]\n"
     ]
    },
    {
     "name": "stdout",
     "output_type": "stream",
     "text": [
      "F1: train: 5.62 test: 5.64\n",
      "Accuracy: train: 0.723 test: 0.734\n",
      "Loss: train: 1.82 test: 1.81\n",
      "epoch: 39\n"
     ]
    },
    {
     "name": "stderr",
     "output_type": "stream",
     "text": [
      "100%|██████████| 1875/1875 [00:20<00:00, 92.14it/s]\n",
      "100%|██████████| 313/313 [00:02<00:00, 118.83it/s]\n"
     ]
    },
    {
     "name": "stdout",
     "output_type": "stream",
     "text": [
      "F1: train: 5.68 test: 5.67\n",
      "Accuracy: train: 0.732 test: 0.738\n",
      "Loss: train: 1.82 test: 1.81\n",
      "epoch: 40\n"
     ]
    },
    {
     "name": "stderr",
     "output_type": "stream",
     "text": [
      "100%|██████████| 1875/1875 [00:19<00:00, 95.48it/s] \n",
      "100%|██████████| 313/313 [00:02<00:00, 126.36it/s]\n"
     ]
    },
    {
     "name": "stdout",
     "output_type": "stream",
     "text": [
      "F1: train: 5.7 test: 5.72\n",
      "Accuracy: train: 0.736 test: 0.745\n",
      "Loss: train: 1.81 test: 1.8\n",
      "epoch: 41\n"
     ]
    },
    {
     "name": "stderr",
     "output_type": "stream",
     "text": [
      "100%|██████████| 1875/1875 [00:19<00:00, 94.98it/s]\n",
      "100%|██████████| 313/313 [00:02<00:00, 125.20it/s]\n"
     ]
    },
    {
     "name": "stdout",
     "output_type": "stream",
     "text": [
      "F1: train: 5.74 test: 5.74\n",
      "Accuracy: train: 0.741 test: 0.748\n",
      "Loss: train: 1.81 test: 1.8\n",
      "epoch: 42\n"
     ]
    },
    {
     "name": "stderr",
     "output_type": "stream",
     "text": [
      "100%|██████████| 1875/1875 [00:19<00:00, 94.48it/s]\n",
      "100%|██████████| 313/313 [00:02<00:00, 125.50it/s]\n"
     ]
    },
    {
     "name": "stdout",
     "output_type": "stream",
     "text": [
      "F1: train: 5.76 test: 5.76\n",
      "Accuracy: train: 0.743 test: 0.751\n",
      "Loss: train: 1.81 test: 1.8\n",
      "epoch: 43\n"
     ]
    },
    {
     "name": "stderr",
     "output_type": "stream",
     "text": [
      "100%|██████████| 1875/1875 [00:20<00:00, 90.77it/s]\n",
      "100%|██████████| 313/313 [00:02<00:00, 122.60it/s]\n"
     ]
    },
    {
     "name": "stdout",
     "output_type": "stream",
     "text": [
      "F1: train: 5.79 test: 5.77\n",
      "Accuracy: train: 0.747 test: 0.752\n",
      "Loss: train: 1.8 test: 1.8\n",
      "epoch: 44\n"
     ]
    },
    {
     "name": "stderr",
     "output_type": "stream",
     "text": [
      "100%|██████████| 1875/1875 [00:20<00:00, 91.80it/s]\n",
      "100%|██████████| 313/313 [00:02<00:00, 113.65it/s]\n"
     ]
    },
    {
     "name": "stdout",
     "output_type": "stream",
     "text": [
      "F1: train: 5.8 test: 5.8\n",
      "Accuracy: train: 0.748 test: 0.756\n",
      "Loss: train: 1.8 test: 1.79\n",
      "epoch: 45\n"
     ]
    },
    {
     "name": "stderr",
     "output_type": "stream",
     "text": [
      "100%|██████████| 1875/1875 [00:20<00:00, 92.44it/s]\n",
      "100%|██████████| 313/313 [00:02<00:00, 127.13it/s]\n"
     ]
    },
    {
     "name": "stdout",
     "output_type": "stream",
     "text": [
      "F1: train: 5.82 test: 5.81\n",
      "Accuracy: train: 0.751 test: 0.757\n",
      "Loss: train: 1.8 test: 1.79\n",
      "epoch: 46\n"
     ]
    },
    {
     "name": "stderr",
     "output_type": "stream",
     "text": [
      "100%|██████████| 1875/1875 [00:19<00:00, 94.65it/s]\n",
      "100%|██████████| 313/313 [00:02<00:00, 123.76it/s]\n"
     ]
    },
    {
     "name": "stdout",
     "output_type": "stream",
     "text": [
      "F1: train: 5.83 test: 5.84\n",
      "Accuracy: train: 0.753 test: 0.762\n",
      "Loss: train: 1.8 test: 1.79\n",
      "epoch: 47\n"
     ]
    },
    {
     "name": "stderr",
     "output_type": "stream",
     "text": [
      "100%|██████████| 1875/1875 [00:20<00:00, 92.41it/s]\n",
      "100%|██████████| 313/313 [00:02<00:00, 116.62it/s]\n"
     ]
    },
    {
     "name": "stdout",
     "output_type": "stream",
     "text": [
      "F1: train: 5.84 test: 5.85\n",
      "Accuracy: train: 0.755 test: 0.763\n",
      "Loss: train: 1.79 test: 1.78\n",
      "epoch: 48\n"
     ]
    },
    {
     "name": "stderr",
     "output_type": "stream",
     "text": [
      "100%|██████████| 1875/1875 [00:20<00:00, 89.78it/s]\n",
      "100%|██████████| 313/313 [00:02<00:00, 124.21it/s]\n"
     ]
    },
    {
     "name": "stdout",
     "output_type": "stream",
     "text": [
      "F1: train: 5.86 test: 5.85\n",
      "Accuracy: train: 0.757 test: 0.765\n",
      "Loss: train: 1.79 test: 1.78\n",
      "epoch: 49\n"
     ]
    },
    {
     "name": "stderr",
     "output_type": "stream",
     "text": [
      "100%|██████████| 1875/1875 [00:20<00:00, 93.66it/s]\n",
      "100%|██████████| 313/313 [00:02<00:00, 119.88it/s]"
     ]
    },
    {
     "name": "stdout",
     "output_type": "stream",
     "text": [
      "F1: train: 5.87 test: 5.87\n",
      "Accuracy: train: 0.758 test: 0.766\n",
      "Loss: train: 1.79 test: 1.78\n"
     ]
    },
    {
     "name": "stderr",
     "output_type": "stream",
     "text": [
      "\n"
     ]
    }
   ],
   "source": [
    "def init_model():\n",
    "    return Model(\n",
    "        input_dim=28*28,\n",
    "        hidden_dim=256,\n",
    "        out_dim=10,\n",
    "        num_layers=3,\n",
    "        dropout=[False, False, False, False],\n",
    "        dropout_p=0.5,\n",
    "        l2_reg=False\n",
    "    )\n",
    "\n",
    "LR = 5e-5\n",
    "EPOCHS=50\n",
    "\n",
    "# sgd\n",
    "model = init_model()\n",
    "f1_train_sgd, f1_test_sgd, train_acc_sgd, test_acc_sgd = fit(model, train_dl, test_dl, optimizer='sgd', epochs=EPOCHS, lr=LR, alpha=0)\n",
    "\n",
    "# adam\n",
    "model = init_model()\n",
    "f1_train_adam, f1_test_adam, train_acc_adam, test_acc_adam = fit(model, train_dl, test_dl, optimizer='adam', epochs=EPOCHS, lr=LR, alpha=0)\n",
    "\n",
    "# adagrad\n",
    "model = init_model()\n",
    "f1_train_adagrad, f1_test_adagrad, train_acc_adagrad, test_acc_adagrad = fit(model, train_dl, test_dl, optimizer='adagrad', epochs=EPOCHS, lr=LR, alpha=0, cuda=False)"
   ]
  },
  {
   "cell_type": "code",
   "execution_count": 47,
   "outputs": [
    {
     "name": "stdout",
     "output_type": "stream",
     "text": [
      "50 50 50\n",
      "50 50 50\n"
     ]
    }
   ],
   "source": [
    "# retrieving the losses from console because Uga Bouga Brain forgot to save the loss -_-\n",
    "total_losses = [[2.3, 2.3],[2.3, 2.3],[2.3, 2.3],[2.3, 2.3],[2.3, 2.3],[2.3, 2.3],[2.3, 2.3],[2.3, 2.3],[2.3, 2.3],[2.3, 2.3],[2.3, 2.3],[2.3, 2.3],[2.3, 2.3],[2.3, 2.3],[2.3, 2.3],[2.3, 2.3],[2.3, 2.3],[2.3, 2.3],[2.3, 2.3],[2.3, 2.3],[2.3, 2.3],[2.3, 2.3],[2.3, 2.3],[2.3, 2.3],[2.3, 2.3],[2.3, 2.3],[2.3, 2.3],[2.3, 2.3],[2.3, 2.3],[2.3, 2.3],[2.3, 2.3],[2.3, 2.3],[2.3, 2.3],[2.3, 2.3],[2.3, 2.3],[2.3, 2.3],[2.3, 2.3],[2.3, 2.3],[2.3, 2.3],[2.3, 2.3],[2.3, 2.3],[2.3, 2.3],[2.3, 2.3],[2.3, 2.3],[2.3, 2.3],[2.3, 2.3],[2.3, 2.3],[2.3, 2.3],[2.3, 2.3],[2.3, 2.3],[1.82, 1.63],[1.6, 1.58],[1.58, 1.56],[1.56, 1.55],[1.56, 1.55],[1.55, 1.55],[1.55, 1.54],[1.54, 1.53],[1.54, 1.53],[1.53, 1.53],[1.53, 1.53],[1.53, 1.52],[1.52, 1.52],[1.52, 1.52],[1.52, 1.52],[1.51, 1.51],[1.51, 1.52],[1.51, 1.51],[1.51, 1.51],[1.51, 1.51],[1.5, 1.51],[1.5, 1.51],[1.5, 1.51],[1.5, 1.5],[1.5, 1.51],[1.5, 1.5],[1.5, 1.5],[1.49, 1.5],[1.49, 1.5],[1.49, 1.51],[1.49, 1.5],[1.49, 1.5],[1.49, 1.5],[1.49, 1.5],[1.49, 1.49],[1.49, 1.5],[1.49, 1.49],[1.49, 1.49],[1.48, 1.49],[1.48, 1.49],[1.48, 1.49],[1.48, 1.49],[1.48, 1.49],[1.48, 1.49],[1.48, 1.49],[1.48, 1.49],[1.48, 1.49],[1.48, 1.49],[1.48, 1.49],[1.48, 1.49],[2.29, 2.28],[2.25, 2.23],[2.2, 2.17],[2.16, 2.14],[2.12, 2.11],[2.1, 2.09],[2.08, 2.07],[2.06, 2.05],[2.05, 2.03],[2.03, 2.02],[2.02, 2.01],[1.99, 1.98],[1.98, 1.97],[1.97, 1.95],[1.95, 1.94],[1.94, 1.93],[1.93, 1.92],[1.92, 1.91],[1.91, 1.9],[1.91, 1.89],[1.9, 1.89],[1.89, 1.88],[1.88, 1.87],[1.88, 1.87],[1.87, 1.86],[1.87, 1.86],[1.86, 1.85],[1.86, 1.85],[1.85, 1.85],[1.85, 1.84],[1.85, 1.84],[1.84, 1.83],[1.84, 1.83],[1.83, 1.83],[1.83, 1.82],[1.83, 1.82],[1.82, 1.81],[1.82, 1.81],[1.82, 1.81],[1.81, 1.8],[1.81, 1.8],[1.81, 1.8],[1.8, 1.8],[1.8, 1.79],[1.8, 1.79],[1.8, 1.79],[1.79, 1.78],[1.79, 1.78],[1.79, 1.78]]\n",
    "\n",
    "# split in train and test\n",
    "train_loss, test_loss = [], []\n",
    "[(train_loss.append(l1), test_loss.append(l2)) for l1, l2 in total_losses]\n",
    "\n",
    "train_loss_sgd = train_loss[:50]\n",
    "train_loss_adam = train_loss[50:100]\n",
    "train_loss_adagrad = train_loss[100:] + [train_loss[-1]] #\n",
    "test_loss_sgd = test_loss[:50]\n",
    "test_loss_adam = test_loss[50:100]\n",
    "test_loss_adagrad = test_loss[100:] + [test_loss[-1]] # duplicating the last loss because it somehow did not print to the console.\n",
    "# print(len(train_loss))\n",
    "print(len(train_loss_sgd), len(train_loss_adam), len(train_loss_adagrad))\n",
    "print(len(test_loss_sgd), len(test_loss_adam), len(test_loss_adagrad))"
   ],
   "metadata": {
    "collapsed": false
   }
  },
  {
   "cell_type": "code",
   "execution_count": 51,
   "outputs": [
    {
     "data": {
      "text/plain": "<matplotlib.legend.Legend at 0x26740cf3fd0>"
     },
     "execution_count": 51,
     "metadata": {},
     "output_type": "execute_result"
    },
    {
     "data": {
      "text/plain": "<Figure size 720x720 with 6 Axes>",
      "image/png": "[encoded data removed]"
     },
     "metadata": {
      "needs_background": "light"
     },
     "output_type": "display_data"
    }
   ],
   "source": [
    "fig, ax = plt.subplots(3, 2, figsize=(10, 10))\n",
    "\n",
    "ax[0][0].set_title('Train accuracy')\n",
    "ax[0][1].set_title('Test accuracy')\n",
    "ax[1][0].set_title('Train F1')\n",
    "ax[1][1].set_title('Test F1')\n",
    "ax[2][0].set_title('Train loss')\n",
    "ax[2][1].set_title('Test loss')\n",
    "\n",
    "ax[0][0].plot(train_acc_sgd, label='sgd')\n",
    "ax[0][0].plot(train_acc_adam, label='adam')\n",
    "ax[0][0].plot(train_acc_adagrad, label='AdaGrad')\n",
    "ax[0][0].legend()\n",
    "ax[0][1].plot(test_acc_sgd, label='sgd')\n",
    "ax[0][1].plot(test_acc_adam, label='adam')\n",
    "ax[0][1].plot(test_acc_adagrad, label='AdaGrad')\n",
    "ax[0][1].legend()\n",
    "\n",
    "ax[1][0].plot(f1_train_sgd, label='sgd')\n",
    "ax[1][0].plot(f1_train_adam, label='adam')\n",
    "ax[1][0].plot(f1_train_adagrad, label='AdaGrad')\n",
    "ax[1][0].legend()\n",
    "ax[1][1].plot(f1_test_sgd, label='sgd')\n",
    "ax[1][1].plot(f1_test_adam, label='adam')\n",
    "ax[1][1].plot(f1_test_adagrad, label='AdaGrad')\n",
    "ax[1][1].legend()\n",
    "\n",
    "ax[2][0].plot(train_loss_sgd, label='sgd')\n",
    "ax[2][0].plot(train_loss_adam, label='adam')\n",
    "ax[2][0].plot(train_loss_adagrad, label='AdaGrad')\n",
    "ax[2][0].legend()\n",
    "ax[2][1].plot(test_loss_sgd, label='sgd')\n",
    "ax[2][1].plot(test_loss_adam, label='adam')\n",
    "ax[2][1].plot(test_loss_adagrad, label='AdaGrad')\n",
    "ax[2][1].legend()"
   ],
   "metadata": {
    "collapsed": false
   }
  },
  {
   "cell_type": "markdown",
   "source": [
    "We clearly see that SGD gets stuck in a local minima, which hinders its learning. Therefore, all the metrics stay the same for SGD.\n",
    "AdaGrad improves SGD by having a dynamic learning rate. In particular, it lowers the learning rate in proportion to the size of the gradients. Therefore, to reach a local minima, it would take much longer than SGD and Adam. This is seen in both the accuracy, loss and F1 score of AdaGrad.\n",
    "After 50 epochs neither accuracy, nor the loss has converged to a value.\n",
    "Adam take the main ideas from AdaGrad and RMSProp and converge to the boundary of the graph."
   ],
   "metadata": {
    "collapsed": false
   }
  },
  {
   "cell_type": "markdown",
   "id": "fd1b43f4",
   "metadata": {},
   "source": [
    "### 8.2.2 Schedulers (1 point) (**Bonus**)\n",
    "\n",
    "In `torch.optim` module, we have a functionality called `scheduler` https://pytorch.org/docs/stable/optim.html & in several different flavour of schedulers i.e. in Pytorch Ignite and HuggingFace, we have a functionality called `warmup_steps`. Briefly explain why would we need to use a scheduler with warmup steps."
   ]
  },
  {
   "cell_type": "markdown",
   "source": [
    "Because many optimizer, such as Adam, AdaGrad, and RMSProp, accumulate gradients - through the aggregation of sum or mean - the generalization that is achieved with these methods is quite bad (biased) in the first iterations because only a few gradients are averaged. Therefore, it could be that the optimizer \"goes in the wrong direction\" in the first iterations. Therefore, setting the learning rate to a low value in the early iteration allows the optimizer to optimize the parameters as well as accumulate a few gradient for the purpose of generalization before setting the learning rate to a high(er) value."
   ],
   "metadata": {
    "collapsed": false
   }
  },
  {
   "cell_type": "markdown",
   "id": "26a0a988-4d98-45b3-9529-19f59e96daf1",
   "metadata": {},
   "source": []
  }
 ],
 "metadata": {
  "kernelspec": {
   "display_name": "Python 3 (ipykernel)",
   "language": "python",
   "name": "python3"
  },
  "language_info": {
   "codemirror_mode": {
    "name": "ipython",
    "version": 3
   },
   "file_extension": ".py",
   "mimetype": "text/x-python",
   "name": "python",
   "nbconvert_exporter": "python",
   "pygments_lexer": "ipython3",
   "version": "3.9.6"
  }
 },
 "nbformat": 4,
 "nbformat_minor": 5
}
