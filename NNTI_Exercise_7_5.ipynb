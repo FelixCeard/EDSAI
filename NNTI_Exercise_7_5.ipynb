{
 "cells": [
  {
   "cell_type": "markdown",
   "id": "3f3e234d",
   "metadata": {},
   "source": [
    "Name:   \n",
    "Matrikelnummer:  \n",
    "Email:   \n",
    "   \n",
    "Name:   \n",
    "Matrikelnummer:   \n",
    "Email:\n",
    "\n",
    "Name:    \n",
    "Matrikelnummer:    \n",
    "Email:    "
   ]
  },
  {
   "cell_type": "markdown",
   "id": "ada51e96",
   "metadata": {},
   "source": [
    "#### Preamble"
   ]
  },
  {
   "cell_type": "code",
   "execution_count": 91,
   "id": "bb034177",
   "metadata": {},
   "outputs": [],
   "source": [
    "import torch\n",
    "import torch.nn as nn\n",
    "import torch.nn.functional as F\n",
    "from torchvision import transforms\n",
    "from torchvision import datasets\n",
    "import matplotlib.pyplot as plt\n",
    "\n",
    "from tqdm import tqdm"
   ]
  },
  {
   "cell_type": "markdown",
   "id": "121bd9f9",
   "metadata": {},
   "source": [
    "# 7.5 Build your own regularized NN\n",
    "\n",
    "In this exercise you get to use your previously built networks, but this time you need to add regularization in the form of dropout and $L_2$-regularization.\n",
    "\n",
    "Each layer has the option of using dropout. Your code needs to allow for this flexibility.\n",
    "\n",
    "Additionally, adding $L_2$-regularization should also be optional upon creation.\n",
    "\n",
    "**NOTE**: You are allowed to use built-in functions from pytorch to incorporate this functionality."
   ]
  },
  {
   "cell_type": "markdown",
   "id": "7f66f378",
   "metadata": {},
   "source": [
    "### 7.5.1 Implement a regularized model (1 point)\n",
    "\n",
    "Implement your own model (using `torch`) using the skeleton code provided."
   ]
  },
  {
   "cell_type": "code",
   "execution_count": 92,
   "outputs": [],
   "source": [
    "def f1_loss(y_true:torch.Tensor, y_pred:torch.Tensor, is_training=False) -> torch.Tensor:\n",
    "    assert y_true.ndim == 1\n",
    "    assert y_pred.ndim == 1 or y_pred.ndim == 2\n",
    "\n",
    "    if y_pred.ndim == 2:\n",
    "        y_pred = y_pred.argmax(dim=1)\n",
    "\n",
    "\n",
    "    tp = (y_true * y_pred).sum().to(torch.float32)\n",
    "    tn = ((1 - y_true) * (1 - y_pred)).sum().to(torch.float32)\n",
    "    fp = ((1 - y_true) * y_pred).sum().to(torch.float32)\n",
    "    fn = (y_true * (1 - y_pred)).sum().to(torch.float32)\n",
    "\n",
    "    epsilon = 1e-7\n",
    "\n",
    "    precision = tp / (tp + fp + epsilon)\n",
    "    recall = tp / (tp + fn + epsilon)\n",
    "\n",
    "    f1 = 2* (precision*recall) / (precision + recall + epsilon)\n",
    "    f1.requires_grad = is_training\n",
    "    return f1"
   ],
   "metadata": {
    "collapsed": false
   }
  },
  {
   "cell_type": "code",
   "execution_count": 102,
   "id": "3114d8cb",
   "metadata": {},
   "outputs": [],
   "source": [
    "class Model(nn.Module):\n",
    "    \"\"\"\n",
    "    Implement a model that incorporates dropout and L2 regularization\n",
    "    depending on arguments passed.\n",
    "    \n",
    "    Args:\n",
    "    input_dim: dimensionality of the inputs\n",
    "    hidden_dim: how many units each hidden layer will have\n",
    "    out_dim: how many output units\n",
    "    num_layers: how many hidden layers to create/use\n",
    "    dropout: a list of booleans specifying which hidden layers will have dropout\n",
    "    dropout_p: the probability used for the `Dropout` layers\n",
    "    l2_reg: a boolean value that indicates whether L2 regularization should be used\n",
    "    \"\"\"\n",
    "    def __init__(self,\n",
    "                 input_dim: int,\n",
    "                 hidden_dim: int,\n",
    "                 out_dim: int,\n",
    "                 num_layers: int,\n",
    "                 dropout: list,\n",
    "                 dropout_p: float,\n",
    "                 l2_reg: bool):\n",
    "        super().__init__()\n",
    "\n",
    "        self.l2_reg = l2_reg\n",
    "\n",
    "        layers = []\n",
    "\n",
    "        layers.append(nn.Flatten())\n",
    "        layers.append(nn.Linear(input_dim, hidden_dim, bias=True))\n",
    "        layers.append(nn.ReLU())\n",
    "\n",
    "        if dropout[0]:\n",
    "            layers.append(nn.Dropout(dropout_p))\n",
    "\n",
    "        for i in range(num_layers-1):\n",
    "            layers.append(nn.Linear(hidden_dim, hidden_dim, bias=True))\n",
    "            layers.append(nn.ReLU())\n",
    "            if dropout[i+1]:\n",
    "                layers.append(nn.Dropout(dropout_p))\n",
    "\n",
    "        layers.append(nn.Linear(hidden_dim, out_dim))\n",
    "\n",
    "        self.layers = nn.Sequential(*layers)\n",
    "\n",
    "    def forward(self, x):\n",
    "        return F.softmax(self.layers.forward(x), dim=1)\n",
    "\n",
    "    def fit(self, train_loader, test_loader, epochs=1, lr=1e-4, alpha=1e-5):\n",
    "        # define optimizer\n",
    "        sgd = None\n",
    "        if self.l2_reg:\n",
    "            sgd = torch.optim.Adam(lr=lr, params=self.parameters(), weight_decay=alpha)\n",
    "        else:\n",
    "            sgd = torch.optim.Adam(lr=lr, params=self.parameters())\n",
    "\n",
    "        criterion = nn.CrossEntropyLoss()\n",
    "\n",
    "        train_f1s = []\n",
    "        train_accuracys = []\n",
    "\n",
    "        test_accuracys = []\n",
    "        test_f1s = []\n",
    "\n",
    "        for epoch in range(epochs):\n",
    "            print('epoch:', epoch)\n",
    "            # print(\"#\" * 50, \"epoch:\", epoch, \"#\"*50)\n",
    "            train_f1 = None\n",
    "            train_accuracy = None\n",
    "\n",
    "            test_accuracy = None\n",
    "            test_f1 = None\n",
    "\n",
    "            train_loss = torch.tensor(0.0)\n",
    "            test_loss = torch.tensor(0.0)\n",
    "\n",
    "            i = 0\n",
    "\n",
    "            # train\n",
    "            # print('training...')\n",
    "            targets = []\n",
    "            predictions = []\n",
    "            for i, (x, y) in tqdm(enumerate(train_loader), total=len(train_loader)):\n",
    "                sgd.zero_grad()\n",
    "\n",
    "                # forward pass\n",
    "                pred = self.forward(x)\n",
    "\n",
    "                # optimizer stuff\n",
    "                loss = criterion(pred, y)\n",
    "                loss.backward()\n",
    "\n",
    "                train_loss += loss\n",
    "                sgd.step()\n",
    "\n",
    "                _, p = torch.max(pred, 1)\n",
    "                # accuracy/f1\n",
    "                for i in range(pred.shape[0]):\n",
    "                    targets.append(y[i])\n",
    "                    predictions.append(p[i])\n",
    "\n",
    "            train_loss /= len(train_loader)\n",
    "            # print('train loss:', train_loss.item())\n",
    "\n",
    "            targets = torch.tensor(targets)\n",
    "            predictions = torch.tensor(predictions)\n",
    "\n",
    "            # accuracy\n",
    "            train_accuracy = torch.sum(targets == predictions) / targets.shape[0]\n",
    "            train_f1 = f1_loss(targets, predictions)\n",
    "\n",
    "\n",
    "            # print('testing...')\n",
    "            with torch.no_grad():\n",
    "                targets = []\n",
    "                outputs = []\n",
    "\n",
    "                for i, (x, y) in tqdm(enumerate(test_loader), total=len(test_loader)):\n",
    "                    pred = self.forward(x)\n",
    "                    loss = criterion(pred, y)\n",
    "\n",
    "                    test_loss += loss\n",
    "\n",
    "                    for i in range(pred.shape[0]):\n",
    "                        _, predicted = torch.max(pred[i], 0)\n",
    "                        outputs.append(predicted)\n",
    "                        targets.append(y[i])\n",
    "\n",
    "                outputs = torch.tensor(outputs)\n",
    "                targets = torch.tensor(targets)\n",
    "\n",
    "                test_f1 = f1_loss(targets, outputs)\n",
    "                test_accuracy = torch.sum(targets == outputs) / targets.shape[0]\n",
    "\n",
    "                test_loss /= len(test_loader)\n",
    "                # print('train loss:', test_loss.item())\n",
    "\n",
    "            print(\n",
    "                'F1:', f'train: {train_f1:.3g}', f'test: {test_f1:.3g}'\n",
    "            )\n",
    "            print(\n",
    "                'Accuracy:', f'train: {train_accuracy:.3g}', f'test: {test_accuracy:.3g}'\n",
    "            )\n",
    "            print(\n",
    "                'Loss:', f'train: {train_loss:.3g}', f'test: {test_loss:.3g}'\n",
    "            )\n",
    "\n",
    "            train_f1s.append(train_f1)\n",
    "            test_f1s.append(test_f1)\n",
    "\n",
    "            train_accuracys.append(train_accuracy)\n",
    "            test_accuracys.append(test_accuracy)\n",
    "\n",
    "        return train_f1s, test_f1s, train_accuracys, test_accuracys"
   ]
  },
  {
   "cell_type": "markdown",
   "id": "33aeb6d0",
   "metadata": {},
   "source": [
    "### 7.5.2 Experiment with your model (1 point)"
   ]
  },
  {
   "cell_type": "markdown",
   "id": "69876914",
   "metadata": {},
   "source": [
    "Use the MNIST dataset and evaluation code from the previous assignment to run some experiments. Run the following experiments:\n",
    "\n",
    "1. Shallow network (not more than 1 hidden layer)\n",
    "1. Shallow regularized network\n",
    "1. Deep network (at least 3 hidden layers)\n",
    "1. Deep regularized network\n",
    "\n",
    "Report Accuracy and $F_1$ metrics for your experiments and discuss your results. What did you expect to see and what did you end up seeing.\n",
    "\n",
    "**NOTE**: You can choose how you use regularization. Ideally you would experiment with various parameters for this regularization, the 4 listed variants are merely what you must cover as a minimum. Report results for all your experiments concisely in a table.\n",
    "\n",
    "**NOTE 2**: Make sure to report your metrics on the training and evaluation/heldout sets."
   ]
  },
  {
   "cell_type": "code",
   "execution_count": 103,
   "id": "11d423b0",
   "metadata": {},
   "outputs": [],
   "source": [
    "# Load the data\n",
    "# DO NOT CHANGE THE CODE IN THIS CELL EXCEPT FOR THE BATCH SIZE IF NECESSARY\n",
    "transform_fn = transforms.Compose([transforms.ToTensor(), transforms.Normalize((0.7,), (0.7,)),])\n",
    "\n",
    "mnist_train = datasets.MNIST(root='./data', train=True, download=True, transform=transform_fn)\n",
    "train_dl = torch.utils.data.DataLoader(mnist_train, batch_size=32, shuffle=True)\n",
    "\n",
    "mnist_test = datasets.MNIST(root='./data', train=False, download=True, transform=transform_fn)\n",
    "test_dl = torch.utils.data.DataLoader(mnist_test, batch_size=32, shuffle=False)\n",
    "\n",
    "# Use the above data for your experiments"
   ]
  },
  {
   "cell_type": "code",
   "execution_count": 108,
   "outputs": [
    {
     "name": "stdout",
     "output_type": "stream",
     "text": [
      "epoch: 0\n"
     ]
    },
    {
     "name": "stderr",
     "output_type": "stream",
     "text": [
      "100%|██████████| 1875/1875 [01:15<00:00, 24.92it/s]\n",
      "100%|██████████| 313/313 [00:05<00:00, 61.41it/s]\n"
     ]
    },
    {
     "name": "stdout",
     "output_type": "stream",
     "text": [
      "F1: train: 5.5 test: 6.12\n",
      "Accuracy: train: 0.615 test: 0.789\n",
      "Loss: train: 1.85 test: 1.68\n",
      "epoch: 1\n"
     ]
    },
    {
     "name": "stderr",
     "output_type": "stream",
     "text": [
      "100%|██████████| 1875/1875 [01:19<00:00, 23.61it/s]\n",
      "100%|██████████| 313/313 [00:05<00:00, 62.57it/s]\n"
     ]
    },
    {
     "name": "stdout",
     "output_type": "stream",
     "text": [
      "F1: train: 6.06 test: 6.12\n",
      "Accuracy: train: 0.846 test: 0.878\n",
      "Loss: train: 1.62 test: 1.59\n",
      "epoch: 2\n"
     ]
    },
    {
     "name": "stderr",
     "output_type": "stream",
     "text": [
      "100%|██████████| 1875/1875 [01:22<00:00, 22.73it/s]\n",
      "100%|██████████| 313/313 [00:04<00:00, 63.20it/s]\n"
     ]
    },
    {
     "name": "stdout",
     "output_type": "stream",
     "text": [
      "F1: train: 6.1 test: 6.15\n",
      "Accuracy: train: 0.875 test: 0.886\n",
      "Loss: train: 1.59 test: 1.58\n",
      "epoch: 3\n"
     ]
    },
    {
     "name": "stderr",
     "output_type": "stream",
     "text": [
      "100%|██████████| 1875/1875 [01:20<00:00, 23.30it/s]\n",
      "100%|██████████| 313/313 [00:05<00:00, 62.04it/s]\n"
     ]
    },
    {
     "name": "stdout",
     "output_type": "stream",
     "text": [
      "F1: train: 6.11 test: 6.07\n",
      "Accuracy: train: 0.888 test: 0.895\n",
      "Loss: train: 1.57 test: 1.57\n",
      "epoch: 4\n"
     ]
    },
    {
     "name": "stderr",
     "output_type": "stream",
     "text": [
      "100%|██████████| 1875/1875 [01:21<00:00, 22.92it/s]\n",
      "100%|██████████| 313/313 [00:05<00:00, 59.55it/s]\n"
     ]
    },
    {
     "name": "stdout",
     "output_type": "stream",
     "text": [
      "F1: train: 6.13 test: 6.14\n",
      "Accuracy: train: 0.899 test: 0.909\n",
      "Loss: train: 1.56 test: 1.55\n",
      "epoch: 5\n"
     ]
    },
    {
     "name": "stderr",
     "output_type": "stream",
     "text": [
      "100%|██████████| 1875/1875 [01:22<00:00, 22.81it/s]\n",
      "100%|██████████| 313/313 [00:05<00:00, 62.56it/s]\n"
     ]
    },
    {
     "name": "stdout",
     "output_type": "stream",
     "text": [
      "F1: train: 6.14 test: 6.14\n",
      "Accuracy: train: 0.903 test: 0.902\n",
      "Loss: train: 1.56 test: 1.56\n",
      "epoch: 6\n"
     ]
    },
    {
     "name": "stderr",
     "output_type": "stream",
     "text": [
      "100%|██████████| 1875/1875 [01:23<00:00, 22.54it/s]\n",
      "100%|██████████| 313/313 [00:05<00:00, 60.78it/s]\n"
     ]
    },
    {
     "name": "stdout",
     "output_type": "stream",
     "text": [
      "F1: train: 6.15 test: 6.2\n",
      "Accuracy: train: 0.908 test: 0.91\n",
      "Loss: train: 1.55 test: 1.55\n",
      "epoch: 7\n"
     ]
    },
    {
     "name": "stderr",
     "output_type": "stream",
     "text": [
      "100%|██████████| 1875/1875 [01:23<00:00, 22.38it/s]\n",
      "100%|██████████| 313/313 [00:05<00:00, 62.09it/s]\n"
     ]
    },
    {
     "name": "stdout",
     "output_type": "stream",
     "text": [
      "F1: train: 6.14 test: 6.17\n",
      "Accuracy: train: 0.909 test: 0.904\n",
      "Loss: train: 1.55 test: 1.56\n",
      "epoch: 8\n"
     ]
    },
    {
     "name": "stderr",
     "output_type": "stream",
     "text": [
      "100%|██████████| 1875/1875 [01:24<00:00, 22.21it/s]\n",
      "100%|██████████| 313/313 [00:05<00:00, 61.40it/s]\n"
     ]
    },
    {
     "name": "stdout",
     "output_type": "stream",
     "text": [
      "F1: train: 6.16 test: 6.21\n",
      "Accuracy: train: 0.914 test: 0.919\n",
      "Loss: train: 1.55 test: 1.54\n",
      "epoch: 9\n"
     ]
    },
    {
     "name": "stderr",
     "output_type": "stream",
     "text": [
      "100%|██████████| 1875/1875 [01:30<00:00, 20.78it/s]\n",
      "100%|██████████| 313/313 [00:04<00:00, 62.70it/s]\n"
     ]
    },
    {
     "name": "stdout",
     "output_type": "stream",
     "text": [
      "F1: train: 6.17 test: 6.16\n",
      "Accuracy: train: 0.916 test: 0.92\n",
      "Loss: train: 1.55 test: 1.54\n"
     ]
    }
   ],
   "source": [
    "model = Model(\n",
    "    input_dim=28*28,\n",
    "    hidden_dim=512,\n",
    "    out_dim=10,\n",
    "    num_layers=4,\n",
    "    dropout=[True, True, True, False],\n",
    "    dropout_p=0.5,\n",
    "    l2_reg=False\n",
    ")\n",
    "\n",
    "\n",
    "f1_train_deep_reg, f1_test_deep_reg,train_acc_deep_reg, test_acc_deep_reg = model.fit(train_dl, test_dl, epochs=10)"
   ],
   "metadata": {
    "collapsed": false
   }
  },
  {
   "cell_type": "code",
   "execution_count": 109,
   "id": "90ffe95a",
   "metadata": {},
   "outputs": [
    {
     "name": "stdout",
     "output_type": "stream",
     "text": [
      "epoch: 0\n"
     ]
    },
    {
     "name": "stderr",
     "output_type": "stream",
     "text": [
      "100%|██████████| 1875/1875 [01:22<00:00, 22.75it/s]\n",
      "100%|██████████| 313/313 [00:05<00:00, 62.35it/s]\n"
     ]
    },
    {
     "name": "stdout",
     "output_type": "stream",
     "text": [
      "F1: train: 5.96 test: 6.22\n",
      "Accuracy: train: 0.758 test: 0.838\n",
      "Loss: train: 1.72 test: 1.63\n",
      "epoch: 1\n"
     ]
    },
    {
     "name": "stderr",
     "output_type": "stream",
     "text": [
      "100%|██████████| 1875/1875 [01:27<00:00, 21.50it/s]\n",
      "100%|██████████| 313/313 [00:04<00:00, 63.85it/s]\n"
     ]
    },
    {
     "name": "stdout",
     "output_type": "stream",
     "text": [
      "F1: train: 6.14 test: 6.18\n",
      "Accuracy: train: 0.871 test: 0.918\n",
      "Loss: train: 1.59 test: 1.55\n",
      "epoch: 2\n"
     ]
    },
    {
     "name": "stderr",
     "output_type": "stream",
     "text": [
      "100%|██████████| 1875/1875 [01:27<00:00, 21.41it/s]\n",
      "100%|██████████| 313/313 [00:05<00:00, 62.44it/s]\n"
     ]
    },
    {
     "name": "stdout",
     "output_type": "stream",
     "text": [
      "F1: train: 6.16 test: 6.17\n",
      "Accuracy: train: 0.919 test: 0.928\n",
      "Loss: train: 1.55 test: 1.53\n",
      "epoch: 3\n"
     ]
    },
    {
     "name": "stderr",
     "output_type": "stream",
     "text": [
      "100%|██████████| 1875/1875 [01:28<00:00, 21.23it/s]\n",
      "100%|██████████| 313/313 [00:05<00:00, 60.76it/s]\n"
     ]
    },
    {
     "name": "stdout",
     "output_type": "stream",
     "text": [
      "F1: train: 6.2 test: 6.16\n",
      "Accuracy: train: 0.934 test: 0.938\n",
      "Loss: train: 1.53 test: 1.52\n",
      "epoch: 4\n"
     ]
    },
    {
     "name": "stderr",
     "output_type": "stream",
     "text": [
      "100%|██████████| 1875/1875 [01:27<00:00, 21.48it/s]\n",
      "100%|██████████| 313/313 [00:04<00:00, 65.29it/s]\n"
     ]
    },
    {
     "name": "stdout",
     "output_type": "stream",
     "text": [
      "F1: train: 6.21 test: 6.21\n",
      "Accuracy: train: 0.942 test: 0.935\n",
      "Loss: train: 1.52 test: 1.53\n",
      "epoch: 5\n"
     ]
    },
    {
     "name": "stderr",
     "output_type": "stream",
     "text": [
      "100%|██████████| 1875/1875 [01:27<00:00, 21.42it/s]\n",
      "100%|██████████| 313/313 [00:04<00:00, 65.08it/s]\n"
     ]
    },
    {
     "name": "stdout",
     "output_type": "stream",
     "text": [
      "F1: train: 6.22 test: 6.17\n",
      "Accuracy: train: 0.948 test: 0.947\n",
      "Loss: train: 1.51 test: 1.51\n",
      "epoch: 6\n"
     ]
    },
    {
     "name": "stderr",
     "output_type": "stream",
     "text": [
      "100%|██████████| 1875/1875 [01:28<00:00, 21.16it/s]\n",
      "100%|██████████| 313/313 [00:04<00:00, 66.28it/s]\n"
     ]
    },
    {
     "name": "stdout",
     "output_type": "stream",
     "text": [
      "F1: train: 6.23 test: 6.2\n",
      "Accuracy: train: 0.953 test: 0.954\n",
      "Loss: train: 1.51 test: 1.51\n",
      "epoch: 7\n"
     ]
    },
    {
     "name": "stderr",
     "output_type": "stream",
     "text": [
      "100%|██████████| 1875/1875 [01:27<00:00, 21.41it/s]\n",
      "100%|██████████| 313/313 [00:04<00:00, 67.16it/s]\n"
     ]
    },
    {
     "name": "stdout",
     "output_type": "stream",
     "text": [
      "F1: train: 6.23 test: 6.25\n",
      "Accuracy: train: 0.956 test: 0.954\n",
      "Loss: train: 1.51 test: 1.51\n",
      "epoch: 8\n"
     ]
    },
    {
     "name": "stderr",
     "output_type": "stream",
     "text": [
      "100%|██████████| 1875/1875 [01:27<00:00, 21.42it/s]\n",
      "100%|██████████| 313/313 [00:05<00:00, 60.21it/s]\n"
     ]
    },
    {
     "name": "stdout",
     "output_type": "stream",
     "text": [
      "F1: train: 6.24 test: 6.18\n",
      "Accuracy: train: 0.959 test: 0.946\n",
      "Loss: train: 1.5 test: 1.52\n",
      "epoch: 9\n"
     ]
    },
    {
     "name": "stderr",
     "output_type": "stream",
     "text": [
      "100%|██████████| 1875/1875 [01:27<00:00, 21.39it/s]\n",
      "100%|██████████| 313/313 [00:05<00:00, 62.36it/s]"
     ]
    },
    {
     "name": "stdout",
     "output_type": "stream",
     "text": [
      "F1: train: 6.24 test: 6.25\n",
      "Accuracy: train: 0.96 test: 0.959\n",
      "Loss: train: 1.5 test: 1.5\n"
     ]
    },
    {
     "name": "stderr",
     "output_type": "stream",
     "text": [
      "\n"
     ]
    }
   ],
   "source": [
    "model = Model(\n",
    "    input_dim=28*28,\n",
    "    hidden_dim=512,\n",
    "    out_dim=10,\n",
    "    num_layers=4,\n",
    "    dropout=[False, False, False, False],\n",
    "    dropout_p=0.5,\n",
    "    l2_reg=False\n",
    ")\n",
    "\n",
    "\n",
    "f1_train_deep, f1_test_deep, train_acc_deep, test_acc_deep = model.fit(train_dl, test_dl, epochs=10)"
   ]
  },
  {
   "cell_type": "code",
   "execution_count": 106,
   "id": "94c4ebae",
   "metadata": {},
   "outputs": [
    {
     "name": "stdout",
     "output_type": "stream",
     "text": [
      "epoch: 0\n"
     ]
    },
    {
     "name": "stderr",
     "output_type": "stream",
     "text": [
      "100%|██████████| 1875/1875 [00:45<00:00, 41.46it/s]\n",
      "100%|██████████| 313/313 [00:05<00:00, 56.80it/s]\n"
     ]
    },
    {
     "name": "stdout",
     "output_type": "stream",
     "text": [
      "F1: train: 5.86 test: 6.13\n",
      "Accuracy: train: 0.764 test: 0.885\n",
      "Loss: train: 1.75 test: 1.61\n",
      "epoch: 1\n"
     ]
    },
    {
     "name": "stderr",
     "output_type": "stream",
     "text": [
      "100%|██████████| 1875/1875 [00:47<00:00, 39.45it/s]\n",
      "100%|██████████| 313/313 [00:03<00:00, 78.51it/s]\n"
     ]
    },
    {
     "name": "stdout",
     "output_type": "stream",
     "text": [
      "F1: train: 6.13 test: 6.11\n",
      "Accuracy: train: 0.897 test: 0.908\n",
      "Loss: train: 1.59 test: 1.57\n",
      "epoch: 2\n"
     ]
    },
    {
     "name": "stderr",
     "output_type": "stream",
     "text": [
      "100%|██████████| 1875/1875 [00:44<00:00, 42.09it/s]\n",
      "100%|██████████| 313/313 [00:04<00:00, 67.98it/s]\n"
     ]
    },
    {
     "name": "stdout",
     "output_type": "stream",
     "text": [
      "F1: train: 6.15 test: 6.19\n",
      "Accuracy: train: 0.908 test: 0.913\n",
      "Loss: train: 1.57 test: 1.56\n",
      "epoch: 3\n"
     ]
    },
    {
     "name": "stderr",
     "output_type": "stream",
     "text": [
      "100%|██████████| 1875/1875 [00:44<00:00, 42.01it/s]\n",
      "100%|██████████| 313/313 [00:04<00:00, 77.44it/s]\n"
     ]
    },
    {
     "name": "stdout",
     "output_type": "stream",
     "text": [
      "F1: train: 6.16 test: 6.13\n",
      "Accuracy: train: 0.915 test: 0.921\n",
      "Loss: train: 1.56 test: 1.55\n",
      "epoch: 4\n"
     ]
    },
    {
     "name": "stderr",
     "output_type": "stream",
     "text": [
      "100%|██████████| 1875/1875 [00:43<00:00, 43.26it/s]\n",
      "100%|██████████| 313/313 [00:04<00:00, 76.11it/s]\n"
     ]
    },
    {
     "name": "stdout",
     "output_type": "stream",
     "text": [
      "F1: train: 6.17 test: 6.17\n",
      "Accuracy: train: 0.921 test: 0.925\n",
      "Loss: train: 1.55 test: 1.54\n",
      "epoch: 5\n"
     ]
    },
    {
     "name": "stderr",
     "output_type": "stream",
     "text": [
      "100%|██████████| 1875/1875 [00:42<00:00, 44.44it/s]\n",
      "100%|██████████| 313/313 [00:04<00:00, 74.13it/s]\n"
     ]
    },
    {
     "name": "stdout",
     "output_type": "stream",
     "text": [
      "F1: train: 6.18 test: 6.19\n",
      "Accuracy: train: 0.927 test: 0.931\n",
      "Loss: train: 1.54 test: 1.54\n",
      "epoch: 6\n"
     ]
    },
    {
     "name": "stderr",
     "output_type": "stream",
     "text": [
      "100%|██████████| 1875/1875 [00:48<00:00, 38.52it/s]\n",
      "100%|██████████| 313/313 [00:04<00:00, 66.99it/s]"
     ]
    },
    {
     "name": "stdout",
     "output_type": "stream",
     "text": [
      "F1: train: 6.19 test: 6.21\n",
      "Accuracy: train: 0.931 test: 0.934\n",
      "Loss: train: 1.54 test: 1.53\n"
     ]
    },
    {
     "name": "stderr",
     "output_type": "stream",
     "text": [
      "\n"
     ]
    }
   ],
   "source": [
    "model = Model(\n",
    "    input_dim=28*28,\n",
    "    hidden_dim=420,\n",
    "    out_dim=10,\n",
    "    num_layers=1,\n",
    "    dropout=[False, False, False, False],\n",
    "    dropout_p=0.7,\n",
    "    l2_reg=False\n",
    ")\n",
    "\n",
    "\n",
    "f1_train, f1_test, train_acc, test_acc = model.fit(train_dl, test_dl, epochs=7)"
   ]
  },
  {
   "cell_type": "code",
   "execution_count": 107,
   "outputs": [
    {
     "name": "stdout",
     "output_type": "stream",
     "text": [
      "epoch: 0\n"
     ]
    },
    {
     "name": "stderr",
     "output_type": "stream",
     "text": [
      "100%|██████████| 1875/1875 [00:40<00:00, 45.81it/s]\n",
      "100%|██████████| 313/313 [00:04<00:00, 71.57it/s]\n"
     ]
    },
    {
     "name": "stdout",
     "output_type": "stream",
     "text": [
      "F1: train: 5.7 test: 5.99\n",
      "Accuracy: train: 0.689 test: 0.793\n",
      "Loss: train: 1.83 test: 1.7\n",
      "epoch: 1\n"
     ]
    },
    {
     "name": "stderr",
     "output_type": "stream",
     "text": [
      "100%|██████████| 1875/1875 [00:46<00:00, 40.50it/s]\n",
      "100%|██████████| 313/313 [00:05<00:00, 59.87it/s]\n"
     ]
    },
    {
     "name": "stdout",
     "output_type": "stream",
     "text": [
      "F1: train: 6.03 test: 6.09\n",
      "Accuracy: train: 0.832 test: 0.867\n",
      "Loss: train: 1.66 test: 1.62\n",
      "epoch: 2\n"
     ]
    },
    {
     "name": "stderr",
     "output_type": "stream",
     "text": [
      "100%|██████████| 1875/1875 [00:43<00:00, 42.67it/s]\n",
      "100%|██████████| 313/313 [00:04<00:00, 77.44it/s]\n"
     ]
    },
    {
     "name": "stdout",
     "output_type": "stream",
     "text": [
      "F1: train: 6.07 test: 6.11\n",
      "Accuracy: train: 0.87 test: 0.886\n",
      "Loss: train: 1.61 test: 1.6\n",
      "epoch: 3\n"
     ]
    },
    {
     "name": "stderr",
     "output_type": "stream",
     "text": [
      "100%|██████████| 1875/1875 [00:41<00:00, 45.55it/s]\n",
      "100%|██████████| 313/313 [00:04<00:00, 76.85it/s]\n"
     ]
    },
    {
     "name": "stdout",
     "output_type": "stream",
     "text": [
      "F1: train: 6.1 test: 6.08\n",
      "Accuracy: train: 0.883 test: 0.891\n",
      "Loss: train: 1.6 test: 1.58\n",
      "epoch: 4\n"
     ]
    },
    {
     "name": "stderr",
     "output_type": "stream",
     "text": [
      "100%|██████████| 1875/1875 [00:41<00:00, 45.03it/s]\n",
      "100%|██████████| 313/313 [00:04<00:00, 72.03it/s]\n"
     ]
    },
    {
     "name": "stdout",
     "output_type": "stream",
     "text": [
      "F1: train: 6.11 test: 6.18\n",
      "Accuracy: train: 0.891 test: 0.903\n",
      "Loss: train: 1.59 test: 1.57\n",
      "epoch: 5\n"
     ]
    },
    {
     "name": "stderr",
     "output_type": "stream",
     "text": [
      "100%|██████████| 1875/1875 [00:42<00:00, 44.54it/s]\n",
      "100%|██████████| 313/313 [00:04<00:00, 74.55it/s]\n"
     ]
    },
    {
     "name": "stdout",
     "output_type": "stream",
     "text": [
      "F1: train: 6.13 test: 6.16\n",
      "Accuracy: train: 0.898 test: 0.901\n",
      "Loss: train: 1.58 test: 1.57\n",
      "epoch: 6\n"
     ]
    },
    {
     "name": "stderr",
     "output_type": "stream",
     "text": [
      "100%|██████████| 1875/1875 [00:41<00:00, 45.15it/s]\n",
      "100%|██████████| 313/313 [00:04<00:00, 76.59it/s]\n"
     ]
    },
    {
     "name": "stdout",
     "output_type": "stream",
     "text": [
      "F1: train: 6.13 test: 6.16\n",
      "Accuracy: train: 0.904 test: 0.91\n",
      "Loss: train: 1.57 test: 1.56\n",
      "epoch: 7\n"
     ]
    },
    {
     "name": "stderr",
     "output_type": "stream",
     "text": [
      "100%|██████████| 1875/1875 [00:43<00:00, 43.26it/s]\n",
      "100%|██████████| 313/313 [00:04<00:00, 73.86it/s]\n"
     ]
    },
    {
     "name": "stdout",
     "output_type": "stream",
     "text": [
      "F1: train: 6.15 test: 6.18\n",
      "Accuracy: train: 0.909 test: 0.912\n",
      "Loss: train: 1.56 test: 1.56\n",
      "epoch: 8\n"
     ]
    },
    {
     "name": "stderr",
     "output_type": "stream",
     "text": [
      "100%|██████████| 1875/1875 [00:42<00:00, 44.08it/s]\n",
      "100%|██████████| 313/313 [00:04<00:00, 71.32it/s]\n"
     ]
    },
    {
     "name": "stdout",
     "output_type": "stream",
     "text": [
      "F1: train: 6.16 test: 6.15\n",
      "Accuracy: train: 0.913 test: 0.915\n",
      "Loss: train: 1.56 test: 1.55\n",
      "epoch: 9\n"
     ]
    },
    {
     "name": "stderr",
     "output_type": "stream",
     "text": [
      "100%|██████████| 1875/1875 [00:41<00:00, 44.82it/s]\n",
      "100%|██████████| 313/313 [00:04<00:00, 74.34it/s]\n"
     ]
    },
    {
     "name": "stdout",
     "output_type": "stream",
     "text": [
      "F1: train: 6.16 test: 6.16\n",
      "Accuracy: train: 0.915 test: 0.92\n",
      "Loss: train: 1.56 test: 1.55\n"
     ]
    }
   ],
   "source": [
    "model = Model(\n",
    "    input_dim=28*28,\n",
    "    hidden_dim=420,\n",
    "    out_dim=10,\n",
    "    num_layers=1,\n",
    "    dropout=[True, True, True, False],\n",
    "    dropout_p=0.7,\n",
    "    l2_reg=False\n",
    ")\n",
    "\n",
    "\n",
    "f1_train_shallow_reg, f1_test_shallow_reg, train_acc_shallow_reg, test_acc_shallow_reg = model.fit(train_dl, test_dl, epochs=10)"
   ],
   "metadata": {
    "collapsed": false
   }
  },
  {
   "cell_type": "code",
   "execution_count": 116,
   "outputs": [
    {
     "data": {
      "text/plain": "Text(0.5, 1.0, 'F1 test')"
     },
     "execution_count": 116,
     "metadata": {},
     "output_type": "execute_result"
    },
    {
     "data": {
      "text/plain": "<Figure size 1000x1000 with 4 Axes>",
      "image/png": "[encoded data removed]"
     },
     "metadata": {},
     "output_type": "display_data"
    }
   ],
   "source": [
    "# plot\n",
    "fig, ax = plt.subplots(2, 2, figsize=(10, 10))\n",
    "\n",
    "# accuracy\n",
    "ax[0][0].plot(train_acc_shallow_reg, label='shallow reg')\n",
    "ax[0][0].plot(train_acc, label='shallow')\n",
    "ax[0][0].plot(train_acc_deep, label='deep')\n",
    "ax[0][0].plot(train_acc_deep_reg, label='deep reg')\n",
    "ax[0][0].legend()\n",
    "ax[0][0].set_title('Accuracy train')\n",
    "# train\n",
    "ax[0][1].plot(test_acc_shallow_reg, label='shallow reg')\n",
    "ax[0][1].plot(test_acc, label='shallow')\n",
    "ax[0][1].plot(test_acc_deep, label='deep')\n",
    "ax[0][1].plot(test_acc_deep_reg, label='deep reg')\n",
    "ax[0][1].legend()\n",
    "ax[0][1].set_title('Accuracy test')\n",
    "\n",
    "# f1\n",
    "ax[1][0].plot(f1_train_shallow_reg, label='shallow reg')\n",
    "ax[1][0].plot(f1_train, label='shallow')\n",
    "ax[1][0].plot(f1_train_deep, label='deep')\n",
    "ax[1][0].plot(f1_train_deep_reg, label='deep reg')\n",
    "ax[1][0].legend()\n",
    "ax[1][0].set_title('F1 train')\n",
    "# train\n",
    "ax[1][1].plot(f1_test_shallow_reg, label='shallow reg')\n",
    "ax[1][1].plot(f1_test, label='shallow')\n",
    "ax[1][1].plot(f1_test_deep, label='deep')\n",
    "ax[1][1].plot(f1_test_deep_reg, label='deep reg')\n",
    "ax[1][1].legend()\n",
    "ax[1][1].set_title('F1 test')"
   ],
   "metadata": {
    "collapsed": false
   }
  },
  {
   "cell_type": "markdown",
   "source": [
    "While we expected the accuracies to the regularized models to have worse training accuracies than the non-regularized, we are surprised that the regularization did not improve (it even worsen) the test accuracies.\n",
    "\n",
    "We kept our hyperparameter the same for all models, in order to removed unwanted biases"
   ],
   "metadata": {
    "collapsed": false
   }
  },
  {
   "cell_type": "markdown",
   "source": [
    "### 7.5.3 Get the best model! (1 + 1 point (bonus))\n",
    "\n",
    "* Present your model during a tutorial session. Justify your decisions when designing your model/solution.\n",
    "* If you achieve one of the top N results, you get yet another extra point!"
   ],
   "metadata": {
    "collapsed": false
   }
  },
  {
   "cell_type": "code",
   "execution_count": 119,
   "outputs": [
    {
     "name": "stdout",
     "output_type": "stream",
     "text": [
      "epoch: 0\n"
     ]
    },
    {
     "name": "stderr",
     "output_type": "stream",
     "text": [
      "100%|██████████| 1875/1875 [01:31<00:00, 20.45it/s]\n",
      "100%|██████████| 313/313 [00:05<00:00, 61.80it/s]\n"
     ]
    },
    {
     "name": "stdout",
     "output_type": "stream",
     "text": [
      "F1: train: 5.84 test: 6.08\n",
      "Accuracy: train: 0.73 test: 0.876\n",
      "Loss: train: 1.74 test: 1.59\n",
      "epoch: 1\n"
     ]
    },
    {
     "name": "stderr",
     "output_type": "stream",
     "text": [
      "100%|██████████| 1875/1875 [01:38<00:00, 19.08it/s]\n",
      "100%|██████████| 313/313 [00:05<00:00, 56.86it/s]\n"
     ]
    },
    {
     "name": "stdout",
     "output_type": "stream",
     "text": [
      "F1: train: 6.12 test: 6.13\n",
      "Accuracy: train: 0.886 test: 0.903\n",
      "Loss: train: 1.58 test: 1.56\n",
      "epoch: 2\n"
     ]
    },
    {
     "name": "stderr",
     "output_type": "stream",
     "text": [
      "100%|██████████| 1875/1875 [01:51<00:00, 16.77it/s]\n",
      "100%|██████████| 313/313 [00:05<00:00, 59.27it/s]\n"
     ]
    },
    {
     "name": "stdout",
     "output_type": "stream",
     "text": [
      "F1: train: 6.15 test: 6.22\n",
      "Accuracy: train: 0.914 test: 0.921\n",
      "Loss: train: 1.55 test: 1.54\n",
      "epoch: 3\n"
     ]
    },
    {
     "name": "stderr",
     "output_type": "stream",
     "text": [
      "100%|██████████| 1875/1875 [01:55<00:00, 16.17it/s]\n",
      "100%|██████████| 313/313 [00:06<00:00, 46.83it/s]\n"
     ]
    },
    {
     "name": "stdout",
     "output_type": "stream",
     "text": [
      "F1: train: 6.17 test: 6.17\n",
      "Accuracy: train: 0.926 test: 0.937\n",
      "Loss: train: 1.54 test: 1.52\n",
      "epoch: 4\n"
     ]
    },
    {
     "name": "stderr",
     "output_type": "stream",
     "text": [
      "100%|██████████| 1875/1875 [02:04<00:00, 15.05it/s]\n",
      "100%|██████████| 313/313 [00:05<00:00, 56.69it/s]\n"
     ]
    },
    {
     "name": "stdout",
     "output_type": "stream",
     "text": [
      "F1: train: 6.19 test: 6.23\n",
      "Accuracy: train: 0.936 test: 0.944\n",
      "Loss: train: 1.53 test: 1.52\n",
      "epoch: 5\n"
     ]
    },
    {
     "name": "stderr",
     "output_type": "stream",
     "text": [
      "100%|██████████| 1875/1875 [02:01<00:00, 15.46it/s]\n",
      "100%|██████████| 313/313 [00:05<00:00, 54.98it/s]\n"
     ]
    },
    {
     "name": "stdout",
     "output_type": "stream",
     "text": [
      "F1: train: 6.21 test: 6.21\n",
      "Accuracy: train: 0.94 test: 0.935\n",
      "Loss: train: 1.52 test: 1.53\n",
      "epoch: 6\n"
     ]
    },
    {
     "name": "stderr",
     "output_type": "stream",
     "text": [
      "100%|██████████| 1875/1875 [02:07<00:00, 14.70it/s]\n",
      "100%|██████████| 313/313 [00:06<00:00, 47.97it/s]\n"
     ]
    },
    {
     "name": "stdout",
     "output_type": "stream",
     "text": [
      "F1: train: 6.21 test: 6.21\n",
      "Accuracy: train: 0.944 test: 0.951\n",
      "Loss: train: 1.52 test: 1.51\n",
      "epoch: 7\n"
     ]
    },
    {
     "name": "stderr",
     "output_type": "stream",
     "text": [
      "100%|██████████| 1875/1875 [02:10<00:00, 14.34it/s]\n",
      "100%|██████████| 313/313 [00:05<00:00, 56.16it/s]\n"
     ]
    },
    {
     "name": "stdout",
     "output_type": "stream",
     "text": [
      "F1: train: 6.22 test: 6.25\n",
      "Accuracy: train: 0.948 test: 0.948\n",
      "Loss: train: 1.51 test: 1.51\n",
      "epoch: 8\n"
     ]
    },
    {
     "name": "stderr",
     "output_type": "stream",
     "text": [
      "100%|██████████| 1875/1875 [02:10<00:00, 14.34it/s]\n",
      "100%|██████████| 313/313 [00:05<00:00, 56.67it/s]\n"
     ]
    },
    {
     "name": "stdout",
     "output_type": "stream",
     "text": [
      "F1: train: 6.22 test: 6.19\n",
      "Accuracy: train: 0.951 test: 0.953\n",
      "Loss: train: 1.51 test: 1.51\n",
      "epoch: 9\n"
     ]
    },
    {
     "name": "stderr",
     "output_type": "stream",
     "text": [
      "100%|██████████| 1875/1875 [02:12<00:00, 14.13it/s]\n",
      "100%|██████████| 313/313 [00:05<00:00, 55.63it/s]\n"
     ]
    },
    {
     "name": "stdout",
     "output_type": "stream",
     "text": [
      "F1: train: 6.23 test: 6.11\n",
      "Accuracy: train: 0.952 test: 0.934\n",
      "Loss: train: 1.51 test: 1.53\n"
     ]
    }
   ],
   "source": [
    "# the deep model is the best\n",
    "model = Model(\n",
    "    input_dim=28*28,\n",
    "    hidden_dim=512,\n",
    "    out_dim=10,\n",
    "    num_layers=5,\n",
    "    dropout=[False, False, True, False, False],\n",
    "    dropout_p=0.5,\n",
    "    l2_reg=True\n",
    ")\n",
    "\n",
    "\n",
    "f1_train_shallow_reg, f1_test_shallow_reg, train_acc_shallow_reg, test_acc_shallow_reg = model.fit(train_dl, test_dl, epochs=10)"
   ],
   "metadata": {
    "collapsed": false
   }
  },
  {
   "cell_type": "code",
   "execution_count": null,
   "outputs": [],
   "source": [],
   "metadata": {
    "collapsed": false
   }
  }
 ],
 "metadata": {
  "kernelspec": {
   "display_name": "Python 3 (ipykernel)",
   "language": "python",
   "name": "python3"
  },
  "language_info": {
   "codemirror_mode": {
    "name": "ipython",
    "version": 3
   },
   "file_extension": ".py",
   "mimetype": "text/x-python",
   "name": "python",
   "nbconvert_exporter": "python",
   "pygments_lexer": "ipython3",
   "version": "3.9.6"
  }
 },
 "nbformat": 4,
 "nbformat_minor": 5
}
